{
 "cells": [
  {
   "cell_type": "code",
   "execution_count": 1,
   "metadata": {
    "collapsed": true
   },
   "outputs": [],
   "source": [
    "import pandas as pd \n",
    "%matplotlib inline\n",
    "import matplotlib.pyplot as plt\n",
    "from sklearn.tree import DecisionTreeRegressor\n",
    "treereg = DecisionTreeRegressor(random_state=1)\n",
    "from sklearn.ensemble import RandomForestRegressor\n",
    "rfreg = RandomForestRegressor()\n",
    "from sklearn.linear_model import LinearRegression\n",
    "linreg = LinearRegression()\n",
    "from sklearn.model_selection import cross_val_score\n",
    "import numpy as np\n",
    "from sklearn import decomposition\n",
    "from sklearn.decomposition import PCA"
   ]
  },
  {
   "cell_type": "markdown",
   "metadata": {},
   "source": [
    "## Data Preparation"
   ]
  },
  {
   "cell_type": "code",
   "execution_count": 2,
   "metadata": {},
   "outputs": [
    {
     "data": {
      "text/html": [
       "<div>\n",
       "<style>\n",
       "    .dataframe thead tr:only-child th {\n",
       "        text-align: right;\n",
       "    }\n",
       "\n",
       "    .dataframe thead th {\n",
       "        text-align: left;\n",
       "    }\n",
       "\n",
       "    .dataframe tbody tr th {\n",
       "        vertical-align: top;\n",
       "    }\n",
       "</style>\n",
       "<table border=\"1\" class=\"dataframe\">\n",
       "  <thead>\n",
       "    <tr style=\"text-align: right;\">\n",
       "      <th></th>\n",
       "      <th>advertiser_name</th>\n",
       "      <th>ad_type</th>\n",
       "      <th>optimization_type</th>\n",
       "      <th>category</th>\n",
       "      <th>spend</th>\n",
       "      <th>price</th>\n",
       "      <th>rating</th>\n",
       "      <th>reviews</th>\n",
       "      <th>roas</th>\n",
       "      <th>startmonth</th>\n",
       "      <th>endmonth</th>\n",
       "      <th>campaignlength</th>\n",
       "      <th>dailyspend</th>\n",
       "    </tr>\n",
       "  </thead>\n",
       "  <tbody>\n",
       "    <tr>\n",
       "      <th>0</th>\n",
       "      <td>'47 - US</td>\n",
       "      <td>0</td>\n",
       "      <td>PURCHASE</td>\n",
       "      <td>Sports &amp; Outdoors</td>\n",
       "      <td>35476.2197</td>\n",
       "      <td>25.886</td>\n",
       "      <td>4.175</td>\n",
       "      <td>11.25</td>\n",
       "      <td>0.091543</td>\n",
       "      <td>7</td>\n",
       "      <td>10</td>\n",
       "      <td>61</td>\n",
       "      <td>581.577372</td>\n",
       "    </tr>\n",
       "    <tr>\n",
       "      <th>1</th>\n",
       "      <td>'47 - US</td>\n",
       "      <td>1</td>\n",
       "      <td>PURCHASE</td>\n",
       "      <td>Sports &amp; Outdoors</td>\n",
       "      <td>16247.8171</td>\n",
       "      <td>25.886</td>\n",
       "      <td>4.175</td>\n",
       "      <td>11.25</td>\n",
       "      <td>0.073973</td>\n",
       "      <td>7</td>\n",
       "      <td>10</td>\n",
       "      <td>61</td>\n",
       "      <td>266.357657</td>\n",
       "    </tr>\n",
       "    <tr>\n",
       "      <th>2</th>\n",
       "      <td>1Byone Products Inc. - US</td>\n",
       "      <td>0</td>\n",
       "      <td>PURCHASE</td>\n",
       "      <td>Electronics</td>\n",
       "      <td>6173.8120</td>\n",
       "      <td>24.990</td>\n",
       "      <td>3.800</td>\n",
       "      <td>14351.00</td>\n",
       "      <td>2.280139</td>\n",
       "      <td>8</td>\n",
       "      <td>12</td>\n",
       "      <td>92</td>\n",
       "      <td>67.106652</td>\n",
       "    </tr>\n",
       "    <tr>\n",
       "      <th>3</th>\n",
       "      <td>1Byone Products Inc. - US</td>\n",
       "      <td>1</td>\n",
       "      <td>NONE</td>\n",
       "      <td>Electronics</td>\n",
       "      <td>84.1424</td>\n",
       "      <td>24.990</td>\n",
       "      <td>3.800</td>\n",
       "      <td>14351.00</td>\n",
       "      <td>1.009836</td>\n",
       "      <td>8</td>\n",
       "      <td>12</td>\n",
       "      <td>92</td>\n",
       "      <td>0.914591</td>\n",
       "    </tr>\n",
       "    <tr>\n",
       "      <th>4</th>\n",
       "      <td>1Byone Products Inc. - US</td>\n",
       "      <td>1</td>\n",
       "      <td>PURCHASE</td>\n",
       "      <td>Electronics</td>\n",
       "      <td>9041.5191</td>\n",
       "      <td>24.990</td>\n",
       "      <td>3.800</td>\n",
       "      <td>14351.00</td>\n",
       "      <td>5.327595</td>\n",
       "      <td>8</td>\n",
       "      <td>12</td>\n",
       "      <td>92</td>\n",
       "      <td>98.277382</td>\n",
       "    </tr>\n",
       "  </tbody>\n",
       "</table>\n",
       "</div>"
      ],
      "text/plain": [
       "             advertiser_name  ad_type optimization_type           category  \\\n",
       "0                   '47 - US        0          PURCHASE  Sports & Outdoors   \n",
       "1                   '47 - US        1          PURCHASE  Sports & Outdoors   \n",
       "2  1Byone Products Inc. - US        0          PURCHASE        Electronics   \n",
       "3  1Byone Products Inc. - US        1              NONE        Electronics   \n",
       "4  1Byone Products Inc. - US        1          PURCHASE        Electronics   \n",
       "\n",
       "        spend   price  rating   reviews      roas  startmonth  endmonth  \\\n",
       "0  35476.2197  25.886   4.175     11.25  0.091543           7        10   \n",
       "1  16247.8171  25.886   4.175     11.25  0.073973           7        10   \n",
       "2   6173.8120  24.990   3.800  14351.00  2.280139           8        12   \n",
       "3     84.1424  24.990   3.800  14351.00  1.009836           8        12   \n",
       "4   9041.5191  24.990   3.800  14351.00  5.327595           8        12   \n",
       "\n",
       "   campaignlength  dailyspend  \n",
       "0              61  581.577372  \n",
       "1              61  266.357657  \n",
       "2              92   67.106652  \n",
       "3              92    0.914591  \n",
       "4              92   98.277382  "
      ]
     },
     "execution_count": 2,
     "metadata": {},
     "output_type": "execute_result"
    }
   ],
   "source": [
    "campaigns = pd.read_csv(\"completecampaigns.csv\")\n",
    "purchase = campaigns[(campaigns.optimization_type == 'PURCHASE') | (campaigns.optimization_type == 'NONE')]\n",
    "purchase = purchase.drop(['ad_campaign_id','campaign_name','impressions','clicks','dpv_total','order_count_total','units_sold_total','product_sales_$_total'], axis=1)\n",
    "purchase['ad_type'] = pd.factorize(purchase.ad_type)[0]\n",
    "purchase['campaign_start'] = pd.to_datetime(purchase['campaign_start'])\n",
    "purchase['campaign_end'] = pd.to_datetime(purchase['campaign_end'])\n",
    "purchase['roas'] = pd.to_numeric(purchase['roas'])\n",
    "purchase['startmonth'] = purchase.campaign_start.dt.month\n",
    "purchase['endmonth'] = purchase.campaign_end.dt.month\n",
    "purchase['campaignlength'] = (purchase.campaign_end - purchase.campaign_start)\n",
    "purchase['campaignlength'] = purchase.campaignlength.dt.days\n",
    "purchase = purchase[(purchase.campaignlength >= 1 )]\n",
    "purchase['dailyspend'] = (purchase.spend / purchase.campaignlength)\n",
    "purchase = purchase.dropna(axis=0, how='any')\n",
    "purchase = purchase.drop(['campaign_start','campaign_end'], axis=1)\n",
    "purchase = purchase.dropna(axis=0, how='any')\n",
    "purchase.head()"
   ]
  },
  {
   "cell_type": "code",
   "execution_count": 3,
   "metadata": {},
   "outputs": [
    {
     "data": {
      "text/html": [
       "<div>\n",
       "<style>\n",
       "    .dataframe thead tr:only-child th {\n",
       "        text-align: right;\n",
       "    }\n",
       "\n",
       "    .dataframe thead th {\n",
       "        text-align: left;\n",
       "    }\n",
       "\n",
       "    .dataframe tbody tr th {\n",
       "        vertical-align: top;\n",
       "    }\n",
       "</style>\n",
       "<table border=\"1\" class=\"dataframe\">\n",
       "  <thead>\n",
       "    <tr style=\"text-align: right;\">\n",
       "      <th></th>\n",
       "      <th>advertiser_name</th>\n",
       "      <th>ad_type</th>\n",
       "      <th>optimization_type</th>\n",
       "      <th>category</th>\n",
       "      <th>spend</th>\n",
       "      <th>price</th>\n",
       "      <th>rating</th>\n",
       "      <th>reviews</th>\n",
       "      <th>roas</th>\n",
       "      <th>startmonth</th>\n",
       "      <th>...</th>\n",
       "      <th>category_Patio, Lawn &amp; Garden</th>\n",
       "      <th>category_Pet Supplies</th>\n",
       "      <th>category_Power &amp; Hand Tools</th>\n",
       "      <th>category_Small Appliance Parts &amp; Accessories</th>\n",
       "      <th>category_Software</th>\n",
       "      <th>category_Sports &amp; Fitness</th>\n",
       "      <th>category_Sports &amp; Outdoors</th>\n",
       "      <th>category_Tools &amp; Home Improvement</th>\n",
       "      <th>category_Toys &amp; Games</th>\n",
       "      <th>category_Video Games</th>\n",
       "    </tr>\n",
       "  </thead>\n",
       "  <tbody>\n",
       "    <tr>\n",
       "      <th>0</th>\n",
       "      <td>'47 - US</td>\n",
       "      <td>0</td>\n",
       "      <td>PURCHASE</td>\n",
       "      <td>Sports &amp; Outdoors</td>\n",
       "      <td>35476.2197</td>\n",
       "      <td>25.886</td>\n",
       "      <td>4.175</td>\n",
       "      <td>11.25</td>\n",
       "      <td>0.091543</td>\n",
       "      <td>7</td>\n",
       "      <td>...</td>\n",
       "      <td>0</td>\n",
       "      <td>0</td>\n",
       "      <td>0</td>\n",
       "      <td>0</td>\n",
       "      <td>0</td>\n",
       "      <td>0</td>\n",
       "      <td>1</td>\n",
       "      <td>0</td>\n",
       "      <td>0</td>\n",
       "      <td>0</td>\n",
       "    </tr>\n",
       "    <tr>\n",
       "      <th>1</th>\n",
       "      <td>'47 - US</td>\n",
       "      <td>1</td>\n",
       "      <td>PURCHASE</td>\n",
       "      <td>Sports &amp; Outdoors</td>\n",
       "      <td>16247.8171</td>\n",
       "      <td>25.886</td>\n",
       "      <td>4.175</td>\n",
       "      <td>11.25</td>\n",
       "      <td>0.073973</td>\n",
       "      <td>7</td>\n",
       "      <td>...</td>\n",
       "      <td>0</td>\n",
       "      <td>0</td>\n",
       "      <td>0</td>\n",
       "      <td>0</td>\n",
       "      <td>0</td>\n",
       "      <td>0</td>\n",
       "      <td>1</td>\n",
       "      <td>0</td>\n",
       "      <td>0</td>\n",
       "      <td>0</td>\n",
       "    </tr>\n",
       "    <tr>\n",
       "      <th>2</th>\n",
       "      <td>1Byone Products Inc. - US</td>\n",
       "      <td>0</td>\n",
       "      <td>PURCHASE</td>\n",
       "      <td>Electronics</td>\n",
       "      <td>6173.8120</td>\n",
       "      <td>24.990</td>\n",
       "      <td>3.800</td>\n",
       "      <td>14351.00</td>\n",
       "      <td>2.280139</td>\n",
       "      <td>8</td>\n",
       "      <td>...</td>\n",
       "      <td>0</td>\n",
       "      <td>0</td>\n",
       "      <td>0</td>\n",
       "      <td>0</td>\n",
       "      <td>0</td>\n",
       "      <td>0</td>\n",
       "      <td>0</td>\n",
       "      <td>0</td>\n",
       "      <td>0</td>\n",
       "      <td>0</td>\n",
       "    </tr>\n",
       "    <tr>\n",
       "      <th>3</th>\n",
       "      <td>1Byone Products Inc. - US</td>\n",
       "      <td>1</td>\n",
       "      <td>NONE</td>\n",
       "      <td>Electronics</td>\n",
       "      <td>84.1424</td>\n",
       "      <td>24.990</td>\n",
       "      <td>3.800</td>\n",
       "      <td>14351.00</td>\n",
       "      <td>1.009836</td>\n",
       "      <td>8</td>\n",
       "      <td>...</td>\n",
       "      <td>0</td>\n",
       "      <td>0</td>\n",
       "      <td>0</td>\n",
       "      <td>0</td>\n",
       "      <td>0</td>\n",
       "      <td>0</td>\n",
       "      <td>0</td>\n",
       "      <td>0</td>\n",
       "      <td>0</td>\n",
       "      <td>0</td>\n",
       "    </tr>\n",
       "    <tr>\n",
       "      <th>4</th>\n",
       "      <td>1Byone Products Inc. - US</td>\n",
       "      <td>1</td>\n",
       "      <td>PURCHASE</td>\n",
       "      <td>Electronics</td>\n",
       "      <td>9041.5191</td>\n",
       "      <td>24.990</td>\n",
       "      <td>3.800</td>\n",
       "      <td>14351.00</td>\n",
       "      <td>5.327595</td>\n",
       "      <td>8</td>\n",
       "      <td>...</td>\n",
       "      <td>0</td>\n",
       "      <td>0</td>\n",
       "      <td>0</td>\n",
       "      <td>0</td>\n",
       "      <td>0</td>\n",
       "      <td>0</td>\n",
       "      <td>0</td>\n",
       "      <td>0</td>\n",
       "      <td>0</td>\n",
       "      <td>0</td>\n",
       "    </tr>\n",
       "  </tbody>\n",
       "</table>\n",
       "<p>5 rows × 42 columns</p>\n",
       "</div>"
      ],
      "text/plain": [
       "             advertiser_name  ad_type optimization_type           category  \\\n",
       "0                   '47 - US        0          PURCHASE  Sports & Outdoors   \n",
       "1                   '47 - US        1          PURCHASE  Sports & Outdoors   \n",
       "2  1Byone Products Inc. - US        0          PURCHASE        Electronics   \n",
       "3  1Byone Products Inc. - US        1              NONE        Electronics   \n",
       "4  1Byone Products Inc. - US        1          PURCHASE        Electronics   \n",
       "\n",
       "        spend   price  rating   reviews      roas  startmonth  \\\n",
       "0  35476.2197  25.886   4.175     11.25  0.091543           7   \n",
       "1  16247.8171  25.886   4.175     11.25  0.073973           7   \n",
       "2   6173.8120  24.990   3.800  14351.00  2.280139           8   \n",
       "3     84.1424  24.990   3.800  14351.00  1.009836           8   \n",
       "4   9041.5191  24.990   3.800  14351.00  5.327595           8   \n",
       "\n",
       "           ...           category_Patio, Lawn & Garden  category_Pet Supplies  \\\n",
       "0          ...                                       0                      0   \n",
       "1          ...                                       0                      0   \n",
       "2          ...                                       0                      0   \n",
       "3          ...                                       0                      0   \n",
       "4          ...                                       0                      0   \n",
       "\n",
       "   category_Power & Hand Tools  category_Small Appliance Parts & Accessories  \\\n",
       "0                            0                                             0   \n",
       "1                            0                                             0   \n",
       "2                            0                                             0   \n",
       "3                            0                                             0   \n",
       "4                            0                                             0   \n",
       "\n",
       "   category_Software  category_Sports & Fitness  category_Sports & Outdoors  \\\n",
       "0                  0                          0                           1   \n",
       "1                  0                          0                           1   \n",
       "2                  0                          0                           0   \n",
       "3                  0                          0                           0   \n",
       "4                  0                          0                           0   \n",
       "\n",
       "   category_Tools & Home Improvement  category_Toys & Games  \\\n",
       "0                                  0                      0   \n",
       "1                                  0                      0   \n",
       "2                                  0                      0   \n",
       "3                                  0                      0   \n",
       "4                                  0                      0   \n",
       "\n",
       "   category_Video Games  \n",
       "0                     0  \n",
       "1                     0  \n",
       "2                     0  \n",
       "3                     0  \n",
       "4                     0  \n",
       "\n",
       "[5 rows x 42 columns]"
      ]
     },
     "execution_count": 3,
     "metadata": {},
     "output_type": "execute_result"
    }
   ],
   "source": [
    "#advertiser_dummies = pd.get_dummies(purchase.advertiser_name, prefix='advertiser')\n",
    "cat_dummies = pd.get_dummies(purchase.category, prefix='category')\n",
    "purchasewithdummies = pd.concat([purchase, cat_dummies], axis=1)\n",
    "#purchasewithdummies = pd.concat([purchasewithdummies, advertiser_dummies], axis=1)\n",
    "purchasewithdummies.head()"
   ]
  },
  {
   "cell_type": "code",
   "execution_count": 4,
   "metadata": {
    "collapsed": true
   },
   "outputs": [],
   "source": [
    "feature_cols = ['ad_type','price','rating','reviews','startmonth','endmonth','campaignlength','dailyspend']\n",
    "X = purchase[feature_cols]\n",
    "y = purchase.roas"
   ]
  },
  {
   "cell_type": "code",
   "execution_count": 5,
   "metadata": {
    "collapsed": true
   },
   "outputs": [],
   "source": [
    "X_dummies = purchasewithdummies.drop(['roas','advertiser_name','optimization_type','category','spend'], axis=1)\n",
    "y_dummies = purchasewithdummies.roas"
   ]
  },
  {
   "cell_type": "code",
   "execution_count": 16,
   "metadata": {},
   "outputs": [
    {
     "data": {
      "text/plain": [
       "(5567, 37)"
      ]
     },
     "execution_count": 16,
     "metadata": {},
     "output_type": "execute_result"
    }
   ],
   "source": [
    "X.shape\n",
    "X_dummies.shape"
   ]
  },
  {
   "cell_type": "code",
   "execution_count": 6,
   "metadata": {},
   "outputs": [
    {
     "data": {
      "text/plain": [
       "3.8457266684932647"
      ]
     },
     "execution_count": 6,
     "metadata": {},
     "output_type": "execute_result"
    }
   ],
   "source": [
    "# Should do better than roas mean\n",
    "purchase.roas.mean()"
   ]
  },
  {
   "cell_type": "markdown",
   "metadata": {},
   "source": [
    "## Linear Regression"
   ]
  },
  {
   "cell_type": "code",
   "execution_count": 7,
   "metadata": {},
   "outputs": [
    {
     "data": {
      "text/plain": [
       "10.256388777112321"
      ]
     },
     "execution_count": 7,
     "metadata": {},
     "output_type": "execute_result"
    }
   ],
   "source": [
    "# without dummies, all features\n",
    "linreg.fit(X, y)\n",
    "scores = cross_val_score(linreg, X, y, cv=10, scoring='neg_mean_squared_error')\n",
    "np.mean(np.sqrt(-scores))"
   ]
  },
  {
   "cell_type": "code",
   "execution_count": 8,
   "metadata": {},
   "outputs": [
    {
     "data": {
      "text/plain": [
       "10.305839056617803"
      ]
     },
     "execution_count": 8,
     "metadata": {},
     "output_type": "execute_result"
    }
   ],
   "source": [
    "# with dummies, all features\n",
    "linreg.fit(X_dummies, y_dummies)\n",
    "scores = cross_val_score(linreg, X_dummies, y_dummies, cv=10, scoring='neg_mean_squared_error')\n",
    "np.mean(np.sqrt(-scores))"
   ]
  },
  {
   "cell_type": "markdown",
   "metadata": {},
   "source": [
    "### narrow down features"
   ]
  },
  {
   "cell_type": "markdown",
   "metadata": {},
   "source": [
    "#### without dummies"
   ]
  },
  {
   "cell_type": "code",
   "execution_count": 9,
   "metadata": {},
   "outputs": [
    {
     "data": {
      "text/plain": [
       "(13.177108462497532, 50)"
      ]
     },
     "execution_count": 9,
     "metadata": {},
     "output_type": "execute_result"
    },
    {
     "data": {
      "image/png": "[encoded data removed]",
      "text/plain": [
       "<matplotlib.figure.Figure at 0xbbebf28>"
      ]
     },
     "metadata": {},
     "output_type": "display_data"
    }
   ],
   "source": [
    "# list of values to try for n_estimators\n",
    "estimator_range = range(10, 310, 10)\n",
    "\n",
    "# list to store the average RMSE for each value of n_estimators\n",
    "RMSE_scores = []\n",
    "\n",
    "# use 5-fold cross-validation with each value of n_estimators (WARNING: SLOW!)\n",
    "for estimator in estimator_range:\n",
    "    rfreg = RandomForestRegressor(n_estimators=estimator, random_state=1)\n",
    "    MSE_scores = cross_val_score(rfreg, X, y, cv=5, scoring='neg_mean_squared_error')\n",
    "    RMSE_scores.append(np.mean(np.sqrt(-MSE_scores)))\n",
    "    \n",
    "# plot n_estimators (x-axis) versus RMSE (y-axis)\n",
    "plt.plot(estimator_range, RMSE_scores)\n",
    "plt.xlabel('n_estimators')\n",
    "plt.ylabel('RMSE (lower is better)')\n",
    "\n",
    "# show the best RMSE and the corresponding n_estimator\n",
    "sorted(zip(RMSE_scores, estimator_range))[0]"
   ]
  },
  {
   "cell_type": "code",
   "execution_count": 10,
   "metadata": {},
   "outputs": [
    {
     "data": {
      "text/plain": [
       "(10.502557030822251, 1)"
      ]
     },
     "execution_count": 10,
     "metadata": {},
     "output_type": "execute_result"
    },
    {
     "data": {
      "image/png": "[encoded data removed]",
      "text/plain": [
       "<matplotlib.figure.Figure at 0x1444a358>"
      ]
     },
     "metadata": {},
     "output_type": "display_data"
    }
   ],
   "source": [
    "# list of values to try for max_features\n",
    "feature_range = range(1, 9)\n",
    "\n",
    "# list to store the average RMSE for each value of max_features\n",
    "RMSE_scores = []\n",
    "\n",
    "# use 10-fold cross-validation with each value of max_features (WARNING: SLOW!)\n",
    "for feature in feature_range:\n",
    "    rfreg = RandomForestRegressor(n_estimators=50, max_features=feature, random_state=1)\n",
    "    MSE_scores = cross_val_score(rfreg, X, y, cv=10, scoring='neg_mean_squared_error')\n",
    "    RMSE_scores.append(np.mean(np.sqrt(-MSE_scores)))\n",
    "    \n",
    "# plot max_features (x-axis) versus RMSE (y-axis)\n",
    "plt.plot(feature_range, RMSE_scores)\n",
    "plt.xlabel('max_features')\n",
    "plt.ylabel('RMSE (lower is better)')\n",
    "\n",
    "# show the best RMSE and the corresponding max_features\n",
    "sorted(zip(RMSE_scores, feature_range))[0]"
   ]
  },
  {
   "cell_type": "code",
   "execution_count": 11,
   "metadata": {},
   "outputs": [
    {
     "data": {
      "text/html": [
       "<div>\n",
       "<style>\n",
       "    .dataframe thead tr:only-child th {\n",
       "        text-align: right;\n",
       "    }\n",
       "\n",
       "    .dataframe thead th {\n",
       "        text-align: left;\n",
       "    }\n",
       "\n",
       "    .dataframe tbody tr th {\n",
       "        vertical-align: top;\n",
       "    }\n",
       "</style>\n",
       "<table border=\"1\" class=\"dataframe\">\n",
       "  <thead>\n",
       "    <tr style=\"text-align: right;\">\n",
       "      <th></th>\n",
       "      <th>feature</th>\n",
       "      <th>importance</th>\n",
       "    </tr>\n",
       "  </thead>\n",
       "  <tbody>\n",
       "    <tr>\n",
       "      <th>7</th>\n",
       "      <td>dailyspend</td>\n",
       "      <td>0.297929</td>\n",
       "    </tr>\n",
       "    <tr>\n",
       "      <th>1</th>\n",
       "      <td>price</td>\n",
       "      <td>0.172440</td>\n",
       "    </tr>\n",
       "    <tr>\n",
       "      <th>3</th>\n",
       "      <td>reviews</td>\n",
       "      <td>0.161519</td>\n",
       "    </tr>\n",
       "    <tr>\n",
       "      <th>6</th>\n",
       "      <td>campaignlength</td>\n",
       "      <td>0.127341</td>\n",
       "    </tr>\n",
       "    <tr>\n",
       "      <th>2</th>\n",
       "      <td>rating</td>\n",
       "      <td>0.105515</td>\n",
       "    </tr>\n",
       "    <tr>\n",
       "      <th>5</th>\n",
       "      <td>endmonth</td>\n",
       "      <td>0.059674</td>\n",
       "    </tr>\n",
       "    <tr>\n",
       "      <th>4</th>\n",
       "      <td>startmonth</td>\n",
       "      <td>0.053523</td>\n",
       "    </tr>\n",
       "    <tr>\n",
       "      <th>0</th>\n",
       "      <td>ad_type</td>\n",
       "      <td>0.022058</td>\n",
       "    </tr>\n",
       "  </tbody>\n",
       "</table>\n",
       "</div>"
      ],
      "text/plain": [
       "          feature  importance\n",
       "7      dailyspend    0.297929\n",
       "1           price    0.172440\n",
       "3         reviews    0.161519\n",
       "6  campaignlength    0.127341\n",
       "2          rating    0.105515\n",
       "5        endmonth    0.059674\n",
       "4      startmonth    0.053523\n",
       "0         ad_type    0.022058"
      ]
     },
     "execution_count": 11,
     "metadata": {},
     "output_type": "execute_result"
    }
   ],
   "source": [
    "# n_estimators = 50 and max_features = 1\n",
    "rfreg = RandomForestRegressor(n_estimators=50, max_features=1, oob_score=True, random_state=1)\n",
    "rfreg.fit(X, y)\n",
    "\n",
    "pd.DataFrame({'feature':feature_cols, 'importance':rfreg.feature_importances_}).sort_values('importance', ascending=False)"
   ]
  },
  {
   "cell_type": "code",
   "execution_count": 12,
   "metadata": {},
   "outputs": [
    {
     "data": {
      "text/plain": [
       "10.502557030822251"
      ]
     },
     "execution_count": 12,
     "metadata": {},
     "output_type": "execute_result"
    }
   ],
   "source": [
    "#All features Random Forest\n",
    "rfreg = RandomForestRegressor(n_estimators=50, max_features=1, oob_score=True, random_state=1)\n",
    "rfreg.fit(X, y)\n",
    "scores = cross_val_score(rfreg, X, y, cv=10, scoring='neg_mean_squared_error')\n",
    "np.mean(np.sqrt(-scores))"
   ]
  },
  {
   "cell_type": "code",
   "execution_count": 13,
   "metadata": {},
   "outputs": [
    {
     "data": {
      "text/plain": [
       "10.789490983220992"
      ]
     },
     "execution_count": 13,
     "metadata": {},
     "output_type": "execute_result"
    }
   ],
   "source": [
    "# Important features random forest\n",
    "\n",
    "X_important = X[['dailyspend','reviews','price','campaignlength','rating','endmonth','startmonth']]\n",
    "rfreg.fit(X_important, y)\n",
    "scores = cross_val_score(rfreg, X_important, y, cv=10, scoring='neg_mean_squared_error')\n",
    "np.mean(np.sqrt(-scores))"
   ]
  },
  {
   "cell_type": "markdown",
   "metadata": {},
   "source": [
    "### Best model so far: "
   ]
  },
  {
   "cell_type": "code",
   "execution_count": 14,
   "metadata": {},
   "outputs": [
    {
     "data": {
      "text/plain": [
       "10.097076833993826"
      ]
     },
     "execution_count": 14,
     "metadata": {},
     "output_type": "execute_result"
    }
   ],
   "source": [
    "# Important features linear regression\n",
    "X_important = X[['reviews','dailyspend','rating','campaignlength']]\n",
    "linreg.fit(X_important, y)\n",
    "scores = cross_val_score(linreg, X_important, y, cv=10, scoring='neg_mean_squared_error')\n",
    "np.mean(np.sqrt(-scores))"
   ]
  },
  {
   "cell_type": "markdown",
   "metadata": {},
   "source": [
    "### With dummies"
   ]
  },
  {
   "cell_type": "code",
   "execution_count": 15,
   "metadata": {},
   "outputs": [
    {
     "data": {
      "text/plain": [
       "(12.170609070607757, 10)"
      ]
     },
     "execution_count": 15,
     "metadata": {},
     "output_type": "execute_result"
    },
    {
     "data": {
      "image/png": "[encoded data removed]",
      "text/plain": [
       "<matplotlib.figure.Figure at 0xb960f28>"
      ]
     },
     "metadata": {},
     "output_type": "display_data"
    }
   ],
   "source": [
    "# list of values to try for n_estimators\n",
    "estimator_range_dum = range(10, 310, 10)\n",
    "\n",
    "# list to store the average RMSE for each value of n_estimators\n",
    "RMSE_scores_dum = []\n",
    "\n",
    "# use 5-fold cross-validation with each value of n_estimators (WARNING: SLOW!)\n",
    "for estimator in estimator_range_dum:\n",
    "    rfreg = RandomForestRegressor(n_estimators=estimator, random_state=1)\n",
    "    MSE_scores_dum = cross_val_score(rfreg, X_dummies, y_dummies, cv=5, scoring='neg_mean_squared_error')\n",
    "    RMSE_scores_dum.append(np.mean(np.sqrt(-MSE_scores)))\n",
    "    \n",
    "# plot n_estimators (x-axis) versus RMSE (y-axis)\n",
    "plt.plot(estimator_range_dum, RMSE_scores_dum)\n",
    "plt.xlabel('n_estimators')\n",
    "plt.ylabel('RMSE (lower is better)')\n",
    "\n",
    "# show the best RMSE and the corresponding n_estimator\n",
    "sorted(zip(RMSE_scores_dum, estimator_range_dum))[0]"
   ]
  },
  {
   "cell_type": "code",
   "execution_count": 17,
   "metadata": {},
   "outputs": [
    {
     "data": {
      "text/plain": [
       "(12.170609070607757, 1)"
      ]
     },
     "execution_count": 17,
     "metadata": {},
     "output_type": "execute_result"
    },
    {
     "data": {
      "image/png": "[encoded data removed]",
      "text/plain": [
       "<matplotlib.figure.Figure at 0xcde5e10>"
      ]
     },
     "metadata": {},
     "output_type": "display_data"
    }
   ],
   "source": [
    "# list of values to try for max_features\n",
    "feature_range_dum = range(1, 38)\n",
    "\n",
    "# list to store the average RMSE for each value of max_features\n",
    "RMSE_scores_dum = []\n",
    "\n",
    "# use 10-fold cross-validation with each value of max_features (WARNING: SLOW!)\n",
    "for feature in feature_range_dum:\n",
    "    rfreg = RandomForestRegressor(n_estimators=10, max_features=feature, random_state=1)\n",
    "    MSE_scores_dum = cross_val_score(rfreg, X_dummies, y_dummies, cv=10, scoring='neg_mean_squared_error')\n",
    "    RMSE_scores_dum.append(np.mean(np.sqrt(-MSE_scores)))\n",
    "    \n",
    "# plot max_features (x-axis) versus RMSE (y-axis)\n",
    "plt.plot(feature_range_dum, RMSE_scores_dum)\n",
    "plt.xlabel('max_features')\n",
    "plt.ylabel('RMSE (lower is better)')\n",
    "\n",
    "# show the best RMSE and the corresponding max_features\n",
    "sorted(zip(RMSE_scores_dum, feature_range_dum))[0]"
   ]
  },
  {
   "cell_type": "code",
   "execution_count": 18,
   "metadata": {},
   "outputs": [
    {
     "name": "stderr",
     "output_type": "stream",
     "text": [
      "C:\\Users\\otag\\AppData\\Local\\Continuum\\anaconda3\\envs\\py27\\lib\\site-packages\\sklearn\\ensemble\\forest.py:724: UserWarning: Some inputs do not have OOB scores. This probably means too few trees were used to compute any reliable oob estimates.\n",
      "  warn(\"Some inputs do not have OOB scores. \"\n"
     ]
    },
    {
     "data": {
      "text/html": [
       "<div>\n",
       "<style>\n",
       "    .dataframe thead tr:only-child th {\n",
       "        text-align: right;\n",
       "    }\n",
       "\n",
       "    .dataframe thead th {\n",
       "        text-align: left;\n",
       "    }\n",
       "\n",
       "    .dataframe tbody tr th {\n",
       "        vertical-align: top;\n",
       "    }\n",
       "</style>\n",
       "<table border=\"1\" class=\"dataframe\">\n",
       "  <thead>\n",
       "    <tr style=\"text-align: right;\">\n",
       "      <th></th>\n",
       "      <th>feature</th>\n",
       "      <th>importance</th>\n",
       "    </tr>\n",
       "  </thead>\n",
       "  <tbody>\n",
       "    <tr>\n",
       "      <th>7</th>\n",
       "      <td>dailyspend</td>\n",
       "      <td>0.291314</td>\n",
       "    </tr>\n",
       "    <tr>\n",
       "      <th>6</th>\n",
       "      <td>campaignlength</td>\n",
       "      <td>0.203345</td>\n",
       "    </tr>\n",
       "    <tr>\n",
       "      <th>3</th>\n",
       "      <td>reviews</td>\n",
       "      <td>0.117047</td>\n",
       "    </tr>\n",
       "    <tr>\n",
       "      <th>1</th>\n",
       "      <td>price</td>\n",
       "      <td>0.101219</td>\n",
       "    </tr>\n",
       "    <tr>\n",
       "      <th>2</th>\n",
       "      <td>rating</td>\n",
       "      <td>0.080494</td>\n",
       "    </tr>\n",
       "    <tr>\n",
       "      <th>4</th>\n",
       "      <td>startmonth</td>\n",
       "      <td>0.057228</td>\n",
       "    </tr>\n",
       "    <tr>\n",
       "      <th>5</th>\n",
       "      <td>endmonth</td>\n",
       "      <td>0.032406</td>\n",
       "    </tr>\n",
       "    <tr>\n",
       "      <th>12</th>\n",
       "      <td>category_Baby Products</td>\n",
       "      <td>0.021141</td>\n",
       "    </tr>\n",
       "    <tr>\n",
       "      <th>36</th>\n",
       "      <td>category_Video Games</td>\n",
       "      <td>0.018479</td>\n",
       "    </tr>\n",
       "    <tr>\n",
       "      <th>0</th>\n",
       "      <td>ad_type</td>\n",
       "      <td>0.016136</td>\n",
       "    </tr>\n",
       "    <tr>\n",
       "      <th>15</th>\n",
       "      <td>category_Clothing, Shoes &amp; Jewelry</td>\n",
       "      <td>0.012225</td>\n",
       "    </tr>\n",
       "    <tr>\n",
       "      <th>21</th>\n",
       "      <td>category_Industrial &amp; Scientific</td>\n",
       "      <td>0.011697</td>\n",
       "    </tr>\n",
       "    <tr>\n",
       "      <th>31</th>\n",
       "      <td>category_Software</td>\n",
       "      <td>0.010645</td>\n",
       "    </tr>\n",
       "    <tr>\n",
       "      <th>19</th>\n",
       "      <td>category_Health &amp; Household</td>\n",
       "      <td>0.004601</td>\n",
       "    </tr>\n",
       "    <tr>\n",
       "      <th>34</th>\n",
       "      <td>category_Tools &amp; Home Improvement</td>\n",
       "      <td>0.004265</td>\n",
       "    </tr>\n",
       "    <tr>\n",
       "      <th>16</th>\n",
       "      <td>category_Electronics</td>\n",
       "      <td>0.003737</td>\n",
       "    </tr>\n",
       "    <tr>\n",
       "      <th>13</th>\n",
       "      <td>category_Beauty &amp; Personal Care</td>\n",
       "      <td>0.002417</td>\n",
       "    </tr>\n",
       "    <tr>\n",
       "      <th>14</th>\n",
       "      <td>category_Cell Phones &amp; Accessories</td>\n",
       "      <td>0.001552</td>\n",
       "    </tr>\n",
       "    <tr>\n",
       "      <th>18</th>\n",
       "      <td>category_Grocery &amp; Gourmet Food</td>\n",
       "      <td>0.001542</td>\n",
       "    </tr>\n",
       "    <tr>\n",
       "      <th>26</th>\n",
       "      <td>category_Office Products</td>\n",
       "      <td>0.001508</td>\n",
       "    </tr>\n",
       "    <tr>\n",
       "      <th>20</th>\n",
       "      <td>category_Home &amp; Kitchen</td>\n",
       "      <td>0.001503</td>\n",
       "    </tr>\n",
       "    <tr>\n",
       "      <th>35</th>\n",
       "      <td>category_Toys &amp; Games</td>\n",
       "      <td>0.001413</td>\n",
       "    </tr>\n",
       "    <tr>\n",
       "      <th>28</th>\n",
       "      <td>category_Pet Supplies</td>\n",
       "      <td>0.001312</td>\n",
       "    </tr>\n",
       "    <tr>\n",
       "      <th>33</th>\n",
       "      <td>category_Sports &amp; Outdoors</td>\n",
       "      <td>0.000903</td>\n",
       "    </tr>\n",
       "    <tr>\n",
       "      <th>27</th>\n",
       "      <td>category_Patio, Lawn &amp; Garden</td>\n",
       "      <td>0.000632</td>\n",
       "    </tr>\n",
       "    <tr>\n",
       "      <th>11</th>\n",
       "      <td>category_Automotive</td>\n",
       "      <td>0.000617</td>\n",
       "    </tr>\n",
       "    <tr>\n",
       "      <th>25</th>\n",
       "      <td>category_Musical Instruments</td>\n",
       "      <td>0.000228</td>\n",
       "    </tr>\n",
       "    <tr>\n",
       "      <th>10</th>\n",
       "      <td>category_Arts, Crafts &amp; Sewing</td>\n",
       "      <td>0.000095</td>\n",
       "    </tr>\n",
       "    <tr>\n",
       "      <th>9</th>\n",
       "      <td>category_Appliances</td>\n",
       "      <td>0.000068</td>\n",
       "    </tr>\n",
       "    <tr>\n",
       "      <th>23</th>\n",
       "      <td>category_Medical Supplies &amp; Equipment</td>\n",
       "      <td>0.000061</td>\n",
       "    </tr>\n",
       "    <tr>\n",
       "      <th>22</th>\n",
       "      <td>category_Kitchen &amp; Dining</td>\n",
       "      <td>0.000058</td>\n",
       "    </tr>\n",
       "    <tr>\n",
       "      <th>29</th>\n",
       "      <td>category_Power &amp; Hand Tools</td>\n",
       "      <td>0.000047</td>\n",
       "    </tr>\n",
       "    <tr>\n",
       "      <th>24</th>\n",
       "      <td>category_Mobility &amp; Daily Living Aids</td>\n",
       "      <td>0.000045</td>\n",
       "    </tr>\n",
       "    <tr>\n",
       "      <th>30</th>\n",
       "      <td>category_Small Appliance Parts &amp; Accessories</td>\n",
       "      <td>0.000008</td>\n",
       "    </tr>\n",
       "    <tr>\n",
       "      <th>8</th>\n",
       "      <td>category_Amazon Devices &amp; Accessories</td>\n",
       "      <td>0.000006</td>\n",
       "    </tr>\n",
       "    <tr>\n",
       "      <th>17</th>\n",
       "      <td>category_Gift Cards</td>\n",
       "      <td>0.000003</td>\n",
       "    </tr>\n",
       "    <tr>\n",
       "      <th>32</th>\n",
       "      <td>category_Sports &amp; Fitness</td>\n",
       "      <td>0.000003</td>\n",
       "    </tr>\n",
       "  </tbody>\n",
       "</table>\n",
       "</div>"
      ],
      "text/plain": [
       "                                         feature  importance\n",
       "7                                     dailyspend    0.291314\n",
       "6                                 campaignlength    0.203345\n",
       "3                                        reviews    0.117047\n",
       "1                                          price    0.101219\n",
       "2                                         rating    0.080494\n",
       "4                                     startmonth    0.057228\n",
       "5                                       endmonth    0.032406\n",
       "12                        category_Baby Products    0.021141\n",
       "36                          category_Video Games    0.018479\n",
       "0                                        ad_type    0.016136\n",
       "15            category_Clothing, Shoes & Jewelry    0.012225\n",
       "21              category_Industrial & Scientific    0.011697\n",
       "31                             category_Software    0.010645\n",
       "19                   category_Health & Household    0.004601\n",
       "34             category_Tools & Home Improvement    0.004265\n",
       "16                          category_Electronics    0.003737\n",
       "13               category_Beauty & Personal Care    0.002417\n",
       "14            category_Cell Phones & Accessories    0.001552\n",
       "18               category_Grocery & Gourmet Food    0.001542\n",
       "26                      category_Office Products    0.001508\n",
       "20                       category_Home & Kitchen    0.001503\n",
       "35                         category_Toys & Games    0.001413\n",
       "28                         category_Pet Supplies    0.001312\n",
       "33                    category_Sports & Outdoors    0.000903\n",
       "27                 category_Patio, Lawn & Garden    0.000632\n",
       "11                           category_Automotive    0.000617\n",
       "25                  category_Musical Instruments    0.000228\n",
       "10                category_Arts, Crafts & Sewing    0.000095\n",
       "9                            category_Appliances    0.000068\n",
       "23         category_Medical Supplies & Equipment    0.000061\n",
       "22                     category_Kitchen & Dining    0.000058\n",
       "29                   category_Power & Hand Tools    0.000047\n",
       "24         category_Mobility & Daily Living Aids    0.000045\n",
       "30  category_Small Appliance Parts & Accessories    0.000008\n",
       "8          category_Amazon Devices & Accessories    0.000006\n",
       "17                           category_Gift Cards    0.000003\n",
       "32                     category_Sports & Fitness    0.000003"
      ]
     },
     "execution_count": 18,
     "metadata": {},
     "output_type": "execute_result"
    }
   ],
   "source": [
    "# n_estimators = 50 and max_features = 1\n",
    "rfreg = RandomForestRegressor(n_estimators=10, max_features=1, oob_score=True, random_state=1)\n",
    "rfreg.fit(X_dummies, y_dummies)\n",
    "\n",
    "pd.DataFrame({'feature':X_dummies.columns, 'importance':rfreg.feature_importances_}).sort_values('importance', ascending=False)"
   ]
  },
  {
   "cell_type": "code",
   "execution_count": 19,
   "metadata": {},
   "outputs": [
    {
     "data": {
      "text/plain": [
       "11.315813646388275"
      ]
     },
     "execution_count": 19,
     "metadata": {},
     "output_type": "execute_result"
    }
   ],
   "source": [
    "#All features Random Forest\n",
    "rfreg = RandomForestRegressor(n_estimators=10, max_features=1, oob_score=True, random_state=1)\n",
    "rfreg.fit(X_dummies, y_dummies)\n",
    "scores = cross_val_score(rfreg, X_dummies, y_dummies, cv=10, scoring='neg_mean_squared_error')\n",
    "np.mean(np.sqrt(-scores))"
   ]
  },
  {
   "cell_type": "code",
   "execution_count": 20,
   "metadata": {},
   "outputs": [
    {
     "data": {
      "text/plain": [
       "12.111249080305731"
      ]
     },
     "execution_count": 20,
     "metadata": {},
     "output_type": "execute_result"
    }
   ],
   "source": [
    "# Important features random forest\n",
    "\n",
    "X_important_dum = X_dummies[['dailyspend','reviews','price','campaignlength','rating','endmonth','startmonth']]\n",
    "rfreg.fit(X_important_dum, y)\n",
    "scores = cross_val_score(rfreg, X_important_dum, y, cv=10, scoring='neg_mean_squared_error')\n",
    "np.mean(np.sqrt(-scores))"
   ]
  },
  {
   "cell_type": "code",
   "execution_count": 31,
   "metadata": {},
   "outputs": [
    {
     "data": {
      "text/plain": [
       "10.097707251773935"
      ]
     },
     "execution_count": 31,
     "metadata": {},
     "output_type": "execute_result"
    }
   ],
   "source": [
    "# Important features linear regression\n",
    "X_important_dum = X_dummies[['dailyspend','reviews','campaignlength']]\n",
    "linreg.fit(X_important_dum, y)\n",
    "scores = cross_val_score(linreg, X_important_dum, y, cv=10, scoring='neg_mean_squared_error')\n",
    "np.mean(np.sqrt(-scores))"
   ]
  },
  {
   "cell_type": "code",
   "execution_count": null,
   "metadata": {
    "collapsed": true
   },
   "outputs": [],
   "source": []
  }
 ],
 "metadata": {
  "kernelspec": {
   "display_name": "Python 2",
   "language": "python",
   "name": "python2"
  },
  "language_info": {
   "codemirror_mode": {
    "name": "ipython",
    "version": 2
   },
   "file_extension": ".py",
   "mimetype": "text/x-python",
   "name": "python",
   "nbconvert_exporter": "python",
   "pygments_lexer": "ipython2",
   "version": "2.7.14"
  }
 },
 "nbformat": 4,
 "nbformat_minor": 2
}
