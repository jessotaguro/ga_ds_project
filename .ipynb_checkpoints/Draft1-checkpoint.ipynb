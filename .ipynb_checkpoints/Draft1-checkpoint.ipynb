{
 "cells": [
  {
   "cell_type": "code",
   "execution_count": 50,
   "metadata": {
    "collapsed": true
   },
   "outputs": [],
   "source": [
    "import pandas as pd \n",
    "%matplotlib inline\n",
    "import matplotlib.pyplot as plt\n",
    "from sklearn.tree import DecisionTreeRegressor\n",
    "treereg = DecisionTreeRegressor(random_state=1)\n",
    "from sklearn.ensemble import RandomForestRegressor\n",
    "rfreg = RandomForestRegressor()\n",
    "from sklearn.linear_model import LinearRegression\n",
    "linreg = LinearRegression()\n",
    "from sklearn.model_selection import cross_val_score\n",
    "import numpy as np\n",
    "from sklearn import decomposition\n",
    "from sklearn.decomposition import PCA\n",
    "\n",
    "#instead of categories, use avg price or rating or reviews per category? \n",
    "#instead of advertiser, use avg price or rating or reviews per advertiser? "
   ]
  },
  {
   "cell_type": "code",
   "execution_count": 2,
   "metadata": {
    "collapsed": true
   },
   "outputs": [],
   "source": [
    "campaigns = pd.read_csv(\"completecampaigns.csv\")\n",
    "purchase = campaigns[(campaigns.optimization_type == 'PURCHASE') | (campaigns.optimization_type == 'NONE')]"
   ]
  },
  {
   "cell_type": "code",
   "execution_count": 3,
   "metadata": {},
   "outputs": [
    {
     "data": {
      "text/html": [
       "<div>\n",
       "<style>\n",
       "    .dataframe thead tr:only-child th {\n",
       "        text-align: right;\n",
       "    }\n",
       "\n",
       "    .dataframe thead th {\n",
       "        text-align: left;\n",
       "    }\n",
       "\n",
       "    .dataframe tbody tr th {\n",
       "        vertical-align: top;\n",
       "    }\n",
       "</style>\n",
       "<table border=\"1\" class=\"dataframe\">\n",
       "  <thead>\n",
       "    <tr style=\"text-align: right;\">\n",
       "      <th></th>\n",
       "      <th>advertiser_name</th>\n",
       "      <th>ad_campaign_id</th>\n",
       "      <th>campaign_name</th>\n",
       "      <th>ad_type</th>\n",
       "      <th>campaign_start</th>\n",
       "      <th>campaign_end</th>\n",
       "      <th>optimization_type</th>\n",
       "      <th>category</th>\n",
       "      <th>impressions</th>\n",
       "      <th>clicks</th>\n",
       "      <th>spend</th>\n",
       "      <th>dpv_total</th>\n",
       "      <th>order_count_total</th>\n",
       "      <th>units_sold_total</th>\n",
       "      <th>product_sales_$_total</th>\n",
       "      <th>price</th>\n",
       "      <th>rating</th>\n",
       "      <th>reviews</th>\n",
       "      <th>roas</th>\n",
       "    </tr>\n",
       "  </thead>\n",
       "  <tbody>\n",
       "    <tr>\n",
       "      <th>0</th>\n",
       "      <td>'47 - US</td>\n",
       "      <td>2658290001</td>\n",
       "      <td>'47 - US_OTS_B2S_2017_AAP_7/27-9/30</td>\n",
       "      <td>AAP</td>\n",
       "      <td>7/31/2017 4:00</td>\n",
       "      <td>10/1/2017 3:59</td>\n",
       "      <td>PURCHASE</td>\n",
       "      <td>Sports &amp; Outdoors</td>\n",
       "      <td>17227274.0</td>\n",
       "      <td>1370.0</td>\n",
       "      <td>35476.2197</td>\n",
       "      <td>1679.0</td>\n",
       "      <td>145.0</td>\n",
       "      <td>148.0</td>\n",
       "      <td>3247.59</td>\n",
       "      <td>25.886</td>\n",
       "      <td>4.175</td>\n",
       "      <td>11.25</td>\n",
       "      <td>0.09154273</td>\n",
       "    </tr>\n",
       "    <tr>\n",
       "      <th>1</th>\n",
       "      <td>'47 - US</td>\n",
       "      <td>2658290001</td>\n",
       "      <td>'47 - US_OTS_B2S_2017_AAP_7/27-9/30</td>\n",
       "      <td>AAP_MOBILE</td>\n",
       "      <td>7/31/2017 4:00</td>\n",
       "      <td>10/1/2017 3:59</td>\n",
       "      <td>PURCHASE</td>\n",
       "      <td>Sports &amp; Outdoors</td>\n",
       "      <td>5544061.0</td>\n",
       "      <td>9620.0</td>\n",
       "      <td>16247.8171</td>\n",
       "      <td>1174.0</td>\n",
       "      <td>50.0</td>\n",
       "      <td>53.0</td>\n",
       "      <td>1201.90</td>\n",
       "      <td>25.886</td>\n",
       "      <td>4.175</td>\n",
       "      <td>11.25</td>\n",
       "      <td>0.073973014</td>\n",
       "    </tr>\n",
       "    <tr>\n",
       "      <th>2</th>\n",
       "      <td>1Byone Products Inc. - US</td>\n",
       "      <td>2782909001</td>\n",
       "      <td>1Byone Products Inc. - US_1ByOne ASIN Level Re...</td>\n",
       "      <td>AAP</td>\n",
       "      <td>8/31/2017 4:00</td>\n",
       "      <td>12/1/2017 4:59</td>\n",
       "      <td>PURCHASE</td>\n",
       "      <td>Electronics</td>\n",
       "      <td>1844835.0</td>\n",
       "      <td>1035.0</td>\n",
       "      <td>6173.8120</td>\n",
       "      <td>5750.0</td>\n",
       "      <td>458.0</td>\n",
       "      <td>487.0</td>\n",
       "      <td>14077.15</td>\n",
       "      <td>24.990</td>\n",
       "      <td>3.800</td>\n",
       "      <td>14351.00</td>\n",
       "      <td>2.280139078</td>\n",
       "    </tr>\n",
       "  </tbody>\n",
       "</table>\n",
       "</div>"
      ],
      "text/plain": [
       "             advertiser_name  ad_campaign_id  \\\n",
       "0                   '47 - US      2658290001   \n",
       "1                   '47 - US      2658290001   \n",
       "2  1Byone Products Inc. - US      2782909001   \n",
       "\n",
       "                                       campaign_name     ad_type  \\\n",
       "0                '47 - US_OTS_B2S_2017_AAP_7/27-9/30         AAP   \n",
       "1                '47 - US_OTS_B2S_2017_AAP_7/27-9/30  AAP_MOBILE   \n",
       "2  1Byone Products Inc. - US_1ByOne ASIN Level Re...         AAP   \n",
       "\n",
       "   campaign_start    campaign_end optimization_type           category  \\\n",
       "0  7/31/2017 4:00  10/1/2017 3:59          PURCHASE  Sports & Outdoors   \n",
       "1  7/31/2017 4:00  10/1/2017 3:59          PURCHASE  Sports & Outdoors   \n",
       "2  8/31/2017 4:00  12/1/2017 4:59          PURCHASE        Electronics   \n",
       "\n",
       "   impressions  clicks       spend  dpv_total  order_count_total  \\\n",
       "0   17227274.0  1370.0  35476.2197     1679.0              145.0   \n",
       "1    5544061.0  9620.0  16247.8171     1174.0               50.0   \n",
       "2    1844835.0  1035.0   6173.8120     5750.0              458.0   \n",
       "\n",
       "   units_sold_total  product_sales_$_total   price  rating   reviews  \\\n",
       "0             148.0                3247.59  25.886   4.175     11.25   \n",
       "1              53.0                1201.90  25.886   4.175     11.25   \n",
       "2             487.0               14077.15  24.990   3.800  14351.00   \n",
       "\n",
       "          roas  \n",
       "0   0.09154273  \n",
       "1  0.073973014  \n",
       "2  2.280139078  "
      ]
     },
     "execution_count": 3,
     "metadata": {},
     "output_type": "execute_result"
    }
   ],
   "source": [
    "purchase.head(3)"
   ]
  },
  {
   "cell_type": "code",
   "execution_count": 4,
   "metadata": {},
   "outputs": [
    {
     "name": "stderr",
     "output_type": "stream",
     "text": [
      "C:\\Users\\otag\\AppData\\Local\\Continuum\\anaconda3\\envs\\py27\\lib\\site-packages\\ipykernel_launcher.py:1: SettingWithCopyWarning: \n",
      "A value is trying to be set on a copy of a slice from a DataFrame.\n",
      "Try using .loc[row_indexer,col_indexer] = value instead\n",
      "\n",
      "See the caveats in the documentation: http://pandas.pydata.org/pandas-docs/stable/indexing.html#indexing-view-versus-copy\n",
      "  \"\"\"Entry point for launching an IPython kernel.\n"
     ]
    }
   ],
   "source": [
    "purchase['ad_type'] = pd.factorize(purchase.ad_type)[0]"
   ]
  },
  {
   "cell_type": "code",
   "execution_count": 5,
   "metadata": {},
   "outputs": [
    {
     "name": "stderr",
     "output_type": "stream",
     "text": [
      "C:\\Users\\otag\\AppData\\Local\\Continuum\\anaconda3\\envs\\py27\\lib\\site-packages\\ipykernel_launcher.py:1: SettingWithCopyWarning: \n",
      "A value is trying to be set on a copy of a slice from a DataFrame.\n",
      "Try using .loc[row_indexer,col_indexer] = value instead\n",
      "\n",
      "See the caveats in the documentation: http://pandas.pydata.org/pandas-docs/stable/indexing.html#indexing-view-versus-copy\n",
      "  \"\"\"Entry point for launching an IPython kernel.\n",
      "C:\\Users\\otag\\AppData\\Local\\Continuum\\anaconda3\\envs\\py27\\lib\\site-packages\\ipykernel_launcher.py:2: SettingWithCopyWarning: \n",
      "A value is trying to be set on a copy of a slice from a DataFrame.\n",
      "Try using .loc[row_indexer,col_indexer] = value instead\n",
      "\n",
      "See the caveats in the documentation: http://pandas.pydata.org/pandas-docs/stable/indexing.html#indexing-view-versus-copy\n",
      "  \n"
     ]
    }
   ],
   "source": [
    "purchase['campaign_start'] = pd.to_datetime(purchase['campaign_start'])\n",
    "purchase['campaign_end'] = pd.to_datetime(purchase['campaign_end'])"
   ]
  },
  {
   "cell_type": "code",
   "execution_count": 6,
   "metadata": {},
   "outputs": [
    {
     "name": "stderr",
     "output_type": "stream",
     "text": [
      "C:\\Users\\otag\\AppData\\Local\\Continuum\\anaconda3\\envs\\py27\\lib\\site-packages\\ipykernel_launcher.py:1: SettingWithCopyWarning: \n",
      "A value is trying to be set on a copy of a slice from a DataFrame.\n",
      "Try using .loc[row_indexer,col_indexer] = value instead\n",
      "\n",
      "See the caveats in the documentation: http://pandas.pydata.org/pandas-docs/stable/indexing.html#indexing-view-versus-copy\n",
      "  \"\"\"Entry point for launching an IPython kernel.\n"
     ]
    }
   ],
   "source": [
    "purchase['roas'] = pd.to_numeric(purchase['roas'])"
   ]
  },
  {
   "cell_type": "code",
   "execution_count": 7,
   "metadata": {},
   "outputs": [
    {
     "data": {
      "text/plain": [
       "advertiser_name                  object\n",
       "ad_campaign_id                    int64\n",
       "campaign_name                    object\n",
       "ad_type                           int64\n",
       "campaign_start           datetime64[ns]\n",
       "campaign_end             datetime64[ns]\n",
       "optimization_type                object\n",
       "category                         object\n",
       "impressions                     float64\n",
       "clicks                          float64\n",
       "spend                           float64\n",
       "dpv_total                       float64\n",
       "order_count_total               float64\n",
       "units_sold_total                float64\n",
       "product_sales_$_total           float64\n",
       "price                           float64\n",
       "rating                          float64\n",
       "reviews                         float64\n",
       "roas                            float64\n",
       "dtype: object"
      ]
     },
     "execution_count": 7,
     "metadata": {},
     "output_type": "execute_result"
    }
   ],
   "source": [
    "purchase.dtypes"
   ]
  },
  {
   "cell_type": "code",
   "execution_count": 8,
   "metadata": {},
   "outputs": [
    {
     "data": {
      "text/html": [
       "<div>\n",
       "<style>\n",
       "    .dataframe thead tr:only-child th {\n",
       "        text-align: right;\n",
       "    }\n",
       "\n",
       "    .dataframe thead th {\n",
       "        text-align: left;\n",
       "    }\n",
       "\n",
       "    .dataframe tbody tr th {\n",
       "        vertical-align: top;\n",
       "    }\n",
       "</style>\n",
       "<table border=\"1\" class=\"dataframe\">\n",
       "  <thead>\n",
       "    <tr style=\"text-align: right;\">\n",
       "      <th></th>\n",
       "      <th>advertiser_name</th>\n",
       "      <th>ad_campaign_id</th>\n",
       "      <th>campaign_name</th>\n",
       "      <th>ad_type</th>\n",
       "      <th>campaign_start</th>\n",
       "      <th>campaign_end</th>\n",
       "      <th>optimization_type</th>\n",
       "      <th>category</th>\n",
       "      <th>impressions</th>\n",
       "      <th>clicks</th>\n",
       "      <th>spend</th>\n",
       "      <th>dpv_total</th>\n",
       "      <th>order_count_total</th>\n",
       "      <th>units_sold_total</th>\n",
       "      <th>product_sales_$_total</th>\n",
       "      <th>price</th>\n",
       "      <th>rating</th>\n",
       "      <th>reviews</th>\n",
       "      <th>roas</th>\n",
       "    </tr>\n",
       "  </thead>\n",
       "  <tbody>\n",
       "    <tr>\n",
       "      <th>0</th>\n",
       "      <td>'47 - US</td>\n",
       "      <td>2658290001</td>\n",
       "      <td>'47 - US_OTS_B2S_2017_AAP_7/27-9/30</td>\n",
       "      <td>0</td>\n",
       "      <td>2017-07-31 04:00:00</td>\n",
       "      <td>2017-10-01 03:59:00</td>\n",
       "      <td>PURCHASE</td>\n",
       "      <td>Sports &amp; Outdoors</td>\n",
       "      <td>17227274.0</td>\n",
       "      <td>1370.0</td>\n",
       "      <td>35476.2197</td>\n",
       "      <td>1679.0</td>\n",
       "      <td>145.0</td>\n",
       "      <td>148.0</td>\n",
       "      <td>3247.59</td>\n",
       "      <td>25.886</td>\n",
       "      <td>4.175</td>\n",
       "      <td>11.25</td>\n",
       "      <td>0.091543</td>\n",
       "    </tr>\n",
       "    <tr>\n",
       "      <th>1</th>\n",
       "      <td>'47 - US</td>\n",
       "      <td>2658290001</td>\n",
       "      <td>'47 - US_OTS_B2S_2017_AAP_7/27-9/30</td>\n",
       "      <td>1</td>\n",
       "      <td>2017-07-31 04:00:00</td>\n",
       "      <td>2017-10-01 03:59:00</td>\n",
       "      <td>PURCHASE</td>\n",
       "      <td>Sports &amp; Outdoors</td>\n",
       "      <td>5544061.0</td>\n",
       "      <td>9620.0</td>\n",
       "      <td>16247.8171</td>\n",
       "      <td>1174.0</td>\n",
       "      <td>50.0</td>\n",
       "      <td>53.0</td>\n",
       "      <td>1201.90</td>\n",
       "      <td>25.886</td>\n",
       "      <td>4.175</td>\n",
       "      <td>11.25</td>\n",
       "      <td>0.073973</td>\n",
       "    </tr>\n",
       "    <tr>\n",
       "      <th>2</th>\n",
       "      <td>1Byone Products Inc. - US</td>\n",
       "      <td>2782909001</td>\n",
       "      <td>1Byone Products Inc. - US_1ByOne ASIN Level Re...</td>\n",
       "      <td>0</td>\n",
       "      <td>2017-08-31 04:00:00</td>\n",
       "      <td>2017-12-01 04:59:00</td>\n",
       "      <td>PURCHASE</td>\n",
       "      <td>Electronics</td>\n",
       "      <td>1844835.0</td>\n",
       "      <td>1035.0</td>\n",
       "      <td>6173.8120</td>\n",
       "      <td>5750.0</td>\n",
       "      <td>458.0</td>\n",
       "      <td>487.0</td>\n",
       "      <td>14077.15</td>\n",
       "      <td>24.990</td>\n",
       "      <td>3.800</td>\n",
       "      <td>14351.00</td>\n",
       "      <td>2.280139</td>\n",
       "    </tr>\n",
       "    <tr>\n",
       "      <th>3</th>\n",
       "      <td>1Byone Products Inc. - US</td>\n",
       "      <td>2782909001</td>\n",
       "      <td>1Byone Products Inc. - US_1ByOne ASIN Level Re...</td>\n",
       "      <td>1</td>\n",
       "      <td>2017-08-31 04:00:00</td>\n",
       "      <td>2017-12-01 04:59:00</td>\n",
       "      <td>NONE</td>\n",
       "      <td>Electronics</td>\n",
       "      <td>33240.0</td>\n",
       "      <td>37.0</td>\n",
       "      <td>84.1424</td>\n",
       "      <td>135.0</td>\n",
       "      <td>3.0</td>\n",
       "      <td>3.0</td>\n",
       "      <td>84.97</td>\n",
       "      <td>24.990</td>\n",
       "      <td>3.800</td>\n",
       "      <td>14351.00</td>\n",
       "      <td>1.009836</td>\n",
       "    </tr>\n",
       "    <tr>\n",
       "      <th>4</th>\n",
       "      <td>1Byone Products Inc. - US</td>\n",
       "      <td>2782909001</td>\n",
       "      <td>1Byone Products Inc. - US_1ByOne ASIN Level Re...</td>\n",
       "      <td>1</td>\n",
       "      <td>2017-08-31 04:00:00</td>\n",
       "      <td>2017-12-01 04:59:00</td>\n",
       "      <td>PURCHASE</td>\n",
       "      <td>Electronics</td>\n",
       "      <td>2218953.0</td>\n",
       "      <td>4958.0</td>\n",
       "      <td>9041.5191</td>\n",
       "      <td>17020.0</td>\n",
       "      <td>1573.0</td>\n",
       "      <td>1689.0</td>\n",
       "      <td>48169.55</td>\n",
       "      <td>24.990</td>\n",
       "      <td>3.800</td>\n",
       "      <td>14351.00</td>\n",
       "      <td>5.327595</td>\n",
       "    </tr>\n",
       "  </tbody>\n",
       "</table>\n",
       "</div>"
      ],
      "text/plain": [
       "             advertiser_name  ad_campaign_id  \\\n",
       "0                   '47 - US      2658290001   \n",
       "1                   '47 - US      2658290001   \n",
       "2  1Byone Products Inc. - US      2782909001   \n",
       "3  1Byone Products Inc. - US      2782909001   \n",
       "4  1Byone Products Inc. - US      2782909001   \n",
       "\n",
       "                                       campaign_name  ad_type  \\\n",
       "0                '47 - US_OTS_B2S_2017_AAP_7/27-9/30        0   \n",
       "1                '47 - US_OTS_B2S_2017_AAP_7/27-9/30        1   \n",
       "2  1Byone Products Inc. - US_1ByOne ASIN Level Re...        0   \n",
       "3  1Byone Products Inc. - US_1ByOne ASIN Level Re...        1   \n",
       "4  1Byone Products Inc. - US_1ByOne ASIN Level Re...        1   \n",
       "\n",
       "       campaign_start        campaign_end optimization_type  \\\n",
       "0 2017-07-31 04:00:00 2017-10-01 03:59:00          PURCHASE   \n",
       "1 2017-07-31 04:00:00 2017-10-01 03:59:00          PURCHASE   \n",
       "2 2017-08-31 04:00:00 2017-12-01 04:59:00          PURCHASE   \n",
       "3 2017-08-31 04:00:00 2017-12-01 04:59:00              NONE   \n",
       "4 2017-08-31 04:00:00 2017-12-01 04:59:00          PURCHASE   \n",
       "\n",
       "            category  impressions  clicks       spend  dpv_total  \\\n",
       "0  Sports & Outdoors   17227274.0  1370.0  35476.2197     1679.0   \n",
       "1  Sports & Outdoors    5544061.0  9620.0  16247.8171     1174.0   \n",
       "2        Electronics    1844835.0  1035.0   6173.8120     5750.0   \n",
       "3        Electronics      33240.0    37.0     84.1424      135.0   \n",
       "4        Electronics    2218953.0  4958.0   9041.5191    17020.0   \n",
       "\n",
       "   order_count_total  units_sold_total  product_sales_$_total   price  rating  \\\n",
       "0              145.0             148.0                3247.59  25.886   4.175   \n",
       "1               50.0              53.0                1201.90  25.886   4.175   \n",
       "2              458.0             487.0               14077.15  24.990   3.800   \n",
       "3                3.0               3.0                  84.97  24.990   3.800   \n",
       "4             1573.0            1689.0               48169.55  24.990   3.800   \n",
       "\n",
       "    reviews      roas  \n",
       "0     11.25  0.091543  \n",
       "1     11.25  0.073973  \n",
       "2  14351.00  2.280139  \n",
       "3  14351.00  1.009836  \n",
       "4  14351.00  5.327595  "
      ]
     },
     "execution_count": 8,
     "metadata": {},
     "output_type": "execute_result"
    }
   ],
   "source": [
    "purchase.head()"
   ]
  },
  {
   "cell_type": "code",
   "execution_count": 9,
   "metadata": {},
   "outputs": [
    {
     "name": "stderr",
     "output_type": "stream",
     "text": [
      "C:\\Users\\otag\\AppData\\Local\\Continuum\\anaconda3\\envs\\py27\\lib\\site-packages\\ipykernel_launcher.py:1: SettingWithCopyWarning: \n",
      "A value is trying to be set on a copy of a slice from a DataFrame.\n",
      "Try using .loc[row_indexer,col_indexer] = value instead\n",
      "\n",
      "See the caveats in the documentation: http://pandas.pydata.org/pandas-docs/stable/indexing.html#indexing-view-versus-copy\n",
      "  \"\"\"Entry point for launching an IPython kernel.\n",
      "C:\\Users\\otag\\AppData\\Local\\Continuum\\anaconda3\\envs\\py27\\lib\\site-packages\\ipykernel_launcher.py:2: SettingWithCopyWarning: \n",
      "A value is trying to be set on a copy of a slice from a DataFrame.\n",
      "Try using .loc[row_indexer,col_indexer] = value instead\n",
      "\n",
      "See the caveats in the documentation: http://pandas.pydata.org/pandas-docs/stable/indexing.html#indexing-view-versus-copy\n",
      "  \n"
     ]
    },
    {
     "data": {
      "text/html": [
       "<div>\n",
       "<style>\n",
       "    .dataframe thead tr:only-child th {\n",
       "        text-align: right;\n",
       "    }\n",
       "\n",
       "    .dataframe thead th {\n",
       "        text-align: left;\n",
       "    }\n",
       "\n",
       "    .dataframe tbody tr th {\n",
       "        vertical-align: top;\n",
       "    }\n",
       "</style>\n",
       "<table border=\"1\" class=\"dataframe\">\n",
       "  <thead>\n",
       "    <tr style=\"text-align: right;\">\n",
       "      <th></th>\n",
       "      <th>advertiser_name</th>\n",
       "      <th>ad_campaign_id</th>\n",
       "      <th>campaign_name</th>\n",
       "      <th>ad_type</th>\n",
       "      <th>campaign_start</th>\n",
       "      <th>campaign_end</th>\n",
       "      <th>optimization_type</th>\n",
       "      <th>category</th>\n",
       "      <th>impressions</th>\n",
       "      <th>clicks</th>\n",
       "      <th>...</th>\n",
       "      <th>dpv_total</th>\n",
       "      <th>order_count_total</th>\n",
       "      <th>units_sold_total</th>\n",
       "      <th>product_sales_$_total</th>\n",
       "      <th>price</th>\n",
       "      <th>rating</th>\n",
       "      <th>reviews</th>\n",
       "      <th>roas</th>\n",
       "      <th>startmonth</th>\n",
       "      <th>endmonth</th>\n",
       "    </tr>\n",
       "  </thead>\n",
       "  <tbody>\n",
       "    <tr>\n",
       "      <th>0</th>\n",
       "      <td>'47 - US</td>\n",
       "      <td>2658290001</td>\n",
       "      <td>'47 - US_OTS_B2S_2017_AAP_7/27-9/30</td>\n",
       "      <td>0</td>\n",
       "      <td>2017-07-31 04:00:00</td>\n",
       "      <td>2017-10-01 03:59:00</td>\n",
       "      <td>PURCHASE</td>\n",
       "      <td>Sports &amp; Outdoors</td>\n",
       "      <td>17227274.0</td>\n",
       "      <td>1370.0</td>\n",
       "      <td>...</td>\n",
       "      <td>1679.0</td>\n",
       "      <td>145.0</td>\n",
       "      <td>148.0</td>\n",
       "      <td>3247.59</td>\n",
       "      <td>25.886</td>\n",
       "      <td>4.175</td>\n",
       "      <td>11.25</td>\n",
       "      <td>0.091543</td>\n",
       "      <td>7</td>\n",
       "      <td>10</td>\n",
       "    </tr>\n",
       "    <tr>\n",
       "      <th>1</th>\n",
       "      <td>'47 - US</td>\n",
       "      <td>2658290001</td>\n",
       "      <td>'47 - US_OTS_B2S_2017_AAP_7/27-9/30</td>\n",
       "      <td>1</td>\n",
       "      <td>2017-07-31 04:00:00</td>\n",
       "      <td>2017-10-01 03:59:00</td>\n",
       "      <td>PURCHASE</td>\n",
       "      <td>Sports &amp; Outdoors</td>\n",
       "      <td>5544061.0</td>\n",
       "      <td>9620.0</td>\n",
       "      <td>...</td>\n",
       "      <td>1174.0</td>\n",
       "      <td>50.0</td>\n",
       "      <td>53.0</td>\n",
       "      <td>1201.90</td>\n",
       "      <td>25.886</td>\n",
       "      <td>4.175</td>\n",
       "      <td>11.25</td>\n",
       "      <td>0.073973</td>\n",
       "      <td>7</td>\n",
       "      <td>10</td>\n",
       "    </tr>\n",
       "    <tr>\n",
       "      <th>2</th>\n",
       "      <td>1Byone Products Inc. - US</td>\n",
       "      <td>2782909001</td>\n",
       "      <td>1Byone Products Inc. - US_1ByOne ASIN Level Re...</td>\n",
       "      <td>0</td>\n",
       "      <td>2017-08-31 04:00:00</td>\n",
       "      <td>2017-12-01 04:59:00</td>\n",
       "      <td>PURCHASE</td>\n",
       "      <td>Electronics</td>\n",
       "      <td>1844835.0</td>\n",
       "      <td>1035.0</td>\n",
       "      <td>...</td>\n",
       "      <td>5750.0</td>\n",
       "      <td>458.0</td>\n",
       "      <td>487.0</td>\n",
       "      <td>14077.15</td>\n",
       "      <td>24.990</td>\n",
       "      <td>3.800</td>\n",
       "      <td>14351.00</td>\n",
       "      <td>2.280139</td>\n",
       "      <td>8</td>\n",
       "      <td>12</td>\n",
       "    </tr>\n",
       "    <tr>\n",
       "      <th>3</th>\n",
       "      <td>1Byone Products Inc. - US</td>\n",
       "      <td>2782909001</td>\n",
       "      <td>1Byone Products Inc. - US_1ByOne ASIN Level Re...</td>\n",
       "      <td>1</td>\n",
       "      <td>2017-08-31 04:00:00</td>\n",
       "      <td>2017-12-01 04:59:00</td>\n",
       "      <td>NONE</td>\n",
       "      <td>Electronics</td>\n",
       "      <td>33240.0</td>\n",
       "      <td>37.0</td>\n",
       "      <td>...</td>\n",
       "      <td>135.0</td>\n",
       "      <td>3.0</td>\n",
       "      <td>3.0</td>\n",
       "      <td>84.97</td>\n",
       "      <td>24.990</td>\n",
       "      <td>3.800</td>\n",
       "      <td>14351.00</td>\n",
       "      <td>1.009836</td>\n",
       "      <td>8</td>\n",
       "      <td>12</td>\n",
       "    </tr>\n",
       "    <tr>\n",
       "      <th>4</th>\n",
       "      <td>1Byone Products Inc. - US</td>\n",
       "      <td>2782909001</td>\n",
       "      <td>1Byone Products Inc. - US_1ByOne ASIN Level Re...</td>\n",
       "      <td>1</td>\n",
       "      <td>2017-08-31 04:00:00</td>\n",
       "      <td>2017-12-01 04:59:00</td>\n",
       "      <td>PURCHASE</td>\n",
       "      <td>Electronics</td>\n",
       "      <td>2218953.0</td>\n",
       "      <td>4958.0</td>\n",
       "      <td>...</td>\n",
       "      <td>17020.0</td>\n",
       "      <td>1573.0</td>\n",
       "      <td>1689.0</td>\n",
       "      <td>48169.55</td>\n",
       "      <td>24.990</td>\n",
       "      <td>3.800</td>\n",
       "      <td>14351.00</td>\n",
       "      <td>5.327595</td>\n",
       "      <td>8</td>\n",
       "      <td>12</td>\n",
       "    </tr>\n",
       "  </tbody>\n",
       "</table>\n",
       "<p>5 rows × 21 columns</p>\n",
       "</div>"
      ],
      "text/plain": [
       "             advertiser_name  ad_campaign_id  \\\n",
       "0                   '47 - US      2658290001   \n",
       "1                   '47 - US      2658290001   \n",
       "2  1Byone Products Inc. - US      2782909001   \n",
       "3  1Byone Products Inc. - US      2782909001   \n",
       "4  1Byone Products Inc. - US      2782909001   \n",
       "\n",
       "                                       campaign_name  ad_type  \\\n",
       "0                '47 - US_OTS_B2S_2017_AAP_7/27-9/30        0   \n",
       "1                '47 - US_OTS_B2S_2017_AAP_7/27-9/30        1   \n",
       "2  1Byone Products Inc. - US_1ByOne ASIN Level Re...        0   \n",
       "3  1Byone Products Inc. - US_1ByOne ASIN Level Re...        1   \n",
       "4  1Byone Products Inc. - US_1ByOne ASIN Level Re...        1   \n",
       "\n",
       "       campaign_start        campaign_end optimization_type  \\\n",
       "0 2017-07-31 04:00:00 2017-10-01 03:59:00          PURCHASE   \n",
       "1 2017-07-31 04:00:00 2017-10-01 03:59:00          PURCHASE   \n",
       "2 2017-08-31 04:00:00 2017-12-01 04:59:00          PURCHASE   \n",
       "3 2017-08-31 04:00:00 2017-12-01 04:59:00              NONE   \n",
       "4 2017-08-31 04:00:00 2017-12-01 04:59:00          PURCHASE   \n",
       "\n",
       "            category  impressions  clicks    ...     dpv_total  \\\n",
       "0  Sports & Outdoors   17227274.0  1370.0    ...        1679.0   \n",
       "1  Sports & Outdoors    5544061.0  9620.0    ...        1174.0   \n",
       "2        Electronics    1844835.0  1035.0    ...        5750.0   \n",
       "3        Electronics      33240.0    37.0    ...         135.0   \n",
       "4        Electronics    2218953.0  4958.0    ...       17020.0   \n",
       "\n",
       "   order_count_total  units_sold_total  product_sales_$_total   price  rating  \\\n",
       "0              145.0             148.0                3247.59  25.886   4.175   \n",
       "1               50.0              53.0                1201.90  25.886   4.175   \n",
       "2              458.0             487.0               14077.15  24.990   3.800   \n",
       "3                3.0               3.0                  84.97  24.990   3.800   \n",
       "4             1573.0            1689.0               48169.55  24.990   3.800   \n",
       "\n",
       "    reviews      roas  startmonth  endmonth  \n",
       "0     11.25  0.091543           7        10  \n",
       "1     11.25  0.073973           7        10  \n",
       "2  14351.00  2.280139           8        12  \n",
       "3  14351.00  1.009836           8        12  \n",
       "4  14351.00  5.327595           8        12  \n",
       "\n",
       "[5 rows x 21 columns]"
      ]
     },
     "execution_count": 9,
     "metadata": {},
     "output_type": "execute_result"
    }
   ],
   "source": [
    "purchase['startmonth'] = purchase.campaign_start.dt.month\n",
    "purchase['endmonth'] = purchase.campaign_end.dt.month\n",
    "purchase.head()"
   ]
  },
  {
   "cell_type": "code",
   "execution_count": 10,
   "metadata": {},
   "outputs": [
    {
     "name": "stderr",
     "output_type": "stream",
     "text": [
      "C:\\Users\\otag\\AppData\\Local\\Continuum\\anaconda3\\envs\\py27\\lib\\site-packages\\ipykernel_launcher.py:1: SettingWithCopyWarning: \n",
      "A value is trying to be set on a copy of a slice from a DataFrame.\n",
      "Try using .loc[row_indexer,col_indexer] = value instead\n",
      "\n",
      "See the caveats in the documentation: http://pandas.pydata.org/pandas-docs/stable/indexing.html#indexing-view-versus-copy\n",
      "  \"\"\"Entry point for launching an IPython kernel.\n",
      "C:\\Users\\otag\\AppData\\Local\\Continuum\\anaconda3\\envs\\py27\\lib\\site-packages\\ipykernel_launcher.py:2: SettingWithCopyWarning: \n",
      "A value is trying to be set on a copy of a slice from a DataFrame.\n",
      "Try using .loc[row_indexer,col_indexer] = value instead\n",
      "\n",
      "See the caveats in the documentation: http://pandas.pydata.org/pandas-docs/stable/indexing.html#indexing-view-versus-copy\n",
      "  \n"
     ]
    },
    {
     "data": {
      "text/html": [
       "<div>\n",
       "<style>\n",
       "    .dataframe thead tr:only-child th {\n",
       "        text-align: right;\n",
       "    }\n",
       "\n",
       "    .dataframe thead th {\n",
       "        text-align: left;\n",
       "    }\n",
       "\n",
       "    .dataframe tbody tr th {\n",
       "        vertical-align: top;\n",
       "    }\n",
       "</style>\n",
       "<table border=\"1\" class=\"dataframe\">\n",
       "  <thead>\n",
       "    <tr style=\"text-align: right;\">\n",
       "      <th></th>\n",
       "      <th>advertiser_name</th>\n",
       "      <th>ad_campaign_id</th>\n",
       "      <th>campaign_name</th>\n",
       "      <th>ad_type</th>\n",
       "      <th>campaign_start</th>\n",
       "      <th>campaign_end</th>\n",
       "      <th>optimization_type</th>\n",
       "      <th>category</th>\n",
       "      <th>impressions</th>\n",
       "      <th>clicks</th>\n",
       "      <th>...</th>\n",
       "      <th>order_count_total</th>\n",
       "      <th>units_sold_total</th>\n",
       "      <th>product_sales_$_total</th>\n",
       "      <th>price</th>\n",
       "      <th>rating</th>\n",
       "      <th>reviews</th>\n",
       "      <th>roas</th>\n",
       "      <th>startmonth</th>\n",
       "      <th>endmonth</th>\n",
       "      <th>campaignlength</th>\n",
       "    </tr>\n",
       "  </thead>\n",
       "  <tbody>\n",
       "    <tr>\n",
       "      <th>0</th>\n",
       "      <td>'47 - US</td>\n",
       "      <td>2658290001</td>\n",
       "      <td>'47 - US_OTS_B2S_2017_AAP_7/27-9/30</td>\n",
       "      <td>0</td>\n",
       "      <td>2017-07-31 04:00:00</td>\n",
       "      <td>2017-10-01 03:59:00</td>\n",
       "      <td>PURCHASE</td>\n",
       "      <td>Sports &amp; Outdoors</td>\n",
       "      <td>17227274.0</td>\n",
       "      <td>1370.0</td>\n",
       "      <td>...</td>\n",
       "      <td>145.0</td>\n",
       "      <td>148.0</td>\n",
       "      <td>3247.59</td>\n",
       "      <td>25.886</td>\n",
       "      <td>4.175</td>\n",
       "      <td>11.25</td>\n",
       "      <td>0.091543</td>\n",
       "      <td>7</td>\n",
       "      <td>10</td>\n",
       "      <td>61</td>\n",
       "    </tr>\n",
       "    <tr>\n",
       "      <th>1</th>\n",
       "      <td>'47 - US</td>\n",
       "      <td>2658290001</td>\n",
       "      <td>'47 - US_OTS_B2S_2017_AAP_7/27-9/30</td>\n",
       "      <td>1</td>\n",
       "      <td>2017-07-31 04:00:00</td>\n",
       "      <td>2017-10-01 03:59:00</td>\n",
       "      <td>PURCHASE</td>\n",
       "      <td>Sports &amp; Outdoors</td>\n",
       "      <td>5544061.0</td>\n",
       "      <td>9620.0</td>\n",
       "      <td>...</td>\n",
       "      <td>50.0</td>\n",
       "      <td>53.0</td>\n",
       "      <td>1201.90</td>\n",
       "      <td>25.886</td>\n",
       "      <td>4.175</td>\n",
       "      <td>11.25</td>\n",
       "      <td>0.073973</td>\n",
       "      <td>7</td>\n",
       "      <td>10</td>\n",
       "      <td>61</td>\n",
       "    </tr>\n",
       "    <tr>\n",
       "      <th>2</th>\n",
       "      <td>1Byone Products Inc. - US</td>\n",
       "      <td>2782909001</td>\n",
       "      <td>1Byone Products Inc. - US_1ByOne ASIN Level Re...</td>\n",
       "      <td>0</td>\n",
       "      <td>2017-08-31 04:00:00</td>\n",
       "      <td>2017-12-01 04:59:00</td>\n",
       "      <td>PURCHASE</td>\n",
       "      <td>Electronics</td>\n",
       "      <td>1844835.0</td>\n",
       "      <td>1035.0</td>\n",
       "      <td>...</td>\n",
       "      <td>458.0</td>\n",
       "      <td>487.0</td>\n",
       "      <td>14077.15</td>\n",
       "      <td>24.990</td>\n",
       "      <td>3.800</td>\n",
       "      <td>14351.00</td>\n",
       "      <td>2.280139</td>\n",
       "      <td>8</td>\n",
       "      <td>12</td>\n",
       "      <td>92</td>\n",
       "    </tr>\n",
       "    <tr>\n",
       "      <th>3</th>\n",
       "      <td>1Byone Products Inc. - US</td>\n",
       "      <td>2782909001</td>\n",
       "      <td>1Byone Products Inc. - US_1ByOne ASIN Level Re...</td>\n",
       "      <td>1</td>\n",
       "      <td>2017-08-31 04:00:00</td>\n",
       "      <td>2017-12-01 04:59:00</td>\n",
       "      <td>NONE</td>\n",
       "      <td>Electronics</td>\n",
       "      <td>33240.0</td>\n",
       "      <td>37.0</td>\n",
       "      <td>...</td>\n",
       "      <td>3.0</td>\n",
       "      <td>3.0</td>\n",
       "      <td>84.97</td>\n",
       "      <td>24.990</td>\n",
       "      <td>3.800</td>\n",
       "      <td>14351.00</td>\n",
       "      <td>1.009836</td>\n",
       "      <td>8</td>\n",
       "      <td>12</td>\n",
       "      <td>92</td>\n",
       "    </tr>\n",
       "    <tr>\n",
       "      <th>4</th>\n",
       "      <td>1Byone Products Inc. - US</td>\n",
       "      <td>2782909001</td>\n",
       "      <td>1Byone Products Inc. - US_1ByOne ASIN Level Re...</td>\n",
       "      <td>1</td>\n",
       "      <td>2017-08-31 04:00:00</td>\n",
       "      <td>2017-12-01 04:59:00</td>\n",
       "      <td>PURCHASE</td>\n",
       "      <td>Electronics</td>\n",
       "      <td>2218953.0</td>\n",
       "      <td>4958.0</td>\n",
       "      <td>...</td>\n",
       "      <td>1573.0</td>\n",
       "      <td>1689.0</td>\n",
       "      <td>48169.55</td>\n",
       "      <td>24.990</td>\n",
       "      <td>3.800</td>\n",
       "      <td>14351.00</td>\n",
       "      <td>5.327595</td>\n",
       "      <td>8</td>\n",
       "      <td>12</td>\n",
       "      <td>92</td>\n",
       "    </tr>\n",
       "  </tbody>\n",
       "</table>\n",
       "<p>5 rows × 22 columns</p>\n",
       "</div>"
      ],
      "text/plain": [
       "             advertiser_name  ad_campaign_id  \\\n",
       "0                   '47 - US      2658290001   \n",
       "1                   '47 - US      2658290001   \n",
       "2  1Byone Products Inc. - US      2782909001   \n",
       "3  1Byone Products Inc. - US      2782909001   \n",
       "4  1Byone Products Inc. - US      2782909001   \n",
       "\n",
       "                                       campaign_name  ad_type  \\\n",
       "0                '47 - US_OTS_B2S_2017_AAP_7/27-9/30        0   \n",
       "1                '47 - US_OTS_B2S_2017_AAP_7/27-9/30        1   \n",
       "2  1Byone Products Inc. - US_1ByOne ASIN Level Re...        0   \n",
       "3  1Byone Products Inc. - US_1ByOne ASIN Level Re...        1   \n",
       "4  1Byone Products Inc. - US_1ByOne ASIN Level Re...        1   \n",
       "\n",
       "       campaign_start        campaign_end optimization_type  \\\n",
       "0 2017-07-31 04:00:00 2017-10-01 03:59:00          PURCHASE   \n",
       "1 2017-07-31 04:00:00 2017-10-01 03:59:00          PURCHASE   \n",
       "2 2017-08-31 04:00:00 2017-12-01 04:59:00          PURCHASE   \n",
       "3 2017-08-31 04:00:00 2017-12-01 04:59:00              NONE   \n",
       "4 2017-08-31 04:00:00 2017-12-01 04:59:00          PURCHASE   \n",
       "\n",
       "            category  impressions  clicks       ...        order_count_total  \\\n",
       "0  Sports & Outdoors   17227274.0  1370.0       ...                    145.0   \n",
       "1  Sports & Outdoors    5544061.0  9620.0       ...                     50.0   \n",
       "2        Electronics    1844835.0  1035.0       ...                    458.0   \n",
       "3        Electronics      33240.0    37.0       ...                      3.0   \n",
       "4        Electronics    2218953.0  4958.0       ...                   1573.0   \n",
       "\n",
       "   units_sold_total  product_sales_$_total   price  rating   reviews  \\\n",
       "0             148.0                3247.59  25.886   4.175     11.25   \n",
       "1              53.0                1201.90  25.886   4.175     11.25   \n",
       "2             487.0               14077.15  24.990   3.800  14351.00   \n",
       "3               3.0                  84.97  24.990   3.800  14351.00   \n",
       "4            1689.0               48169.55  24.990   3.800  14351.00   \n",
       "\n",
       "       roas  startmonth  endmonth  campaignlength  \n",
       "0  0.091543           7        10              61  \n",
       "1  0.073973           7        10              61  \n",
       "2  2.280139           8        12              92  \n",
       "3  1.009836           8        12              92  \n",
       "4  5.327595           8        12              92  \n",
       "\n",
       "[5 rows x 22 columns]"
      ]
     },
     "execution_count": 10,
     "metadata": {},
     "output_type": "execute_result"
    }
   ],
   "source": [
    "purchase['campaignlength'] = (purchase.campaign_end - purchase.campaign_start)\n",
    "purchase['campaignlength'] = purchase.campaignlength.dt.days\n",
    "purchase = purchase[(purchase.campaignlength >= 1 )]\n",
    "purchase.head()"
   ]
  },
  {
   "cell_type": "code",
   "execution_count": 11,
   "metadata": {},
   "outputs": [
    {
     "data": {
      "text/html": [
       "<div>\n",
       "<style>\n",
       "    .dataframe thead tr:only-child th {\n",
       "        text-align: right;\n",
       "    }\n",
       "\n",
       "    .dataframe thead th {\n",
       "        text-align: left;\n",
       "    }\n",
       "\n",
       "    .dataframe tbody tr th {\n",
       "        vertical-align: top;\n",
       "    }\n",
       "</style>\n",
       "<table border=\"1\" class=\"dataframe\">\n",
       "  <thead>\n",
       "    <tr style=\"text-align: right;\">\n",
       "      <th></th>\n",
       "      <th>advertiser_name</th>\n",
       "      <th>ad_campaign_id</th>\n",
       "      <th>campaign_name</th>\n",
       "      <th>ad_type</th>\n",
       "      <th>campaign_start</th>\n",
       "      <th>campaign_end</th>\n",
       "      <th>optimization_type</th>\n",
       "      <th>category</th>\n",
       "      <th>impressions</th>\n",
       "      <th>clicks</th>\n",
       "      <th>...</th>\n",
       "      <th>units_sold_total</th>\n",
       "      <th>product_sales_$_total</th>\n",
       "      <th>price</th>\n",
       "      <th>rating</th>\n",
       "      <th>reviews</th>\n",
       "      <th>roas</th>\n",
       "      <th>startmonth</th>\n",
       "      <th>endmonth</th>\n",
       "      <th>campaignlength</th>\n",
       "      <th>dailyspend</th>\n",
       "    </tr>\n",
       "  </thead>\n",
       "  <tbody>\n",
       "    <tr>\n",
       "      <th>0</th>\n",
       "      <td>'47 - US</td>\n",
       "      <td>2658290001</td>\n",
       "      <td>'47 - US_OTS_B2S_2017_AAP_7/27-9/30</td>\n",
       "      <td>0</td>\n",
       "      <td>2017-07-31 04:00:00</td>\n",
       "      <td>2017-10-01 03:59:00</td>\n",
       "      <td>PURCHASE</td>\n",
       "      <td>Sports &amp; Outdoors</td>\n",
       "      <td>17227274.0</td>\n",
       "      <td>1370.0</td>\n",
       "      <td>...</td>\n",
       "      <td>148.0</td>\n",
       "      <td>3247.59</td>\n",
       "      <td>25.886</td>\n",
       "      <td>4.175</td>\n",
       "      <td>11.25</td>\n",
       "      <td>0.091543</td>\n",
       "      <td>7</td>\n",
       "      <td>10</td>\n",
       "      <td>61</td>\n",
       "      <td>581.577372</td>\n",
       "    </tr>\n",
       "    <tr>\n",
       "      <th>1</th>\n",
       "      <td>'47 - US</td>\n",
       "      <td>2658290001</td>\n",
       "      <td>'47 - US_OTS_B2S_2017_AAP_7/27-9/30</td>\n",
       "      <td>1</td>\n",
       "      <td>2017-07-31 04:00:00</td>\n",
       "      <td>2017-10-01 03:59:00</td>\n",
       "      <td>PURCHASE</td>\n",
       "      <td>Sports &amp; Outdoors</td>\n",
       "      <td>5544061.0</td>\n",
       "      <td>9620.0</td>\n",
       "      <td>...</td>\n",
       "      <td>53.0</td>\n",
       "      <td>1201.90</td>\n",
       "      <td>25.886</td>\n",
       "      <td>4.175</td>\n",
       "      <td>11.25</td>\n",
       "      <td>0.073973</td>\n",
       "      <td>7</td>\n",
       "      <td>10</td>\n",
       "      <td>61</td>\n",
       "      <td>266.357657</td>\n",
       "    </tr>\n",
       "    <tr>\n",
       "      <th>2</th>\n",
       "      <td>1Byone Products Inc. - US</td>\n",
       "      <td>2782909001</td>\n",
       "      <td>1Byone Products Inc. - US_1ByOne ASIN Level Re...</td>\n",
       "      <td>0</td>\n",
       "      <td>2017-08-31 04:00:00</td>\n",
       "      <td>2017-12-01 04:59:00</td>\n",
       "      <td>PURCHASE</td>\n",
       "      <td>Electronics</td>\n",
       "      <td>1844835.0</td>\n",
       "      <td>1035.0</td>\n",
       "      <td>...</td>\n",
       "      <td>487.0</td>\n",
       "      <td>14077.15</td>\n",
       "      <td>24.990</td>\n",
       "      <td>3.800</td>\n",
       "      <td>14351.00</td>\n",
       "      <td>2.280139</td>\n",
       "      <td>8</td>\n",
       "      <td>12</td>\n",
       "      <td>92</td>\n",
       "      <td>67.106652</td>\n",
       "    </tr>\n",
       "    <tr>\n",
       "      <th>3</th>\n",
       "      <td>1Byone Products Inc. - US</td>\n",
       "      <td>2782909001</td>\n",
       "      <td>1Byone Products Inc. - US_1ByOne ASIN Level Re...</td>\n",
       "      <td>1</td>\n",
       "      <td>2017-08-31 04:00:00</td>\n",
       "      <td>2017-12-01 04:59:00</td>\n",
       "      <td>NONE</td>\n",
       "      <td>Electronics</td>\n",
       "      <td>33240.0</td>\n",
       "      <td>37.0</td>\n",
       "      <td>...</td>\n",
       "      <td>3.0</td>\n",
       "      <td>84.97</td>\n",
       "      <td>24.990</td>\n",
       "      <td>3.800</td>\n",
       "      <td>14351.00</td>\n",
       "      <td>1.009836</td>\n",
       "      <td>8</td>\n",
       "      <td>12</td>\n",
       "      <td>92</td>\n",
       "      <td>0.914591</td>\n",
       "    </tr>\n",
       "    <tr>\n",
       "      <th>4</th>\n",
       "      <td>1Byone Products Inc. - US</td>\n",
       "      <td>2782909001</td>\n",
       "      <td>1Byone Products Inc. - US_1ByOne ASIN Level Re...</td>\n",
       "      <td>1</td>\n",
       "      <td>2017-08-31 04:00:00</td>\n",
       "      <td>2017-12-01 04:59:00</td>\n",
       "      <td>PURCHASE</td>\n",
       "      <td>Electronics</td>\n",
       "      <td>2218953.0</td>\n",
       "      <td>4958.0</td>\n",
       "      <td>...</td>\n",
       "      <td>1689.0</td>\n",
       "      <td>48169.55</td>\n",
       "      <td>24.990</td>\n",
       "      <td>3.800</td>\n",
       "      <td>14351.00</td>\n",
       "      <td>5.327595</td>\n",
       "      <td>8</td>\n",
       "      <td>12</td>\n",
       "      <td>92</td>\n",
       "      <td>98.277382</td>\n",
       "    </tr>\n",
       "  </tbody>\n",
       "</table>\n",
       "<p>5 rows × 23 columns</p>\n",
       "</div>"
      ],
      "text/plain": [
       "             advertiser_name  ad_campaign_id  \\\n",
       "0                   '47 - US      2658290001   \n",
       "1                   '47 - US      2658290001   \n",
       "2  1Byone Products Inc. - US      2782909001   \n",
       "3  1Byone Products Inc. - US      2782909001   \n",
       "4  1Byone Products Inc. - US      2782909001   \n",
       "\n",
       "                                       campaign_name  ad_type  \\\n",
       "0                '47 - US_OTS_B2S_2017_AAP_7/27-9/30        0   \n",
       "1                '47 - US_OTS_B2S_2017_AAP_7/27-9/30        1   \n",
       "2  1Byone Products Inc. - US_1ByOne ASIN Level Re...        0   \n",
       "3  1Byone Products Inc. - US_1ByOne ASIN Level Re...        1   \n",
       "4  1Byone Products Inc. - US_1ByOne ASIN Level Re...        1   \n",
       "\n",
       "       campaign_start        campaign_end optimization_type  \\\n",
       "0 2017-07-31 04:00:00 2017-10-01 03:59:00          PURCHASE   \n",
       "1 2017-07-31 04:00:00 2017-10-01 03:59:00          PURCHASE   \n",
       "2 2017-08-31 04:00:00 2017-12-01 04:59:00          PURCHASE   \n",
       "3 2017-08-31 04:00:00 2017-12-01 04:59:00              NONE   \n",
       "4 2017-08-31 04:00:00 2017-12-01 04:59:00          PURCHASE   \n",
       "\n",
       "            category  impressions  clicks     ...      units_sold_total  \\\n",
       "0  Sports & Outdoors   17227274.0  1370.0     ...                 148.0   \n",
       "1  Sports & Outdoors    5544061.0  9620.0     ...                  53.0   \n",
       "2        Electronics    1844835.0  1035.0     ...                 487.0   \n",
       "3        Electronics      33240.0    37.0     ...                   3.0   \n",
       "4        Electronics    2218953.0  4958.0     ...                1689.0   \n",
       "\n",
       "   product_sales_$_total   price  rating   reviews      roas  startmonth  \\\n",
       "0                3247.59  25.886   4.175     11.25  0.091543           7   \n",
       "1                1201.90  25.886   4.175     11.25  0.073973           7   \n",
       "2               14077.15  24.990   3.800  14351.00  2.280139           8   \n",
       "3                  84.97  24.990   3.800  14351.00  1.009836           8   \n",
       "4               48169.55  24.990   3.800  14351.00  5.327595           8   \n",
       "\n",
       "   endmonth  campaignlength  dailyspend  \n",
       "0        10              61  581.577372  \n",
       "1        10              61  266.357657  \n",
       "2        12              92   67.106652  \n",
       "3        12              92    0.914591  \n",
       "4        12              92   98.277382  \n",
       "\n",
       "[5 rows x 23 columns]"
      ]
     },
     "execution_count": 11,
     "metadata": {},
     "output_type": "execute_result"
    }
   ],
   "source": [
    "purchase['dailyspend'] = (purchase.spend / purchase.campaignlength)\n",
    "purchase.head()"
   ]
  },
  {
   "cell_type": "code",
   "execution_count": 12,
   "metadata": {},
   "outputs": [
    {
     "data": {
      "text/plain": [
       "(5553, 23)"
      ]
     },
     "execution_count": 12,
     "metadata": {},
     "output_type": "execute_result"
    }
   ],
   "source": [
    "purchase = purchase.dropna(axis=0, how='any')\n",
    "purchase.shape"
   ]
  },
  {
   "cell_type": "code",
   "execution_count": 13,
   "metadata": {},
   "outputs": [
    {
     "data": {
      "text/plain": [
       "Index([u'advertiser_name', u'ad_campaign_id', u'campaign_name', u'ad_type',\n",
       "       u'campaign_start', u'campaign_end', u'optimization_type', u'category',\n",
       "       u'impressions', u'clicks', u'spend', u'dpv_total', u'order_count_total',\n",
       "       u'units_sold_total', u'product_sales_$_total', u'price', u'rating',\n",
       "       u'reviews', u'roas', u'startmonth', u'endmonth', u'campaignlength',\n",
       "       u'dailyspend'],\n",
       "      dtype='object')"
      ]
     },
     "execution_count": 13,
     "metadata": {},
     "output_type": "execute_result"
    }
   ],
   "source": [
    "purchase.columns"
   ]
  },
  {
   "cell_type": "code",
   "execution_count": 14,
   "metadata": {
    "collapsed": true
   },
   "outputs": [],
   "source": [
    "feature_cols = ['ad_type','price','rating','reviews','startmonth','endmonth','campaignlength','dailyspend']"
   ]
  },
  {
   "cell_type": "code",
   "execution_count": 15,
   "metadata": {
    "collapsed": true
   },
   "outputs": [],
   "source": [
    "X = purchase[feature_cols]\n",
    "y = purchase.roas"
   ]
  },
  {
   "cell_type": "code",
   "execution_count": 16,
   "metadata": {},
   "outputs": [
    {
     "data": {
      "text/plain": [
       "(5553, 8)"
      ]
     },
     "execution_count": 16,
     "metadata": {},
     "output_type": "execute_result"
    }
   ],
   "source": [
    "X.shape"
   ]
  },
  {
   "cell_type": "code",
   "execution_count": 17,
   "metadata": {},
   "outputs": [
    {
     "data": {
      "text/plain": [
       "(5553L,)"
      ]
     },
     "execution_count": 17,
     "metadata": {},
     "output_type": "execute_result"
    }
   ],
   "source": [
    "y.shape"
   ]
  },
  {
   "cell_type": "code",
   "execution_count": 18,
   "metadata": {
    "collapsed": true
   },
   "outputs": [],
   "source": [
    "purchase.to_csv('test.csv')"
   ]
  },
  {
   "cell_type": "markdown",
   "metadata": {},
   "source": [
    "## Decision Tree"
   ]
  },
  {
   "cell_type": "code",
   "execution_count": 19,
   "metadata": {
    "collapsed": true
   },
   "outputs": [],
   "source": [
    "# list of values to try for max_depth\n",
    "max_depth_range = range(1,50)\n",
    "\n",
    "# list to store the average RMSE for each value of max_depth\n",
    "RMSE_scores = []\n",
    "\n",
    "# use 10-fold cross-validation with each value of max_depth\n",
    "for depth in max_depth_range:\n",
    "    treereg = DecisionTreeRegressor(max_depth=depth, random_state=1)\n",
    "    MSE_scores = cross_val_score(treereg, X, y, cv=10, scoring='neg_mean_squared_error')\n",
    "    RMSE_scores.append(np.mean(np.sqrt(-MSE_scores)))"
   ]
  },
  {
   "cell_type": "code",
   "execution_count": 20,
   "metadata": {},
   "outputs": [
    {
     "data": {
      "text/plain": [
       "Text(0,0.5,u'RMSE (lower is better)')"
      ]
     },
     "execution_count": 20,
     "metadata": {},
     "output_type": "execute_result"
    },
    {
     "data": {
      "image/png": "[encoded data removed]",
      "text/plain": [
       "<matplotlib.figure.Figure at 0xcc50e10>"
      ]
     },
     "metadata": {},
     "output_type": "display_data"
    }
   ],
   "source": [
    "# plot max_depth (x-axis) versus RMSE (y-axis)\n",
    "plt.plot(max_depth_range, RMSE_scores)\n",
    "plt.xlabel('max_depth')\n",
    "plt.ylabel('RMSE (lower is better)')"
   ]
  },
  {
   "cell_type": "code",
   "execution_count": 21,
   "metadata": {},
   "outputs": [
    {
     "data": {
      "text/plain": [
       "(10.225435269902968, 2)"
      ]
     },
     "execution_count": 21,
     "metadata": {},
     "output_type": "execute_result"
    }
   ],
   "source": [
    "# show the best RMSE and the corresponding max_depth\n",
    "sorted(zip(RMSE_scores, max_depth_range))[0]"
   ]
  },
  {
   "cell_type": "code",
   "execution_count": 22,
   "metadata": {},
   "outputs": [
    {
     "data": {
      "text/plain": [
       "DecisionTreeRegressor(criterion='mse', max_depth=2, max_features=None,\n",
       "           max_leaf_nodes=None, min_impurity_decrease=0.0,\n",
       "           min_impurity_split=None, min_samples_leaf=1,\n",
       "           min_samples_split=2, min_weight_fraction_leaf=0.0,\n",
       "           presort=False, random_state=None, splitter='best')"
      ]
     },
     "execution_count": 22,
     "metadata": {},
     "output_type": "execute_result"
    }
   ],
   "source": [
    "treereg = DecisionTreeRegressor(max_depth=2)\n",
    "treereg.fit(X, y)"
   ]
  },
  {
   "cell_type": "code",
   "execution_count": 23,
   "metadata": {},
   "outputs": [
    {
     "data": {
      "text/plain": [
       "10.225435269902968"
      ]
     },
     "execution_count": 23,
     "metadata": {},
     "output_type": "execute_result"
    }
   ],
   "source": [
    "scores = cross_val_score(treereg, X, y, cv=10, scoring='neg_mean_squared_error')\n",
    "np.mean(np.sqrt(-scores))"
   ]
  },
  {
   "cell_type": "code",
   "execution_count": 24,
   "metadata": {},
   "outputs": [
    {
     "data": {
      "text/html": [
       "<div>\n",
       "<style>\n",
       "    .dataframe thead tr:only-child th {\n",
       "        text-align: right;\n",
       "    }\n",
       "\n",
       "    .dataframe thead th {\n",
       "        text-align: left;\n",
       "    }\n",
       "\n",
       "    .dataframe tbody tr th {\n",
       "        vertical-align: top;\n",
       "    }\n",
       "</style>\n",
       "<table border=\"1\" class=\"dataframe\">\n",
       "  <thead>\n",
       "    <tr style=\"text-align: right;\">\n",
       "      <th></th>\n",
       "      <th>feature</th>\n",
       "      <th>importance</th>\n",
       "    </tr>\n",
       "  </thead>\n",
       "  <tbody>\n",
       "    <tr>\n",
       "      <th>1</th>\n",
       "      <td>price</td>\n",
       "      <td>0.984771</td>\n",
       "    </tr>\n",
       "    <tr>\n",
       "      <th>5</th>\n",
       "      <td>endmonth</td>\n",
       "      <td>0.015229</td>\n",
       "    </tr>\n",
       "    <tr>\n",
       "      <th>0</th>\n",
       "      <td>ad_type</td>\n",
       "      <td>0.000000</td>\n",
       "    </tr>\n",
       "    <tr>\n",
       "      <th>2</th>\n",
       "      <td>rating</td>\n",
       "      <td>0.000000</td>\n",
       "    </tr>\n",
       "    <tr>\n",
       "      <th>3</th>\n",
       "      <td>reviews</td>\n",
       "      <td>0.000000</td>\n",
       "    </tr>\n",
       "    <tr>\n",
       "      <th>4</th>\n",
       "      <td>startmonth</td>\n",
       "      <td>0.000000</td>\n",
       "    </tr>\n",
       "    <tr>\n",
       "      <th>6</th>\n",
       "      <td>campaignlength</td>\n",
       "      <td>0.000000</td>\n",
       "    </tr>\n",
       "    <tr>\n",
       "      <th>7</th>\n",
       "      <td>dailyspend</td>\n",
       "      <td>0.000000</td>\n",
       "    </tr>\n",
       "  </tbody>\n",
       "</table>\n",
       "</div>"
      ],
      "text/plain": [
       "          feature  importance\n",
       "1           price    0.984771\n",
       "5        endmonth    0.015229\n",
       "0         ad_type    0.000000\n",
       "2          rating    0.000000\n",
       "3         reviews    0.000000\n",
       "4      startmonth    0.000000\n",
       "6  campaignlength    0.000000\n",
       "7      dailyspend    0.000000"
      ]
     },
     "execution_count": 24,
     "metadata": {},
     "output_type": "execute_result"
    }
   ],
   "source": [
    "# compute feature importances\n",
    "pd.DataFrame({'feature':feature_cols, 'importance':treereg.feature_importances_}).sort_values('importance', ascending=False)"
   ]
  },
  {
   "cell_type": "markdown",
   "metadata": {},
   "source": [
    "## Random Forest"
   ]
  },
  {
   "cell_type": "code",
   "execution_count": 25,
   "metadata": {
    "collapsed": true
   },
   "outputs": [],
   "source": [
    "# list of values to try for n_estimators\n",
    "estimator_range = range(10, 310, 10)\n",
    "\n",
    "# list to store the average RMSE for each value of n_estimators\n",
    "RMSE_scores = []\n",
    "\n",
    "# use 5-fold cross-validation with each value of n_estimators (WARNING: SLOW!)\n",
    "for estimator in estimator_range:\n",
    "    rfreg = RandomForestRegressor(n_estimators=estimator, random_state=1)\n",
    "    MSE_scores = cross_val_score(rfreg, X, y, cv=5, scoring='neg_mean_squared_error')\n",
    "    RMSE_scores.append(np.mean(np.sqrt(-MSE_scores)))"
   ]
  },
  {
   "cell_type": "code",
   "execution_count": 26,
   "metadata": {},
   "outputs": [
    {
     "data": {
      "text/plain": [
       "Text(0,0.5,u'RMSE (lower is better)')"
      ]
     },
     "execution_count": 26,
     "metadata": {},
     "output_type": "execute_result"
    },
    {
     "data": {
      "image/png": "[encoded data removed]",
      "text/plain": [
       "<matplotlib.figure.Figure at 0xce8ea20>"
      ]
     },
     "metadata": {},
     "output_type": "display_data"
    }
   ],
   "source": [
    "# plot n_estimators (x-axis) versus RMSE (y-axis)\n",
    "plt.plot(estimator_range, RMSE_scores)\n",
    "plt.xlabel('n_estimators')\n",
    "plt.ylabel('RMSE (lower is better)')"
   ]
  },
  {
   "cell_type": "code",
   "execution_count": 27,
   "metadata": {},
   "outputs": [
    {
     "data": {
      "text/plain": [
       "(13.403494308473839, 280)"
      ]
     },
     "execution_count": 27,
     "metadata": {},
     "output_type": "execute_result"
    }
   ],
   "source": [
    "# show the best RMSE and the corresponding n_estimator\n",
    "sorted(zip(RMSE_scores, estimator_range))[0]"
   ]
  },
  {
   "cell_type": "code",
   "execution_count": 28,
   "metadata": {
    "collapsed": true
   },
   "outputs": [],
   "source": [
    "# list of values to try for max_features\n",
    "feature_range = range(1, 9)\n",
    "\n",
    "# list to store the average RMSE for each value of max_features\n",
    "RMSE_scores = []\n",
    "\n",
    "# use 10-fold cross-validation with each value of max_features (WARNING: SLOW!)\n",
    "for feature in feature_range:\n",
    "    rfreg = RandomForestRegressor(n_estimators=280, max_features=feature, random_state=1)\n",
    "    MSE_scores = cross_val_score(rfreg, X, y, cv=10, scoring='neg_mean_squared_error')\n",
    "    RMSE_scores.append(np.mean(np.sqrt(-MSE_scores)))"
   ]
  },
  {
   "cell_type": "code",
   "execution_count": 29,
   "metadata": {},
   "outputs": [
    {
     "data": {
      "text/plain": [
       "Text(0,0.5,u'RMSE (lower is better)')"
      ]
     },
     "execution_count": 29,
     "metadata": {},
     "output_type": "execute_result"
    },
    {
     "data": {
      "image/png": "[encoded data removed]",
      "text/plain": [
       "<matplotlib.figure.Figure at 0xcd45828>"
      ]
     },
     "metadata": {},
     "output_type": "display_data"
    }
   ],
   "source": [
    "# plot max_features (x-axis) versus RMSE (y-axis)\n",
    "plt.plot(feature_range, RMSE_scores)\n",
    "plt.xlabel('max_features')\n",
    "plt.ylabel('RMSE (lower is better)')"
   ]
  },
  {
   "cell_type": "code",
   "execution_count": 30,
   "metadata": {},
   "outputs": [
    {
     "data": {
      "text/plain": [
       "(10.370858688839302, 1)"
      ]
     },
     "execution_count": 30,
     "metadata": {},
     "output_type": "execute_result"
    }
   ],
   "source": [
    "# show the best RMSE and the corresponding max_features\n",
    "sorted(zip(RMSE_scores, feature_range))[0]"
   ]
  },
  {
   "cell_type": "code",
   "execution_count": 31,
   "metadata": {},
   "outputs": [
    {
     "data": {
      "text/plain": [
       "RandomForestRegressor(bootstrap=True, criterion='mse', max_depth=None,\n",
       "           max_features=1, max_leaf_nodes=None, min_impurity_decrease=0.0,\n",
       "           min_impurity_split=None, min_samples_leaf=1,\n",
       "           min_samples_split=2, min_weight_fraction_leaf=0.0,\n",
       "           n_estimators=280, n_jobs=1, oob_score=True, random_state=1,\n",
       "           verbose=0, warm_start=False)"
      ]
     },
     "execution_count": 31,
     "metadata": {},
     "output_type": "execute_result"
    }
   ],
   "source": [
    "# n_estimators = 280 and max_features = 1\n",
    "rfreg = RandomForestRegressor(n_estimators=280, max_features=1, oob_score=True, random_state=1)\n",
    "rfreg.fit(X, y)"
   ]
  },
  {
   "cell_type": "code",
   "execution_count": 32,
   "metadata": {},
   "outputs": [
    {
     "data": {
      "text/html": [
       "<div>\n",
       "<style>\n",
       "    .dataframe thead tr:only-child th {\n",
       "        text-align: right;\n",
       "    }\n",
       "\n",
       "    .dataframe thead th {\n",
       "        text-align: left;\n",
       "    }\n",
       "\n",
       "    .dataframe tbody tr th {\n",
       "        vertical-align: top;\n",
       "    }\n",
       "</style>\n",
       "<table border=\"1\" class=\"dataframe\">\n",
       "  <thead>\n",
       "    <tr style=\"text-align: right;\">\n",
       "      <th></th>\n",
       "      <th>feature</th>\n",
       "      <th>importance</th>\n",
       "    </tr>\n",
       "  </thead>\n",
       "  <tbody>\n",
       "    <tr>\n",
       "      <th>7</th>\n",
       "      <td>dailyspend</td>\n",
       "      <td>0.302363</td>\n",
       "    </tr>\n",
       "    <tr>\n",
       "      <th>3</th>\n",
       "      <td>reviews</td>\n",
       "      <td>0.164241</td>\n",
       "    </tr>\n",
       "    <tr>\n",
       "      <th>1</th>\n",
       "      <td>price</td>\n",
       "      <td>0.146927</td>\n",
       "    </tr>\n",
       "    <tr>\n",
       "      <th>6</th>\n",
       "      <td>campaignlength</td>\n",
       "      <td>0.132006</td>\n",
       "    </tr>\n",
       "    <tr>\n",
       "      <th>2</th>\n",
       "      <td>rating</td>\n",
       "      <td>0.115992</td>\n",
       "    </tr>\n",
       "    <tr>\n",
       "      <th>4</th>\n",
       "      <td>startmonth</td>\n",
       "      <td>0.063120</td>\n",
       "    </tr>\n",
       "    <tr>\n",
       "      <th>5</th>\n",
       "      <td>endmonth</td>\n",
       "      <td>0.054910</td>\n",
       "    </tr>\n",
       "    <tr>\n",
       "      <th>0</th>\n",
       "      <td>ad_type</td>\n",
       "      <td>0.020441</td>\n",
       "    </tr>\n",
       "  </tbody>\n",
       "</table>\n",
       "</div>"
      ],
      "text/plain": [
       "          feature  importance\n",
       "7      dailyspend    0.302363\n",
       "3         reviews    0.164241\n",
       "1           price    0.146927\n",
       "6  campaignlength    0.132006\n",
       "2          rating    0.115992\n",
       "4      startmonth    0.063120\n",
       "5        endmonth    0.054910\n",
       "0         ad_type    0.020441"
      ]
     },
     "execution_count": 32,
     "metadata": {},
     "output_type": "execute_result"
    }
   ],
   "source": [
    "pd.DataFrame({'feature':feature_cols, 'importance':rfreg.feature_importances_}).sort_values('importance', ascending=False)"
   ]
  },
  {
   "cell_type": "code",
   "execution_count": 34,
   "metadata": {
    "collapsed": true
   },
   "outputs": [],
   "source": [
    "X_important = X[['dailyspend','reviews','price']]"
   ]
  },
  {
   "cell_type": "code",
   "execution_count": 62,
   "metadata": {},
   "outputs": [
    {
     "data": {
      "text/plain": [
       "8.272473200683276"
      ]
     },
     "execution_count": 62,
     "metadata": {},
     "output_type": "execute_result"
    }
   ],
   "source": [
    "# All features\n",
    "rfreg = RandomForestRegressor(n_estimators=280, max_features=1, random_state=1)\n",
    "rfreg.fit(X, y)\n",
    "scores = cross_val_score(rfreg, X, y, cv=10, scoring='neg_mean_squared_error')\n",
    "np.mean(np.sqrt(-scores))"
   ]
  },
  {
   "cell_type": "code",
   "execution_count": 61,
   "metadata": {},
   "outputs": [
    {
     "data": {
      "text/plain": [
       "10.988534532126859"
      ]
     },
     "execution_count": 61,
     "metadata": {},
     "output_type": "execute_result"
    }
   ],
   "source": [
    "# Important features\n",
    "rfreg = RandomForestRegressor(n_estimators=280, max_features=1, random_state=1)\n",
    "rfreg.fit(X_important, y)\n",
    "scores = cross_val_score(rfreg, X_important, y, cv=10, scoring='neg_mean_squared_error')\n",
    "np.mean(np.sqrt(-scores))"
   ]
  },
  {
   "cell_type": "markdown",
   "metadata": {},
   "source": [
    "## Linear Regression"
   ]
  },
  {
   "cell_type": "code",
   "execution_count": 63,
   "metadata": {},
   "outputs": [
    {
     "data": {
      "text/plain": [
       "34584.398927906455"
      ]
     },
     "execution_count": 63,
     "metadata": {},
     "output_type": "execute_result"
    }
   ],
   "source": [
    "# All features\n",
    "linreg.fit(X, y)\n",
    "scores = cross_val_score(linreg, X, y, cv=10, scoring='neg_mean_squared_error')\n",
    "np.mean(np.sqrt(-scores))"
   ]
  },
  {
   "cell_type": "code",
   "execution_count": 64,
   "metadata": {},
   "outputs": [
    {
     "data": {
      "text/plain": [
       "10.255531830324367"
      ]
     },
     "execution_count": 64,
     "metadata": {},
     "output_type": "execute_result"
    }
   ],
   "source": [
    "# Important features\n",
    "linreg.fit(X_important, y)\n",
    "scores = cross_val_score(linreg, X_important, y, cv=10, scoring='neg_mean_squared_error')\n",
    "np.mean(np.sqrt(-scores))"
   ]
  },
  {
   "cell_type": "markdown",
   "metadata": {
    "collapsed": true
   },
   "source": [
    "## With dummies"
   ]
  },
  {
   "cell_type": "code",
   "execution_count": 38,
   "metadata": {},
   "outputs": [
    {
     "data": {
      "text/html": [
       "<div>\n",
       "<style>\n",
       "    .dataframe thead tr:only-child th {\n",
       "        text-align: right;\n",
       "    }\n",
       "\n",
       "    .dataframe thead th {\n",
       "        text-align: left;\n",
       "    }\n",
       "\n",
       "    .dataframe tbody tr th {\n",
       "        vertical-align: top;\n",
       "    }\n",
       "</style>\n",
       "<table border=\"1\" class=\"dataframe\">\n",
       "  <thead>\n",
       "    <tr style=\"text-align: right;\">\n",
       "      <th></th>\n",
       "      <th>advertiser_name</th>\n",
       "      <th>ad_campaign_id</th>\n",
       "      <th>campaign_name</th>\n",
       "      <th>ad_type</th>\n",
       "      <th>campaign_start</th>\n",
       "      <th>campaign_end</th>\n",
       "      <th>optimization_type</th>\n",
       "      <th>category</th>\n",
       "      <th>impressions</th>\n",
       "      <th>clicks</th>\n",
       "      <th>...</th>\n",
       "      <th>units_sold_total</th>\n",
       "      <th>product_sales_$_total</th>\n",
       "      <th>price</th>\n",
       "      <th>rating</th>\n",
       "      <th>reviews</th>\n",
       "      <th>roas</th>\n",
       "      <th>startmonth</th>\n",
       "      <th>endmonth</th>\n",
       "      <th>campaignlength</th>\n",
       "      <th>dailyspend</th>\n",
       "    </tr>\n",
       "  </thead>\n",
       "  <tbody>\n",
       "    <tr>\n",
       "      <th>0</th>\n",
       "      <td>'47 - US</td>\n",
       "      <td>2658290001</td>\n",
       "      <td>'47 - US_OTS_B2S_2017_AAP_7/27-9/30</td>\n",
       "      <td>0</td>\n",
       "      <td>2017-07-31 04:00:00</td>\n",
       "      <td>2017-10-01 03:59:00</td>\n",
       "      <td>PURCHASE</td>\n",
       "      <td>Sports &amp; Outdoors</td>\n",
       "      <td>17227274.0</td>\n",
       "      <td>1370.0</td>\n",
       "      <td>...</td>\n",
       "      <td>148.0</td>\n",
       "      <td>3247.59</td>\n",
       "      <td>25.886</td>\n",
       "      <td>4.175</td>\n",
       "      <td>11.25</td>\n",
       "      <td>0.091543</td>\n",
       "      <td>7</td>\n",
       "      <td>10</td>\n",
       "      <td>61</td>\n",
       "      <td>581.577372</td>\n",
       "    </tr>\n",
       "    <tr>\n",
       "      <th>1</th>\n",
       "      <td>'47 - US</td>\n",
       "      <td>2658290001</td>\n",
       "      <td>'47 - US_OTS_B2S_2017_AAP_7/27-9/30</td>\n",
       "      <td>1</td>\n",
       "      <td>2017-07-31 04:00:00</td>\n",
       "      <td>2017-10-01 03:59:00</td>\n",
       "      <td>PURCHASE</td>\n",
       "      <td>Sports &amp; Outdoors</td>\n",
       "      <td>5544061.0</td>\n",
       "      <td>9620.0</td>\n",
       "      <td>...</td>\n",
       "      <td>53.0</td>\n",
       "      <td>1201.90</td>\n",
       "      <td>25.886</td>\n",
       "      <td>4.175</td>\n",
       "      <td>11.25</td>\n",
       "      <td>0.073973</td>\n",
       "      <td>7</td>\n",
       "      <td>10</td>\n",
       "      <td>61</td>\n",
       "      <td>266.357657</td>\n",
       "    </tr>\n",
       "    <tr>\n",
       "      <th>2</th>\n",
       "      <td>1Byone Products Inc. - US</td>\n",
       "      <td>2782909001</td>\n",
       "      <td>1Byone Products Inc. - US_1ByOne ASIN Level Re...</td>\n",
       "      <td>0</td>\n",
       "      <td>2017-08-31 04:00:00</td>\n",
       "      <td>2017-12-01 04:59:00</td>\n",
       "      <td>PURCHASE</td>\n",
       "      <td>Electronics</td>\n",
       "      <td>1844835.0</td>\n",
       "      <td>1035.0</td>\n",
       "      <td>...</td>\n",
       "      <td>487.0</td>\n",
       "      <td>14077.15</td>\n",
       "      <td>24.990</td>\n",
       "      <td>3.800</td>\n",
       "      <td>14351.00</td>\n",
       "      <td>2.280139</td>\n",
       "      <td>8</td>\n",
       "      <td>12</td>\n",
       "      <td>92</td>\n",
       "      <td>67.106652</td>\n",
       "    </tr>\n",
       "    <tr>\n",
       "      <th>3</th>\n",
       "      <td>1Byone Products Inc. - US</td>\n",
       "      <td>2782909001</td>\n",
       "      <td>1Byone Products Inc. - US_1ByOne ASIN Level Re...</td>\n",
       "      <td>1</td>\n",
       "      <td>2017-08-31 04:00:00</td>\n",
       "      <td>2017-12-01 04:59:00</td>\n",
       "      <td>NONE</td>\n",
       "      <td>Electronics</td>\n",
       "      <td>33240.0</td>\n",
       "      <td>37.0</td>\n",
       "      <td>...</td>\n",
       "      <td>3.0</td>\n",
       "      <td>84.97</td>\n",
       "      <td>24.990</td>\n",
       "      <td>3.800</td>\n",
       "      <td>14351.00</td>\n",
       "      <td>1.009836</td>\n",
       "      <td>8</td>\n",
       "      <td>12</td>\n",
       "      <td>92</td>\n",
       "      <td>0.914591</td>\n",
       "    </tr>\n",
       "    <tr>\n",
       "      <th>4</th>\n",
       "      <td>1Byone Products Inc. - US</td>\n",
       "      <td>2782909001</td>\n",
       "      <td>1Byone Products Inc. - US_1ByOne ASIN Level Re...</td>\n",
       "      <td>1</td>\n",
       "      <td>2017-08-31 04:00:00</td>\n",
       "      <td>2017-12-01 04:59:00</td>\n",
       "      <td>PURCHASE</td>\n",
       "      <td>Electronics</td>\n",
       "      <td>2218953.0</td>\n",
       "      <td>4958.0</td>\n",
       "      <td>...</td>\n",
       "      <td>1689.0</td>\n",
       "      <td>48169.55</td>\n",
       "      <td>24.990</td>\n",
       "      <td>3.800</td>\n",
       "      <td>14351.00</td>\n",
       "      <td>5.327595</td>\n",
       "      <td>8</td>\n",
       "      <td>12</td>\n",
       "      <td>92</td>\n",
       "      <td>98.277382</td>\n",
       "    </tr>\n",
       "  </tbody>\n",
       "</table>\n",
       "<p>5 rows × 23 columns</p>\n",
       "</div>"
      ],
      "text/plain": [
       "             advertiser_name  ad_campaign_id  \\\n",
       "0                   '47 - US      2658290001   \n",
       "1                   '47 - US      2658290001   \n",
       "2  1Byone Products Inc. - US      2782909001   \n",
       "3  1Byone Products Inc. - US      2782909001   \n",
       "4  1Byone Products Inc. - US      2782909001   \n",
       "\n",
       "                                       campaign_name  ad_type  \\\n",
       "0                '47 - US_OTS_B2S_2017_AAP_7/27-9/30        0   \n",
       "1                '47 - US_OTS_B2S_2017_AAP_7/27-9/30        1   \n",
       "2  1Byone Products Inc. - US_1ByOne ASIN Level Re...        0   \n",
       "3  1Byone Products Inc. - US_1ByOne ASIN Level Re...        1   \n",
       "4  1Byone Products Inc. - US_1ByOne ASIN Level Re...        1   \n",
       "\n",
       "       campaign_start        campaign_end optimization_type  \\\n",
       "0 2017-07-31 04:00:00 2017-10-01 03:59:00          PURCHASE   \n",
       "1 2017-07-31 04:00:00 2017-10-01 03:59:00          PURCHASE   \n",
       "2 2017-08-31 04:00:00 2017-12-01 04:59:00          PURCHASE   \n",
       "3 2017-08-31 04:00:00 2017-12-01 04:59:00              NONE   \n",
       "4 2017-08-31 04:00:00 2017-12-01 04:59:00          PURCHASE   \n",
       "\n",
       "            category  impressions  clicks     ...      units_sold_total  \\\n",
       "0  Sports & Outdoors   17227274.0  1370.0     ...                 148.0   \n",
       "1  Sports & Outdoors    5544061.0  9620.0     ...                  53.0   \n",
       "2        Electronics    1844835.0  1035.0     ...                 487.0   \n",
       "3        Electronics      33240.0    37.0     ...                   3.0   \n",
       "4        Electronics    2218953.0  4958.0     ...                1689.0   \n",
       "\n",
       "   product_sales_$_total   price  rating   reviews      roas  startmonth  \\\n",
       "0                3247.59  25.886   4.175     11.25  0.091543           7   \n",
       "1                1201.90  25.886   4.175     11.25  0.073973           7   \n",
       "2               14077.15  24.990   3.800  14351.00  2.280139           8   \n",
       "3                  84.97  24.990   3.800  14351.00  1.009836           8   \n",
       "4               48169.55  24.990   3.800  14351.00  5.327595           8   \n",
       "\n",
       "   endmonth  campaignlength  dailyspend  \n",
       "0        10              61  581.577372  \n",
       "1        10              61  266.357657  \n",
       "2        12              92   67.106652  \n",
       "3        12              92    0.914591  \n",
       "4        12              92   98.277382  \n",
       "\n",
       "[5 rows x 23 columns]"
      ]
     },
     "execution_count": 38,
     "metadata": {},
     "output_type": "execute_result"
    }
   ],
   "source": [
    "purchase.head()"
   ]
  },
  {
   "cell_type": "code",
   "execution_count": 39,
   "metadata": {},
   "outputs": [
    {
     "data": {
      "text/plain": [
       "(5553, 23)"
      ]
     },
     "execution_count": 39,
     "metadata": {},
     "output_type": "execute_result"
    }
   ],
   "source": [
    "purchase.shape"
   ]
  },
  {
   "cell_type": "code",
   "execution_count": 42,
   "metadata": {},
   "outputs": [
    {
     "data": {
      "text/plain": [
       "(5553, 896)"
      ]
     },
     "execution_count": 42,
     "metadata": {},
     "output_type": "execute_result"
    }
   ],
   "source": [
    "advertiser_dummies = pd.get_dummies(purchase.advertiser_name, prefix='advertiser')\n",
    "cat_dummies = pd.get_dummies(purchase.category, prefix='category')\n",
    "purchasewithdummies = pd.concat([purchase, cat_dummies], axis=1)\n",
    "purchasewithdummies = pd.concat([purchasewithdummies, advertiser_dummies], axis=1)\n",
    "purchasewithdummies.shape"
   ]
  },
  {
   "cell_type": "code",
   "execution_count": 43,
   "metadata": {},
   "outputs": [
    {
     "data": {
      "text/html": [
       "<div>\n",
       "<style>\n",
       "    .dataframe thead tr:only-child th {\n",
       "        text-align: right;\n",
       "    }\n",
       "\n",
       "    .dataframe thead th {\n",
       "        text-align: left;\n",
       "    }\n",
       "\n",
       "    .dataframe tbody tr th {\n",
       "        vertical-align: top;\n",
       "    }\n",
       "</style>\n",
       "<table border=\"1\" class=\"dataframe\">\n",
       "  <thead>\n",
       "    <tr style=\"text-align: right;\">\n",
       "      <th></th>\n",
       "      <th>advertiser_name</th>\n",
       "      <th>ad_campaign_id</th>\n",
       "      <th>campaign_name</th>\n",
       "      <th>ad_type</th>\n",
       "      <th>campaign_start</th>\n",
       "      <th>campaign_end</th>\n",
       "      <th>optimization_type</th>\n",
       "      <th>category</th>\n",
       "      <th>impressions</th>\n",
       "      <th>clicks</th>\n",
       "      <th>...</th>\n",
       "      <th>advertiser_iClever - US (Hisgadget)</th>\n",
       "      <th>advertiser_iFetch - US</th>\n",
       "      <th>advertiser_iMagniphy - US</th>\n",
       "      <th>advertiser_iPets - US</th>\n",
       "      <th>advertiser_iRobot</th>\n",
       "      <th>advertiser_iRobot - US</th>\n",
       "      <th>advertiser_illy Caffe North America -US</th>\n",
       "      <th>advertiser_inVitamin - US</th>\n",
       "      <th>advertiser_swingOIL</th>\n",
       "      <th>advertiser_totes Isotoner - US</th>\n",
       "    </tr>\n",
       "  </thead>\n",
       "  <tbody>\n",
       "    <tr>\n",
       "      <th>0</th>\n",
       "      <td>'47 - US</td>\n",
       "      <td>2658290001</td>\n",
       "      <td>'47 - US_OTS_B2S_2017_AAP_7/27-9/30</td>\n",
       "      <td>0</td>\n",
       "      <td>2017-07-31 04:00:00</td>\n",
       "      <td>2017-10-01 03:59:00</td>\n",
       "      <td>PURCHASE</td>\n",
       "      <td>Sports &amp; Outdoors</td>\n",
       "      <td>17227274.0</td>\n",
       "      <td>1370.0</td>\n",
       "      <td>...</td>\n",
       "      <td>0</td>\n",
       "      <td>0</td>\n",
       "      <td>0</td>\n",
       "      <td>0</td>\n",
       "      <td>0</td>\n",
       "      <td>0</td>\n",
       "      <td>0</td>\n",
       "      <td>0</td>\n",
       "      <td>0</td>\n",
       "      <td>0</td>\n",
       "    </tr>\n",
       "    <tr>\n",
       "      <th>1</th>\n",
       "      <td>'47 - US</td>\n",
       "      <td>2658290001</td>\n",
       "      <td>'47 - US_OTS_B2S_2017_AAP_7/27-9/30</td>\n",
       "      <td>1</td>\n",
       "      <td>2017-07-31 04:00:00</td>\n",
       "      <td>2017-10-01 03:59:00</td>\n",
       "      <td>PURCHASE</td>\n",
       "      <td>Sports &amp; Outdoors</td>\n",
       "      <td>5544061.0</td>\n",
       "      <td>9620.0</td>\n",
       "      <td>...</td>\n",
       "      <td>0</td>\n",
       "      <td>0</td>\n",
       "      <td>0</td>\n",
       "      <td>0</td>\n",
       "      <td>0</td>\n",
       "      <td>0</td>\n",
       "      <td>0</td>\n",
       "      <td>0</td>\n",
       "      <td>0</td>\n",
       "      <td>0</td>\n",
       "    </tr>\n",
       "  </tbody>\n",
       "</table>\n",
       "<p>2 rows × 896 columns</p>\n",
       "</div>"
      ],
      "text/plain": [
       "  advertiser_name  ad_campaign_id                        campaign_name  \\\n",
       "0        '47 - US      2658290001  '47 - US_OTS_B2S_2017_AAP_7/27-9/30   \n",
       "1        '47 - US      2658290001  '47 - US_OTS_B2S_2017_AAP_7/27-9/30   \n",
       "\n",
       "   ad_type      campaign_start        campaign_end optimization_type  \\\n",
       "0        0 2017-07-31 04:00:00 2017-10-01 03:59:00          PURCHASE   \n",
       "1        1 2017-07-31 04:00:00 2017-10-01 03:59:00          PURCHASE   \n",
       "\n",
       "            category  impressions  clicks               ...                \\\n",
       "0  Sports & Outdoors   17227274.0  1370.0               ...                 \n",
       "1  Sports & Outdoors    5544061.0  9620.0               ...                 \n",
       "\n",
       "   advertiser_iClever - US (Hisgadget)  advertiser_iFetch - US  \\\n",
       "0                                    0                       0   \n",
       "1                                    0                       0   \n",
       "\n",
       "   advertiser_iMagniphy - US  advertiser_iPets - US  advertiser_iRobot  \\\n",
       "0                          0                      0                  0   \n",
       "1                          0                      0                  0   \n",
       "\n",
       "   advertiser_iRobot - US  advertiser_illy Caffe North America -US  \\\n",
       "0                       0                                        0   \n",
       "1                       0                                        0   \n",
       "\n",
       "   advertiser_inVitamin - US  advertiser_swingOIL  \\\n",
       "0                          0                    0   \n",
       "1                          0                    0   \n",
       "\n",
       "   advertiser_totes Isotoner - US  \n",
       "0                               0  \n",
       "1                               0  \n",
       "\n",
       "[2 rows x 896 columns]"
      ]
     },
     "execution_count": 43,
     "metadata": {},
     "output_type": "execute_result"
    }
   ],
   "source": [
    "purchasewithdummies.head(2)"
   ]
  },
  {
   "cell_type": "code",
   "execution_count": 53,
   "metadata": {},
   "outputs": [],
   "source": [
    "X_dummies = purchasewithdummies.drop(['roas','advertiser_name','ad_campaign_id','campaign_name','campaign_start','campaign_end','optimization_type','category'], axis=1)\n",
    "y_dummies = purchasewithdummies.roas"
   ]
  },
  {
   "cell_type": "code",
   "execution_count": 54,
   "metadata": {},
   "outputs": [
    {
     "name": "stdout",
     "output_type": "stream",
     "text": [
      "(5553L, 64L)\n"
     ]
    }
   ],
   "source": [
    "X,y=X_dummies, y_dummies\n",
    "pca_ads = PCA(n_components=64)\n",
    "X_proj = pca_ads.fit_transform(X)\n",
    "print X_proj.shape"
   ]
  },
  {
   "cell_type": "code",
   "execution_count": 56,
   "metadata": {},
   "outputs": [
    {
     "name": "stdout",
     "output_type": "stream",
     "text": [
      "[ 1.]\n"
     ]
    }
   ],
   "source": [
    "print np.cumsum(pca_ads.explained_variance_ratio_.sum())"
   ]
  },
  {
   "cell_type": "code",
   "execution_count": 58,
   "metadata": {},
   "outputs": [
    {
     "data": {
      "text/plain": [
       "array([[  6.17574138e-05,   1.72272740e+07,   1.37000000e+03, ...,\n",
       "          4.82659663e-05,   3.29291588e-03,   4.78232111e-04],\n",
       "       [  1.00016587e+00,   5.54406100e+06,   9.62000000e+03, ...,\n",
       "          5.18521046e-04,   2.93771260e-03,   6.67849054e-04],\n",
       "       [  7.33054628e-04,   1.84483500e+06,   1.03500000e+03, ...,\n",
       "          2.05538862e-04,  -1.17241585e-03,   8.53750616e-04],\n",
       "       ..., \n",
       "       [ -7.12518069e-04,   1.37809000e+05,   7.90000000e+01, ...,\n",
       "          4.57172927e-04,   4.47305184e-03,   5.51090912e-04],\n",
       "       [  1.85965247e-04,   1.13891100e+06,   3.67000000e+02, ...,\n",
       "          3.11071886e-04,   7.49642058e-04,   4.16355996e-03],\n",
       "       [  9.99958426e-01,   2.20600600e+06,   4.47700000e+03, ...,\n",
       "          1.77977541e-04,  -1.35392460e-04,   4.11983554e-03]])"
      ]
     },
     "execution_count": 58,
     "metadata": {},
     "output_type": "execute_result"
    }
   ],
   "source": [
    "X_inv_proj = pca_ads.inverse_transform(X_proj)\n",
    "X_inv_proj"
   ]
  },
  {
   "cell_type": "code",
   "execution_count": 59,
   "metadata": {},
   "outputs": [
    {
     "data": {
      "text/plain": [
       "29.265799860213537"
      ]
     },
     "execution_count": 59,
     "metadata": {},
     "output_type": "execute_result"
    }
   ],
   "source": [
    "linreg.fit(X, y)\n",
    "scores = cross_val_score(linreg, X_inv_proj, y, cv=10, scoring='neg_mean_squared_error')\n",
    "np.mean(np.sqrt(-scores))"
   ]
  },
  {
   "cell_type": "code",
   "execution_count": null,
   "metadata": {
    "collapsed": true
   },
   "outputs": [],
   "source": []
  }
 ],
 "metadata": {
  "kernelspec": {
   "display_name": "Python 2",
   "language": "python",
   "name": "python2"
  },
  "language_info": {
   "codemirror_mode": {
    "name": "ipython",
    "version": 2
   },
   "file_extension": ".py",
   "mimetype": "text/x-python",
   "name": "python",
   "nbconvert_exporter": "python",
   "pygments_lexer": "ipython2",
   "version": "2.7.14"
  }
 },
 "nbformat": 4,
 "nbformat_minor": 2
}
