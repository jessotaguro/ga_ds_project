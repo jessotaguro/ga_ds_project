{
 "cells": [
  {
   "cell_type": "markdown",
   "metadata": {},
   "source": [
    "# Linear Regression"
   ]
  },
  {
   "cell_type": "code",
   "execution_count": 2,
   "metadata": {
    "collapsed": true
   },
   "outputs": [],
   "source": [
    "# read the data and set the datetime as the index\n",
    "%matplotlib inline\n",
    "import pandas as pd\n",
    "\n",
    "path= '../data/'\n",
    "url = path + 'bikeshare.csv'  #path + 'bikeshare.csv'\n",
    "bikes = pd.read_csv(url, index_col='datetime', parse_dates=True)"
   ]
  },
  {
   "cell_type": "code",
   "execution_count": 3,
   "metadata": {},
   "outputs": [
    {
     "data": {
      "text/html": [
       "<div>\n",
       "<style>\n",
       "    .dataframe thead tr:only-child th {\n",
       "        text-align: right;\n",
       "    }\n",
       "\n",
       "    .dataframe thead th {\n",
       "        text-align: left;\n",
       "    }\n",
       "\n",
       "    .dataframe tbody tr th {\n",
       "        vertical-align: top;\n",
       "    }\n",
       "</style>\n",
       "<table border=\"1\" class=\"dataframe\">\n",
       "  <thead>\n",
       "    <tr style=\"text-align: right;\">\n",
       "      <th></th>\n",
       "      <th>season</th>\n",
       "      <th>holiday</th>\n",
       "      <th>workingday</th>\n",
       "      <th>weather</th>\n",
       "      <th>temp</th>\n",
       "      <th>atemp</th>\n",
       "      <th>humidity</th>\n",
       "      <th>windspeed</th>\n",
       "      <th>casual</th>\n",
       "      <th>registered</th>\n",
       "      <th>count</th>\n",
       "    </tr>\n",
       "    <tr>\n",
       "      <th>datetime</th>\n",
       "      <th></th>\n",
       "      <th></th>\n",
       "      <th></th>\n",
       "      <th></th>\n",
       "      <th></th>\n",
       "      <th></th>\n",
       "      <th></th>\n",
       "      <th></th>\n",
       "      <th></th>\n",
       "      <th></th>\n",
       "      <th></th>\n",
       "    </tr>\n",
       "  </thead>\n",
       "  <tbody>\n",
       "    <tr>\n",
       "      <th>2011-01-01 00:00:00</th>\n",
       "      <td>1</td>\n",
       "      <td>0</td>\n",
       "      <td>0</td>\n",
       "      <td>1</td>\n",
       "      <td>9.84</td>\n",
       "      <td>14.395</td>\n",
       "      <td>81</td>\n",
       "      <td>0.0</td>\n",
       "      <td>3</td>\n",
       "      <td>13</td>\n",
       "      <td>16</td>\n",
       "    </tr>\n",
       "    <tr>\n",
       "      <th>2011-01-01 01:00:00</th>\n",
       "      <td>1</td>\n",
       "      <td>0</td>\n",
       "      <td>0</td>\n",
       "      <td>1</td>\n",
       "      <td>9.02</td>\n",
       "      <td>13.635</td>\n",
       "      <td>80</td>\n",
       "      <td>0.0</td>\n",
       "      <td>8</td>\n",
       "      <td>32</td>\n",
       "      <td>40</td>\n",
       "    </tr>\n",
       "    <tr>\n",
       "      <th>2011-01-01 02:00:00</th>\n",
       "      <td>1</td>\n",
       "      <td>0</td>\n",
       "      <td>0</td>\n",
       "      <td>1</td>\n",
       "      <td>9.02</td>\n",
       "      <td>13.635</td>\n",
       "      <td>80</td>\n",
       "      <td>0.0</td>\n",
       "      <td>5</td>\n",
       "      <td>27</td>\n",
       "      <td>32</td>\n",
       "    </tr>\n",
       "    <tr>\n",
       "      <th>2011-01-01 03:00:00</th>\n",
       "      <td>1</td>\n",
       "      <td>0</td>\n",
       "      <td>0</td>\n",
       "      <td>1</td>\n",
       "      <td>9.84</td>\n",
       "      <td>14.395</td>\n",
       "      <td>75</td>\n",
       "      <td>0.0</td>\n",
       "      <td>3</td>\n",
       "      <td>10</td>\n",
       "      <td>13</td>\n",
       "    </tr>\n",
       "    <tr>\n",
       "      <th>2011-01-01 04:00:00</th>\n",
       "      <td>1</td>\n",
       "      <td>0</td>\n",
       "      <td>0</td>\n",
       "      <td>1</td>\n",
       "      <td>9.84</td>\n",
       "      <td>14.395</td>\n",
       "      <td>75</td>\n",
       "      <td>0.0</td>\n",
       "      <td>0</td>\n",
       "      <td>1</td>\n",
       "      <td>1</td>\n",
       "    </tr>\n",
       "  </tbody>\n",
       "</table>\n",
       "</div>"
      ],
      "text/plain": [
       "                     season  holiday  workingday  weather  temp   atemp  \\\n",
       "datetime                                                                  \n",
       "2011-01-01 00:00:00       1        0           0        1  9.84  14.395   \n",
       "2011-01-01 01:00:00       1        0           0        1  9.02  13.635   \n",
       "2011-01-01 02:00:00       1        0           0        1  9.02  13.635   \n",
       "2011-01-01 03:00:00       1        0           0        1  9.84  14.395   \n",
       "2011-01-01 04:00:00       1        0           0        1  9.84  14.395   \n",
       "\n",
       "                     humidity  windspeed  casual  registered  count  \n",
       "datetime                                                             \n",
       "2011-01-01 00:00:00        81        0.0       3          13     16  \n",
       "2011-01-01 01:00:00        80        0.0       8          32     40  \n",
       "2011-01-01 02:00:00        80        0.0       5          27     32  \n",
       "2011-01-01 03:00:00        75        0.0       3          10     13  \n",
       "2011-01-01 04:00:00        75        0.0       0           1      1  "
      ]
     },
     "execution_count": 3,
     "metadata": {},
     "output_type": "execute_result"
    }
   ],
   "source": [
    "bikes.head()"
   ]
  },
  {
   "cell_type": "code",
   "execution_count": 4,
   "metadata": {},
   "outputs": [
    {
     "data": {
      "text/plain": [
       "season          int64\n",
       "holiday         int64\n",
       "workingday      int64\n",
       "weather         int64\n",
       "temp          float64\n",
       "atemp         float64\n",
       "humidity        int64\n",
       "windspeed     float64\n",
       "casual          int64\n",
       "registered      int64\n",
       "count           int64\n",
       "dtype: object"
      ]
     },
     "execution_count": 4,
     "metadata": {},
     "output_type": "execute_result"
    }
   ],
   "source": [
    "bikes.dtypes"
   ]
  },
  {
   "cell_type": "code",
   "execution_count": 5,
   "metadata": {},
   "outputs": [
    {
     "data": {
      "text/plain": [
       "DatetimeIndex(['2011-01-01 00:00:00', '2011-01-01 01:00:00',\n",
       "               '2011-01-01 02:00:00', '2011-01-01 03:00:00',\n",
       "               '2011-01-01 04:00:00', '2011-01-01 05:00:00',\n",
       "               '2011-01-01 06:00:00', '2011-01-01 07:00:00',\n",
       "               '2011-01-01 08:00:00', '2011-01-01 09:00:00',\n",
       "               ...\n",
       "               '2012-12-19 14:00:00', '2012-12-19 15:00:00',\n",
       "               '2012-12-19 16:00:00', '2012-12-19 17:00:00',\n",
       "               '2012-12-19 18:00:00', '2012-12-19 19:00:00',\n",
       "               '2012-12-19 20:00:00', '2012-12-19 21:00:00',\n",
       "               '2012-12-19 22:00:00', '2012-12-19 23:00:00'],\n",
       "              dtype='datetime64[ns]', name=u'datetime', length=10886, freq=None)"
      ]
     },
     "execution_count": 5,
     "metadata": {},
     "output_type": "execute_result"
    }
   ],
   "source": [
    "bikes.index"
   ]
  },
  {
   "cell_type": "code",
   "execution_count": 6,
   "metadata": {},
   "outputs": [
    {
     "data": {
      "text/html": [
       "<div>\n",
       "<style>\n",
       "    .dataframe thead tr:only-child th {\n",
       "        text-align: right;\n",
       "    }\n",
       "\n",
       "    .dataframe thead th {\n",
       "        text-align: left;\n",
       "    }\n",
       "\n",
       "    .dataframe tbody tr th {\n",
       "        vertical-align: top;\n",
       "    }\n",
       "</style>\n",
       "<table border=\"1\" class=\"dataframe\">\n",
       "  <thead>\n",
       "    <tr style=\"text-align: right;\">\n",
       "      <th></th>\n",
       "      <th>season</th>\n",
       "      <th>holiday</th>\n",
       "      <th>workingday</th>\n",
       "      <th>weather</th>\n",
       "      <th>temp</th>\n",
       "      <th>atemp</th>\n",
       "      <th>humidity</th>\n",
       "      <th>windspeed</th>\n",
       "      <th>casual</th>\n",
       "      <th>registered</th>\n",
       "      <th>count</th>\n",
       "    </tr>\n",
       "    <tr>\n",
       "      <th>datetime</th>\n",
       "      <th></th>\n",
       "      <th></th>\n",
       "      <th></th>\n",
       "      <th></th>\n",
       "      <th></th>\n",
       "      <th></th>\n",
       "      <th></th>\n",
       "      <th></th>\n",
       "      <th></th>\n",
       "      <th></th>\n",
       "      <th></th>\n",
       "    </tr>\n",
       "  </thead>\n",
       "  <tbody>\n",
       "    <tr>\n",
       "      <th>2011-01-01 00:00:00</th>\n",
       "      <td>1</td>\n",
       "      <td>0</td>\n",
       "      <td>0</td>\n",
       "      <td>1</td>\n",
       "      <td>9.84</td>\n",
       "      <td>14.395</td>\n",
       "      <td>81</td>\n",
       "      <td>0.0</td>\n",
       "      <td>3</td>\n",
       "      <td>13</td>\n",
       "      <td>16</td>\n",
       "    </tr>\n",
       "    <tr>\n",
       "      <th>2011-01-01 01:00:00</th>\n",
       "      <td>1</td>\n",
       "      <td>0</td>\n",
       "      <td>0</td>\n",
       "      <td>1</td>\n",
       "      <td>9.02</td>\n",
       "      <td>13.635</td>\n",
       "      <td>80</td>\n",
       "      <td>0.0</td>\n",
       "      <td>8</td>\n",
       "      <td>32</td>\n",
       "      <td>40</td>\n",
       "    </tr>\n",
       "    <tr>\n",
       "      <th>2011-01-01 02:00:00</th>\n",
       "      <td>1</td>\n",
       "      <td>0</td>\n",
       "      <td>0</td>\n",
       "      <td>1</td>\n",
       "      <td>9.02</td>\n",
       "      <td>13.635</td>\n",
       "      <td>80</td>\n",
       "      <td>0.0</td>\n",
       "      <td>5</td>\n",
       "      <td>27</td>\n",
       "      <td>32</td>\n",
       "    </tr>\n",
       "    <tr>\n",
       "      <th>2011-01-01 03:00:00</th>\n",
       "      <td>1</td>\n",
       "      <td>0</td>\n",
       "      <td>0</td>\n",
       "      <td>1</td>\n",
       "      <td>9.84</td>\n",
       "      <td>14.395</td>\n",
       "      <td>75</td>\n",
       "      <td>0.0</td>\n",
       "      <td>3</td>\n",
       "      <td>10</td>\n",
       "      <td>13</td>\n",
       "    </tr>\n",
       "    <tr>\n",
       "      <th>2011-01-01 04:00:00</th>\n",
       "      <td>1</td>\n",
       "      <td>0</td>\n",
       "      <td>0</td>\n",
       "      <td>1</td>\n",
       "      <td>9.84</td>\n",
       "      <td>14.395</td>\n",
       "      <td>75</td>\n",
       "      <td>0.0</td>\n",
       "      <td>0</td>\n",
       "      <td>1</td>\n",
       "      <td>1</td>\n",
       "    </tr>\n",
       "  </tbody>\n",
       "</table>\n",
       "</div>"
      ],
      "text/plain": [
       "                     season  holiday  workingday  weather  temp   atemp  \\\n",
       "datetime                                                                  \n",
       "2011-01-01 00:00:00       1        0           0        1  9.84  14.395   \n",
       "2011-01-01 01:00:00       1        0           0        1  9.02  13.635   \n",
       "2011-01-01 02:00:00       1        0           0        1  9.02  13.635   \n",
       "2011-01-01 03:00:00       1        0           0        1  9.84  14.395   \n",
       "2011-01-01 04:00:00       1        0           0        1  9.84  14.395   \n",
       "\n",
       "                     humidity  windspeed  casual  registered  count  \n",
       "datetime                                                             \n",
       "2011-01-01 00:00:00        81        0.0       3          13     16  \n",
       "2011-01-01 01:00:00        80        0.0       8          32     40  \n",
       "2011-01-01 02:00:00        80        0.0       5          27     32  \n",
       "2011-01-01 03:00:00        75        0.0       3          10     13  \n",
       "2011-01-01 04:00:00        75        0.0       0           1      1  "
      ]
     },
     "execution_count": 6,
     "metadata": {},
     "output_type": "execute_result"
    }
   ],
   "source": [
    "bikes.head()"
   ]
  },
  {
   "cell_type": "code",
   "execution_count": 7,
   "metadata": {},
   "outputs": [
    {
     "data": {
      "text/plain": [
       "Index([u'season', u'holiday', u'workingday', u'weather', u'temp', u'atemp',\n",
       "       u'humidity', u'windspeed', u'casual', u'registered', u'total'],\n",
       "      dtype='object')"
      ]
     },
     "execution_count": 7,
     "metadata": {},
     "output_type": "execute_result"
    }
   ],
   "source": [
    "# \"count\" is a method, so it's best to name that column something else\n",
    "bikes.rename(columns={'count':'total'}, inplace=True)\n",
    "bikes.columns"
   ]
  },
  {
   "cell_type": "markdown",
   "metadata": {},
   "source": [
    "## Visualizing the data"
   ]
  },
  {
   "cell_type": "code",
   "execution_count": 8,
   "metadata": {
    "collapsed": true
   },
   "outputs": [],
   "source": [
    "%matplotlib inline\n",
    "import seaborn as sns\n",
    "import matplotlib.pyplot as plt\n",
    "\n",
    "plt.rcParams['figure.figsize'] = (8, 6)\n",
    "plt.rcParams['font.size'] = 14"
   ]
  },
  {
   "cell_type": "code",
   "execution_count": 9,
   "metadata": {},
   "outputs": [
    {
     "data": {
      "text/plain": [
       "10886"
      ]
     },
     "execution_count": 9,
     "metadata": {},
     "output_type": "execute_result"
    }
   ],
   "source": [
    "len(bikes)"
   ]
  },
  {
   "cell_type": "code",
   "execution_count": 10,
   "metadata": {},
   "outputs": [
    {
     "data": {
      "text/plain": [
       "<matplotlib.axes._subplots.AxesSubplot at 0xb510cc0>"
      ]
     },
     "execution_count": 10,
     "metadata": {},
     "output_type": "execute_result"
    },
    {
     "data": {
      "image/png": "[encoded data removed]",
      "text/plain": [
       "<matplotlib.figure.Figure at 0x97a8208>"
      ]
     },
     "metadata": {},
     "output_type": "display_data"
    }
   ],
   "source": [
    "# Pandas scatter plot\n",
    "bikes.plot(kind='scatter', x='temp', y='total', alpha=.3)"
   ]
  },
  {
   "cell_type": "code",
   "execution_count": 11,
   "metadata": {},
   "outputs": [
    {
     "data": {
      "text/plain": [
       "<seaborn.axisgrid.FacetGrid at 0xb7aeba8>"
      ]
     },
     "execution_count": 11,
     "metadata": {},
     "output_type": "execute_result"
    },
    {
     "data": {
      "image/png": "[encoded data removed]",
      "text/plain": [
       "<matplotlib.figure.Figure at 0xb8c9080>"
      ]
     },
     "metadata": {},
     "output_type": "display_data"
    }
   ],
   "source": [
    "# Seaborn scatter plot with regression line\n",
    "sns.lmplot(x='temp', y='total', data=bikes, aspect=1.5, scatter_kws={'alpha':0.2})"
   ]
  },
  {
   "cell_type": "markdown",
   "metadata": {},
   "source": [
    "## Form of linear regression\n",
    "\n",
    "$y = \\beta_0 + \\beta_1x_1 + \\beta_2x_2 + ... + \\beta_nx_n$\n",
    "\n",
    "- $y$ is the response\n",
    "- $\\beta_0$ is the intercept\n",
    "- $\\beta_1$ is the coefficient for $x_1$ (the first feature)\n",
    "- $\\beta_n$ is the coefficient for $x_n$ (the nth feature)\n",
    "\n",
    "The $\\beta$ values are called the **model coefficients**:\n",
    "\n",
    "- These values are estimated (or \"learned\") during the model fitting process using the **least squares criterion**.\n",
    "- Specifically, we find the line (mathematically) which minimizes the **sum of squared residuals** (or \"sum of squared errors\").\n",
    "- And once we've learned these coefficients, we can use the model to predict the response.\n",
    "\n",
    "![Estimating coefficients](images/estimating_coefficients.png)\n",
    "\n",
    "In the diagram above:\n",
    "\n",
    "- The black dots are the **observed values** of x and y.\n",
    "- The blue line is our **least squares line**.\n",
    "- The red lines are the **residuals**, which are the vertical distances between the observed values and the least squares line."
   ]
  },
  {
   "cell_type": "markdown",
   "metadata": {},
   "source": [
    "## Building a simple linear regression model (one feature)"
   ]
  },
  {
   "cell_type": "markdown",
   "metadata": {},
   "source": [
    "For our first task we decide to create a model which will predict the number of rentals based on the temperature."
   ]
  },
  {
   "cell_type": "code",
   "execution_count": 12,
   "metadata": {},
   "outputs": [
    {
     "data": {
      "text/plain": [
       "(10886, 1)"
      ]
     },
     "execution_count": 12,
     "metadata": {},
     "output_type": "execute_result"
    }
   ],
   "source": [
    "# create X and y\n",
    "feature_cols = ['temp']\n",
    "X = bikes[feature_cols]\n",
    "y = bikes.total\n",
    "X.shape"
   ]
  },
  {
   "cell_type": "code",
   "execution_count": 13,
   "metadata": {},
   "outputs": [
    {
     "data": {
      "text/plain": [
       "pandas.core.frame.DataFrame"
      ]
     },
     "execution_count": 13,
     "metadata": {},
     "output_type": "execute_result"
    }
   ],
   "source": [
    "type(X)"
   ]
  },
  {
   "cell_type": "code",
   "execution_count": 14,
   "metadata": {},
   "outputs": [
    {
     "data": {
      "text/plain": [
       "(10886L,)"
      ]
     },
     "execution_count": 14,
     "metadata": {},
     "output_type": "execute_result"
    }
   ],
   "source": [
    "y.shape"
   ]
  },
  {
   "cell_type": "code",
   "execution_count": 15,
   "metadata": {},
   "outputs": [
    {
     "data": {
      "text/plain": [
       "pandas.core.series.Series"
      ]
     },
     "execution_count": 15,
     "metadata": {},
     "output_type": "execute_result"
    }
   ],
   "source": [
    "type(y)"
   ]
  },
  {
   "cell_type": "code",
   "execution_count": 16,
   "metadata": {},
   "outputs": [
    {
     "data": {
      "text/plain": [
       "LinearRegression(copy_X=True, fit_intercept=True, n_jobs=1, normalize=False)"
      ]
     },
     "execution_count": 16,
     "metadata": {},
     "output_type": "execute_result"
    }
   ],
   "source": [
    "# We have created our X (feature matrix) and Y (response vector so now lets:\n",
    "# import our chosen estimator, instantiate it into a variable, fit the model with the X and y\n",
    "from sklearn.linear_model import LinearRegression\n",
    "linreg = LinearRegression()\n",
    "linreg.fit(X, y)"
   ]
  },
  {
   "cell_type": "code",
   "execution_count": 17,
   "metadata": {},
   "outputs": [
    {
     "data": {
      "text/plain": [
       "sklearn.linear_model.base.LinearRegression"
      ]
     },
     "execution_count": 17,
     "metadata": {},
     "output_type": "execute_result"
    }
   ],
   "source": [
    "type(linreg)"
   ]
  },
  {
   "cell_type": "code",
   "execution_count": 18,
   "metadata": {},
   "outputs": [
    {
     "name": "stdout",
     "output_type": "stream",
     "text": [
      "6.04621295962\n",
      "[ 9.17054048]\n"
     ]
    }
   ],
   "source": [
    "# print the coefficients\n",
    "print linreg.intercept_\n",
    "print linreg.coef_\n",
    "#y=mx+b, m=9.17, b=6.04"
   ]
  },
  {
   "cell_type": "markdown",
   "metadata": {},
   "source": [
    "Interpreting the **intercept** ($\\beta_0$):\n",
    "\n",
    "- It is the value of $y$ when $x$=0.\n",
    "- Thus, it is the estimated number of rentals when the temperature is 0 degrees Celsius.\n",
    "- **Note:** It does not always make sense to interpret the intercept. (Why?)\n",
    "\n",
    "Interpreting the **\"temp\" coefficient** ($\\beta_1$):\n",
    "\n",
    "- It is the change in $y$ divided by change in $x$, or the \"slope\".\n",
    "- Thus, a temperature increase of 1 degree Celsius is **associated with** a rental increase of 9.17 bikes.\n",
    "- This is not a statement of causation.\n",
    "- $\\beta_1$ would be **negative** if an increase in temperature was associated with a **decrease** in rentals."
   ]
  },
  {
   "cell_type": "markdown",
   "metadata": {},
   "source": [
    "## Using the model for prediction\n",
    "\n",
    "How many bike rentals would we predict if the temperature was 25 degrees Celsius?"
   ]
  },
  {
   "cell_type": "code",
   "execution_count": 20,
   "metadata": {},
   "outputs": [
    {
     "data": {
      "text/plain": [
       "array([ 235.309725])"
      ]
     },
     "execution_count": 20,
     "metadata": {},
     "output_type": "execute_result"
    }
   ],
   "source": [
    "# manually calculate the prediction\n",
    "linreg.intercept_ + linreg.coef_*25"
   ]
  },
  {
   "cell_type": "code",
   "execution_count": 21,
   "metadata": {},
   "outputs": [
    {
     "data": {
      "text/plain": [
       "array([ 235.309725])"
      ]
     },
     "execution_count": 21,
     "metadata": {},
     "output_type": "execute_result"
    }
   ],
   "source": [
    "# use the predict method\n",
    "linreg.predict(25)"
   ]
  },
  {
   "cell_type": "markdown",
   "metadata": {},
   "source": [
    "## Does the scale of the features matter?\n",
    "\n",
    "Let's say that temperature was measured in Fahrenheit, rather than Celsius. How would that affect the model?"
   ]
  },
  {
   "cell_type": "code",
   "execution_count": 22,
   "metadata": {},
   "outputs": [
    {
     "data": {
      "text/html": [
       "<div>\n",
       "<style>\n",
       "    .dataframe thead tr:only-child th {\n",
       "        text-align: right;\n",
       "    }\n",
       "\n",
       "    .dataframe thead th {\n",
       "        text-align: left;\n",
       "    }\n",
       "\n",
       "    .dataframe tbody tr th {\n",
       "        vertical-align: top;\n",
       "    }\n",
       "</style>\n",
       "<table border=\"1\" class=\"dataframe\">\n",
       "  <thead>\n",
       "    <tr style=\"text-align: right;\">\n",
       "      <th></th>\n",
       "      <th>season</th>\n",
       "      <th>holiday</th>\n",
       "      <th>workingday</th>\n",
       "      <th>weather</th>\n",
       "      <th>temp</th>\n",
       "      <th>atemp</th>\n",
       "      <th>humidity</th>\n",
       "      <th>windspeed</th>\n",
       "      <th>casual</th>\n",
       "      <th>registered</th>\n",
       "      <th>total</th>\n",
       "      <th>temp_F</th>\n",
       "    </tr>\n",
       "    <tr>\n",
       "      <th>datetime</th>\n",
       "      <th></th>\n",
       "      <th></th>\n",
       "      <th></th>\n",
       "      <th></th>\n",
       "      <th></th>\n",
       "      <th></th>\n",
       "      <th></th>\n",
       "      <th></th>\n",
       "      <th></th>\n",
       "      <th></th>\n",
       "      <th></th>\n",
       "      <th></th>\n",
       "    </tr>\n",
       "  </thead>\n",
       "  <tbody>\n",
       "    <tr>\n",
       "      <th>2011-01-01 00:00:00</th>\n",
       "      <td>1</td>\n",
       "      <td>0</td>\n",
       "      <td>0</td>\n",
       "      <td>1</td>\n",
       "      <td>9.84</td>\n",
       "      <td>14.395</td>\n",
       "      <td>81</td>\n",
       "      <td>0.0</td>\n",
       "      <td>3</td>\n",
       "      <td>13</td>\n",
       "      <td>16</td>\n",
       "      <td>49.712</td>\n",
       "    </tr>\n",
       "    <tr>\n",
       "      <th>2011-01-01 01:00:00</th>\n",
       "      <td>1</td>\n",
       "      <td>0</td>\n",
       "      <td>0</td>\n",
       "      <td>1</td>\n",
       "      <td>9.02</td>\n",
       "      <td>13.635</td>\n",
       "      <td>80</td>\n",
       "      <td>0.0</td>\n",
       "      <td>8</td>\n",
       "      <td>32</td>\n",
       "      <td>40</td>\n",
       "      <td>48.236</td>\n",
       "    </tr>\n",
       "    <tr>\n",
       "      <th>2011-01-01 02:00:00</th>\n",
       "      <td>1</td>\n",
       "      <td>0</td>\n",
       "      <td>0</td>\n",
       "      <td>1</td>\n",
       "      <td>9.02</td>\n",
       "      <td>13.635</td>\n",
       "      <td>80</td>\n",
       "      <td>0.0</td>\n",
       "      <td>5</td>\n",
       "      <td>27</td>\n",
       "      <td>32</td>\n",
       "      <td>48.236</td>\n",
       "    </tr>\n",
       "    <tr>\n",
       "      <th>2011-01-01 03:00:00</th>\n",
       "      <td>1</td>\n",
       "      <td>0</td>\n",
       "      <td>0</td>\n",
       "      <td>1</td>\n",
       "      <td>9.84</td>\n",
       "      <td>14.395</td>\n",
       "      <td>75</td>\n",
       "      <td>0.0</td>\n",
       "      <td>3</td>\n",
       "      <td>10</td>\n",
       "      <td>13</td>\n",
       "      <td>49.712</td>\n",
       "    </tr>\n",
       "    <tr>\n",
       "      <th>2011-01-01 04:00:00</th>\n",
       "      <td>1</td>\n",
       "      <td>0</td>\n",
       "      <td>0</td>\n",
       "      <td>1</td>\n",
       "      <td>9.84</td>\n",
       "      <td>14.395</td>\n",
       "      <td>75</td>\n",
       "      <td>0.0</td>\n",
       "      <td>0</td>\n",
       "      <td>1</td>\n",
       "      <td>1</td>\n",
       "      <td>49.712</td>\n",
       "    </tr>\n",
       "  </tbody>\n",
       "</table>\n",
       "</div>"
      ],
      "text/plain": [
       "                     season  holiday  workingday  weather  temp   atemp  \\\n",
       "datetime                                                                  \n",
       "2011-01-01 00:00:00       1        0           0        1  9.84  14.395   \n",
       "2011-01-01 01:00:00       1        0           0        1  9.02  13.635   \n",
       "2011-01-01 02:00:00       1        0           0        1  9.02  13.635   \n",
       "2011-01-01 03:00:00       1        0           0        1  9.84  14.395   \n",
       "2011-01-01 04:00:00       1        0           0        1  9.84  14.395   \n",
       "\n",
       "                     humidity  windspeed  casual  registered  total  temp_F  \n",
       "datetime                                                                     \n",
       "2011-01-01 00:00:00        81        0.0       3          13     16  49.712  \n",
       "2011-01-01 01:00:00        80        0.0       8          32     40  48.236  \n",
       "2011-01-01 02:00:00        80        0.0       5          27     32  48.236  \n",
       "2011-01-01 03:00:00        75        0.0       3          10     13  49.712  \n",
       "2011-01-01 04:00:00        75        0.0       0           1      1  49.712  "
      ]
     },
     "execution_count": 22,
     "metadata": {},
     "output_type": "execute_result"
    }
   ],
   "source": [
    "# create a new column for Fahrenheit temperature\n",
    "bikes['temp_F'] = bikes.temp * 1.8 + 32\n",
    "bikes.head()"
   ]
  },
  {
   "cell_type": "code",
   "execution_count": 23,
   "metadata": {},
   "outputs": [
    {
     "data": {
      "text/plain": [
       "<seaborn.axisgrid.FacetGrid at 0xca8df98>"
      ]
     },
     "execution_count": 23,
     "metadata": {},
     "output_type": "execute_result"
    },
    {
     "data": {
      "image/png": "[encoded data removed]",
      "text/plain": [
       "<matplotlib.figure.Figure at 0xd07eda0>"
      ]
     },
     "metadata": {},
     "output_type": "display_data"
    }
   ],
   "source": [
    "# Seaborn scatter plot with regression line\n",
    "sns.lmplot(x='temp_F', y='total', data=bikes, aspect=1.5, scatter_kws={'alpha':0.2})"
   ]
  },
  {
   "cell_type": "code",
   "execution_count": 24,
   "metadata": {},
   "outputs": [
    {
     "name": "stdout",
     "output_type": "stream",
     "text": [
      "-156.985617821\n",
      "[ 5.09474471]\n"
     ]
    }
   ],
   "source": [
    "# create X and y\n",
    "feature_cols = ['temp_F']\n",
    "X = bikes[feature_cols]\n",
    "y = bikes.total\n",
    "\n",
    "# instantiate and fit\n",
    "linreg = LinearRegression()\n",
    "linreg.fit(X, y)\n",
    "\n",
    "# print the coefficients\n",
    "print linreg.intercept_\n",
    "print linreg.coef_\n",
    "#y=5.09x - 156.99"
   ]
  },
  {
   "cell_type": "code",
   "execution_count": 25,
   "metadata": {},
   "outputs": [
    {
     "data": {
      "text/plain": [
       "77.0"
      ]
     },
     "execution_count": 25,
     "metadata": {},
     "output_type": "execute_result"
    }
   ],
   "source": [
    "# convert 25 degrees Celsius to Fahrenheit\n",
    "25 * 1.8 + 32"
   ]
  },
  {
   "cell_type": "code",
   "execution_count": 26,
   "metadata": {},
   "outputs": [
    {
     "data": {
      "text/plain": [
       "array([ 235.309725])"
      ]
     },
     "execution_count": 26,
     "metadata": {},
     "output_type": "execute_result"
    }
   ],
   "source": [
    "# predict rentals for 77 degrees Fahrenheit\n",
    "linreg.predict(77)"
   ]
  },
  {
   "cell_type": "markdown",
   "metadata": {},
   "source": [
    "**Conclusion:** The scale of the features is **irrelevant** for linear regression models. When changing the scale, we simply change our **interpretation** of the coefficients."
   ]
  },
  {
   "cell_type": "code",
   "execution_count": 27,
   "metadata": {
    "collapsed": true
   },
   "outputs": [],
   "source": [
    "# remove the temp_F column\n",
    "bikes.drop('temp_F', axis=1, inplace=True)"
   ]
  },
  {
   "cell_type": "code",
   "execution_count": 28,
   "metadata": {},
   "outputs": [
    {
     "data": {
      "text/html": [
       "<div>\n",
       "<style>\n",
       "    .dataframe thead tr:only-child th {\n",
       "        text-align: right;\n",
       "    }\n",
       "\n",
       "    .dataframe thead th {\n",
       "        text-align: left;\n",
       "    }\n",
       "\n",
       "    .dataframe tbody tr th {\n",
       "        vertical-align: top;\n",
       "    }\n",
       "</style>\n",
       "<table border=\"1\" class=\"dataframe\">\n",
       "  <thead>\n",
       "    <tr style=\"text-align: right;\">\n",
       "      <th></th>\n",
       "      <th>season</th>\n",
       "      <th>holiday</th>\n",
       "      <th>workingday</th>\n",
       "      <th>weather</th>\n",
       "      <th>temp</th>\n",
       "      <th>atemp</th>\n",
       "      <th>humidity</th>\n",
       "      <th>windspeed</th>\n",
       "      <th>casual</th>\n",
       "      <th>registered</th>\n",
       "      <th>total</th>\n",
       "    </tr>\n",
       "    <tr>\n",
       "      <th>datetime</th>\n",
       "      <th></th>\n",
       "      <th></th>\n",
       "      <th></th>\n",
       "      <th></th>\n",
       "      <th></th>\n",
       "      <th></th>\n",
       "      <th></th>\n",
       "      <th></th>\n",
       "      <th></th>\n",
       "      <th></th>\n",
       "      <th></th>\n",
       "    </tr>\n",
       "  </thead>\n",
       "  <tbody>\n",
       "    <tr>\n",
       "      <th>2011-01-01 00:00:00</th>\n",
       "      <td>1</td>\n",
       "      <td>0</td>\n",
       "      <td>0</td>\n",
       "      <td>1</td>\n",
       "      <td>9.84</td>\n",
       "      <td>14.395</td>\n",
       "      <td>81</td>\n",
       "      <td>0.0000</td>\n",
       "      <td>3</td>\n",
       "      <td>13</td>\n",
       "      <td>16</td>\n",
       "    </tr>\n",
       "    <tr>\n",
       "      <th>2011-01-01 01:00:00</th>\n",
       "      <td>1</td>\n",
       "      <td>0</td>\n",
       "      <td>0</td>\n",
       "      <td>1</td>\n",
       "      <td>9.02</td>\n",
       "      <td>13.635</td>\n",
       "      <td>80</td>\n",
       "      <td>0.0000</td>\n",
       "      <td>8</td>\n",
       "      <td>32</td>\n",
       "      <td>40</td>\n",
       "    </tr>\n",
       "    <tr>\n",
       "      <th>2011-01-01 02:00:00</th>\n",
       "      <td>1</td>\n",
       "      <td>0</td>\n",
       "      <td>0</td>\n",
       "      <td>1</td>\n",
       "      <td>9.02</td>\n",
       "      <td>13.635</td>\n",
       "      <td>80</td>\n",
       "      <td>0.0000</td>\n",
       "      <td>5</td>\n",
       "      <td>27</td>\n",
       "      <td>32</td>\n",
       "    </tr>\n",
       "    <tr>\n",
       "      <th>2011-01-01 03:00:00</th>\n",
       "      <td>1</td>\n",
       "      <td>0</td>\n",
       "      <td>0</td>\n",
       "      <td>1</td>\n",
       "      <td>9.84</td>\n",
       "      <td>14.395</td>\n",
       "      <td>75</td>\n",
       "      <td>0.0000</td>\n",
       "      <td>3</td>\n",
       "      <td>10</td>\n",
       "      <td>13</td>\n",
       "    </tr>\n",
       "    <tr>\n",
       "      <th>2011-01-01 04:00:00</th>\n",
       "      <td>1</td>\n",
       "      <td>0</td>\n",
       "      <td>0</td>\n",
       "      <td>1</td>\n",
       "      <td>9.84</td>\n",
       "      <td>14.395</td>\n",
       "      <td>75</td>\n",
       "      <td>0.0000</td>\n",
       "      <td>0</td>\n",
       "      <td>1</td>\n",
       "      <td>1</td>\n",
       "    </tr>\n",
       "    <tr>\n",
       "      <th>2011-01-01 05:00:00</th>\n",
       "      <td>1</td>\n",
       "      <td>0</td>\n",
       "      <td>0</td>\n",
       "      <td>2</td>\n",
       "      <td>9.84</td>\n",
       "      <td>12.880</td>\n",
       "      <td>75</td>\n",
       "      <td>6.0032</td>\n",
       "      <td>0</td>\n",
       "      <td>1</td>\n",
       "      <td>1</td>\n",
       "    </tr>\n",
       "    <tr>\n",
       "      <th>2011-01-01 06:00:00</th>\n",
       "      <td>1</td>\n",
       "      <td>0</td>\n",
       "      <td>0</td>\n",
       "      <td>1</td>\n",
       "      <td>9.02</td>\n",
       "      <td>13.635</td>\n",
       "      <td>80</td>\n",
       "      <td>0.0000</td>\n",
       "      <td>2</td>\n",
       "      <td>0</td>\n",
       "      <td>2</td>\n",
       "    </tr>\n",
       "    <tr>\n",
       "      <th>2011-01-01 07:00:00</th>\n",
       "      <td>1</td>\n",
       "      <td>0</td>\n",
       "      <td>0</td>\n",
       "      <td>1</td>\n",
       "      <td>8.20</td>\n",
       "      <td>12.880</td>\n",
       "      <td>86</td>\n",
       "      <td>0.0000</td>\n",
       "      <td>1</td>\n",
       "      <td>2</td>\n",
       "      <td>3</td>\n",
       "    </tr>\n",
       "    <tr>\n",
       "      <th>2011-01-01 08:00:00</th>\n",
       "      <td>1</td>\n",
       "      <td>0</td>\n",
       "      <td>0</td>\n",
       "      <td>1</td>\n",
       "      <td>9.84</td>\n",
       "      <td>14.395</td>\n",
       "      <td>75</td>\n",
       "      <td>0.0000</td>\n",
       "      <td>1</td>\n",
       "      <td>7</td>\n",
       "      <td>8</td>\n",
       "    </tr>\n",
       "    <tr>\n",
       "      <th>2011-01-01 09:00:00</th>\n",
       "      <td>1</td>\n",
       "      <td>0</td>\n",
       "      <td>0</td>\n",
       "      <td>1</td>\n",
       "      <td>13.12</td>\n",
       "      <td>17.425</td>\n",
       "      <td>76</td>\n",
       "      <td>0.0000</td>\n",
       "      <td>8</td>\n",
       "      <td>6</td>\n",
       "      <td>14</td>\n",
       "    </tr>\n",
       "  </tbody>\n",
       "</table>\n",
       "</div>"
      ],
      "text/plain": [
       "                     season  holiday  workingday  weather   temp   atemp  \\\n",
       "datetime                                                                   \n",
       "2011-01-01 00:00:00       1        0           0        1   9.84  14.395   \n",
       "2011-01-01 01:00:00       1        0           0        1   9.02  13.635   \n",
       "2011-01-01 02:00:00       1        0           0        1   9.02  13.635   \n",
       "2011-01-01 03:00:00       1        0           0        1   9.84  14.395   \n",
       "2011-01-01 04:00:00       1        0           0        1   9.84  14.395   \n",
       "2011-01-01 05:00:00       1        0           0        2   9.84  12.880   \n",
       "2011-01-01 06:00:00       1        0           0        1   9.02  13.635   \n",
       "2011-01-01 07:00:00       1        0           0        1   8.20  12.880   \n",
       "2011-01-01 08:00:00       1        0           0        1   9.84  14.395   \n",
       "2011-01-01 09:00:00       1        0           0        1  13.12  17.425   \n",
       "\n",
       "                     humidity  windspeed  casual  registered  total  \n",
       "datetime                                                             \n",
       "2011-01-01 00:00:00        81     0.0000       3          13     16  \n",
       "2011-01-01 01:00:00        80     0.0000       8          32     40  \n",
       "2011-01-01 02:00:00        80     0.0000       5          27     32  \n",
       "2011-01-01 03:00:00        75     0.0000       3          10     13  \n",
       "2011-01-01 04:00:00        75     0.0000       0           1      1  \n",
       "2011-01-01 05:00:00        75     6.0032       0           1      1  \n",
       "2011-01-01 06:00:00        80     0.0000       2           0      2  \n",
       "2011-01-01 07:00:00        86     0.0000       1           2      3  \n",
       "2011-01-01 08:00:00        75     0.0000       1           7      8  \n",
       "2011-01-01 09:00:00        76     0.0000       8           6     14  "
      ]
     },
     "execution_count": 28,
     "metadata": {},
     "output_type": "execute_result"
    }
   ],
   "source": [
    "bikes.head(10)"
   ]
  },
  {
   "cell_type": "markdown",
   "metadata": {},
   "source": [
    "## Visualizing the data (part 2)"
   ]
  },
  {
   "cell_type": "code",
   "execution_count": 29,
   "metadata": {
    "collapsed": true
   },
   "outputs": [],
   "source": [
    "# explore more features\n",
    "feature_cols = ['temp', 'season', 'weather', 'humidity']"
   ]
  },
  {
   "cell_type": "code",
   "execution_count": 30,
   "metadata": {},
   "outputs": [
    {
     "data": {
      "text/plain": [
       "<seaborn.axisgrid.PairGrid at 0x98746d8>"
      ]
     },
     "execution_count": 30,
     "metadata": {},
     "output_type": "execute_result"
    },
    {
     "data": {
      "image/png": "[encoded data removed]",
      "text/plain": [
       "<matplotlib.figure.Figure at 0x9864208>"
      ]
     },
     "metadata": {},
     "output_type": "display_data"
    }
   ],
   "source": [
    "# multiple scatter plots in Seaborn\n",
    "sns.pairplot(bikes, x_vars=feature_cols, y_vars='total', kind='reg')"
   ]
  },
  {
   "cell_type": "code",
   "execution_count": 31,
   "metadata": {},
   "outputs": [
    {
     "data": {
      "image/png": "[encoded data removed]",
      "text/plain": [
       "<matplotlib.figure.Figure at 0xe8e0518>"
      ]
     },
     "metadata": {},
     "output_type": "display_data"
    }
   ],
   "source": [
    "# multiple scatter plots in matplotlib\n",
    "fig, axs = plt.subplots(1, len(feature_cols), sharey=True)\n",
    "for index, feature in enumerate(feature_cols):\n",
    "    bikes.plot(kind='scatter', x=feature, y='total', ax=axs[index], figsize=(16, 3))"
   ]
  },
  {
   "cell_type": "markdown",
   "metadata": {},
   "source": [
    "Are you seeing anything that you did not expect?"
   ]
  },
  {
   "cell_type": "code",
   "execution_count": 32,
   "metadata": {},
   "outputs": [
    {
     "data": {
      "text/html": [
       "<div>\n",
       "<style>\n",
       "    .dataframe thead tr:only-child th {\n",
       "        text-align: right;\n",
       "    }\n",
       "\n",
       "    .dataframe thead th {\n",
       "        text-align: left;\n",
       "    }\n",
       "\n",
       "    .dataframe tbody tr th {\n",
       "        vertical-align: top;\n",
       "    }\n",
       "</style>\n",
       "<table border=\"1\" class=\"dataframe\">\n",
       "  <thead>\n",
       "    <tr style=\"text-align: right;\">\n",
       "      <th>col_0</th>\n",
       "      <th>1</th>\n",
       "      <th>2</th>\n",
       "      <th>3</th>\n",
       "      <th>4</th>\n",
       "      <th>5</th>\n",
       "      <th>6</th>\n",
       "      <th>7</th>\n",
       "      <th>8</th>\n",
       "      <th>9</th>\n",
       "      <th>10</th>\n",
       "      <th>11</th>\n",
       "      <th>12</th>\n",
       "    </tr>\n",
       "    <tr>\n",
       "      <th>season</th>\n",
       "      <th></th>\n",
       "      <th></th>\n",
       "      <th></th>\n",
       "      <th></th>\n",
       "      <th></th>\n",
       "      <th></th>\n",
       "      <th></th>\n",
       "      <th></th>\n",
       "      <th></th>\n",
       "      <th></th>\n",
       "      <th></th>\n",
       "      <th></th>\n",
       "    </tr>\n",
       "  </thead>\n",
       "  <tbody>\n",
       "    <tr>\n",
       "      <th>1</th>\n",
       "      <td>884</td>\n",
       "      <td>901</td>\n",
       "      <td>901</td>\n",
       "      <td>0</td>\n",
       "      <td>0</td>\n",
       "      <td>0</td>\n",
       "      <td>0</td>\n",
       "      <td>0</td>\n",
       "      <td>0</td>\n",
       "      <td>0</td>\n",
       "      <td>0</td>\n",
       "      <td>0</td>\n",
       "    </tr>\n",
       "    <tr>\n",
       "      <th>2</th>\n",
       "      <td>0</td>\n",
       "      <td>0</td>\n",
       "      <td>0</td>\n",
       "      <td>909</td>\n",
       "      <td>912</td>\n",
       "      <td>912</td>\n",
       "      <td>0</td>\n",
       "      <td>0</td>\n",
       "      <td>0</td>\n",
       "      <td>0</td>\n",
       "      <td>0</td>\n",
       "      <td>0</td>\n",
       "    </tr>\n",
       "    <tr>\n",
       "      <th>3</th>\n",
       "      <td>0</td>\n",
       "      <td>0</td>\n",
       "      <td>0</td>\n",
       "      <td>0</td>\n",
       "      <td>0</td>\n",
       "      <td>0</td>\n",
       "      <td>912</td>\n",
       "      <td>912</td>\n",
       "      <td>909</td>\n",
       "      <td>0</td>\n",
       "      <td>0</td>\n",
       "      <td>0</td>\n",
       "    </tr>\n",
       "    <tr>\n",
       "      <th>4</th>\n",
       "      <td>0</td>\n",
       "      <td>0</td>\n",
       "      <td>0</td>\n",
       "      <td>0</td>\n",
       "      <td>0</td>\n",
       "      <td>0</td>\n",
       "      <td>0</td>\n",
       "      <td>0</td>\n",
       "      <td>0</td>\n",
       "      <td>911</td>\n",
       "      <td>911</td>\n",
       "      <td>912</td>\n",
       "    </tr>\n",
       "  </tbody>\n",
       "</table>\n",
       "</div>"
      ],
      "text/plain": [
       "col_0    1    2    3    4    5    6    7    8    9    10   11   12\n",
       "season                                                            \n",
       "1       884  901  901    0    0    0    0    0    0    0    0    0\n",
       "2         0    0    0  909  912  912    0    0    0    0    0    0\n",
       "3         0    0    0    0    0    0  912  912  909    0    0    0\n",
       "4         0    0    0    0    0    0    0    0    0  911  911  912"
      ]
     },
     "execution_count": 32,
     "metadata": {},
     "output_type": "execute_result"
    }
   ],
   "source": [
    "# cross-tabulation of season and month\n",
    "pd.crosstab(bikes.season, bikes.index.month)"
   ]
  },
  {
   "cell_type": "code",
   "execution_count": 33,
   "metadata": {},
   "outputs": [
    {
     "name": "stderr",
     "output_type": "stream",
     "text": [
      "C:\\Users\\otag\\AppData\\Local\\Continuum\\anaconda3\\envs\\py27\\lib\\site-packages\\numpy\\core\\fromnumeric.py:57: FutureWarning: reshape is deprecated and will raise in a subsequent release. Please use .values.reshape(...) instead\n",
      "  return getattr(obj, method)(*args, **kwds)\n"
     ]
    },
    {
     "data": {
      "text/plain": [
       "<matplotlib.axes._subplots.AxesSubplot at 0xd89cfd0>"
      ]
     },
     "execution_count": 33,
     "metadata": {},
     "output_type": "execute_result"
    },
    {
     "data": {
      "image/png": "[encoded data removed]",
      "text/plain": [
       "<matplotlib.figure.Figure at 0xee04828>"
      ]
     },
     "metadata": {},
     "output_type": "display_data"
    }
   ],
   "source": [
    "# box plot of rentals, grouped by season\n",
    "bikes.boxplot(column='total', by='season')"
   ]
  },
  {
   "cell_type": "raw",
   "metadata": {},
   "source": []
  },
  {
   "cell_type": "markdown",
   "metadata": {},
   "source": [
    "Notably:\n",
    "\n",
    "- A line can't capture a non-linear relationship.\n",
    "- There are more rentals in winter than in spring (?)"
   ]
  },
  {
   "cell_type": "code",
   "execution_count": 34,
   "metadata": {},
   "outputs": [
    {
     "data": {
      "text/plain": [
       "<matplotlib.axes._subplots.AxesSubplot at 0xea90470>"
      ]
     },
     "execution_count": 34,
     "metadata": {},
     "output_type": "execute_result"
    },
    {
     "data": {
      "image/png": "[encoded data removed]",
      "text/plain": [
       "<matplotlib.figure.Figure at 0xebefcc0>"
      ]
     },
     "metadata": {},
     "output_type": "display_data"
    }
   ],
   "source": [
    "# line plot of rentals\n",
    "bikes.total.plot()"
   ]
  },
  {
   "cell_type": "markdown",
   "metadata": {},
   "source": [
    "What does this tell us?\n",
    "\n",
    "There are more rentals in the winter than the spring, but only because the system is experiencing **overall growth** and the winter months happen to come after the spring months."
   ]
  },
  {
   "cell_type": "code",
   "execution_count": 35,
   "metadata": {},
   "outputs": [
    {
     "data": {
      "text/html": [
       "<div>\n",
       "<style>\n",
       "    .dataframe thead tr:only-child th {\n",
       "        text-align: right;\n",
       "    }\n",
       "\n",
       "    .dataframe thead th {\n",
       "        text-align: left;\n",
       "    }\n",
       "\n",
       "    .dataframe tbody tr th {\n",
       "        vertical-align: top;\n",
       "    }\n",
       "</style>\n",
       "<table border=\"1\" class=\"dataframe\">\n",
       "  <thead>\n",
       "    <tr style=\"text-align: right;\">\n",
       "      <th></th>\n",
       "      <th>season</th>\n",
       "      <th>holiday</th>\n",
       "      <th>workingday</th>\n",
       "      <th>weather</th>\n",
       "      <th>temp</th>\n",
       "      <th>atemp</th>\n",
       "      <th>humidity</th>\n",
       "      <th>windspeed</th>\n",
       "      <th>casual</th>\n",
       "      <th>registered</th>\n",
       "      <th>total</th>\n",
       "    </tr>\n",
       "  </thead>\n",
       "  <tbody>\n",
       "    <tr>\n",
       "      <th>season</th>\n",
       "      <td>1.000000</td>\n",
       "      <td>0.029368</td>\n",
       "      <td>-0.008126</td>\n",
       "      <td>0.008879</td>\n",
       "      <td>0.258689</td>\n",
       "      <td>0.264744</td>\n",
       "      <td>0.190610</td>\n",
       "      <td>-0.147121</td>\n",
       "      <td>0.096758</td>\n",
       "      <td>0.164011</td>\n",
       "      <td>0.163439</td>\n",
       "    </tr>\n",
       "    <tr>\n",
       "      <th>holiday</th>\n",
       "      <td>0.029368</td>\n",
       "      <td>1.000000</td>\n",
       "      <td>-0.250491</td>\n",
       "      <td>-0.007074</td>\n",
       "      <td>0.000295</td>\n",
       "      <td>-0.005215</td>\n",
       "      <td>0.001929</td>\n",
       "      <td>0.008409</td>\n",
       "      <td>0.043799</td>\n",
       "      <td>-0.020956</td>\n",
       "      <td>-0.005393</td>\n",
       "    </tr>\n",
       "    <tr>\n",
       "      <th>workingday</th>\n",
       "      <td>-0.008126</td>\n",
       "      <td>-0.250491</td>\n",
       "      <td>1.000000</td>\n",
       "      <td>0.033772</td>\n",
       "      <td>0.029966</td>\n",
       "      <td>0.024660</td>\n",
       "      <td>-0.010880</td>\n",
       "      <td>0.013373</td>\n",
       "      <td>-0.319111</td>\n",
       "      <td>0.119460</td>\n",
       "      <td>0.011594</td>\n",
       "    </tr>\n",
       "    <tr>\n",
       "      <th>weather</th>\n",
       "      <td>0.008879</td>\n",
       "      <td>-0.007074</td>\n",
       "      <td>0.033772</td>\n",
       "      <td>1.000000</td>\n",
       "      <td>-0.055035</td>\n",
       "      <td>-0.055376</td>\n",
       "      <td>0.406244</td>\n",
       "      <td>0.007261</td>\n",
       "      <td>-0.135918</td>\n",
       "      <td>-0.109340</td>\n",
       "      <td>-0.128655</td>\n",
       "    </tr>\n",
       "    <tr>\n",
       "      <th>temp</th>\n",
       "      <td>0.258689</td>\n",
       "      <td>0.000295</td>\n",
       "      <td>0.029966</td>\n",
       "      <td>-0.055035</td>\n",
       "      <td>1.000000</td>\n",
       "      <td>0.984948</td>\n",
       "      <td>-0.064949</td>\n",
       "      <td>-0.017852</td>\n",
       "      <td>0.467097</td>\n",
       "      <td>0.318571</td>\n",
       "      <td>0.394454</td>\n",
       "    </tr>\n",
       "    <tr>\n",
       "      <th>atemp</th>\n",
       "      <td>0.264744</td>\n",
       "      <td>-0.005215</td>\n",
       "      <td>0.024660</td>\n",
       "      <td>-0.055376</td>\n",
       "      <td>0.984948</td>\n",
       "      <td>1.000000</td>\n",
       "      <td>-0.043536</td>\n",
       "      <td>-0.057473</td>\n",
       "      <td>0.462067</td>\n",
       "      <td>0.314635</td>\n",
       "      <td>0.389784</td>\n",
       "    </tr>\n",
       "    <tr>\n",
       "      <th>humidity</th>\n",
       "      <td>0.190610</td>\n",
       "      <td>0.001929</td>\n",
       "      <td>-0.010880</td>\n",
       "      <td>0.406244</td>\n",
       "      <td>-0.064949</td>\n",
       "      <td>-0.043536</td>\n",
       "      <td>1.000000</td>\n",
       "      <td>-0.318607</td>\n",
       "      <td>-0.348187</td>\n",
       "      <td>-0.265458</td>\n",
       "      <td>-0.317371</td>\n",
       "    </tr>\n",
       "    <tr>\n",
       "      <th>windspeed</th>\n",
       "      <td>-0.147121</td>\n",
       "      <td>0.008409</td>\n",
       "      <td>0.013373</td>\n",
       "      <td>0.007261</td>\n",
       "      <td>-0.017852</td>\n",
       "      <td>-0.057473</td>\n",
       "      <td>-0.318607</td>\n",
       "      <td>1.000000</td>\n",
       "      <td>0.092276</td>\n",
       "      <td>0.091052</td>\n",
       "      <td>0.101369</td>\n",
       "    </tr>\n",
       "    <tr>\n",
       "      <th>casual</th>\n",
       "      <td>0.096758</td>\n",
       "      <td>0.043799</td>\n",
       "      <td>-0.319111</td>\n",
       "      <td>-0.135918</td>\n",
       "      <td>0.467097</td>\n",
       "      <td>0.462067</td>\n",
       "      <td>-0.348187</td>\n",
       "      <td>0.092276</td>\n",
       "      <td>1.000000</td>\n",
       "      <td>0.497250</td>\n",
       "      <td>0.690414</td>\n",
       "    </tr>\n",
       "    <tr>\n",
       "      <th>registered</th>\n",
       "      <td>0.164011</td>\n",
       "      <td>-0.020956</td>\n",
       "      <td>0.119460</td>\n",
       "      <td>-0.109340</td>\n",
       "      <td>0.318571</td>\n",
       "      <td>0.314635</td>\n",
       "      <td>-0.265458</td>\n",
       "      <td>0.091052</td>\n",
       "      <td>0.497250</td>\n",
       "      <td>1.000000</td>\n",
       "      <td>0.970948</td>\n",
       "    </tr>\n",
       "    <tr>\n",
       "      <th>total</th>\n",
       "      <td>0.163439</td>\n",
       "      <td>-0.005393</td>\n",
       "      <td>0.011594</td>\n",
       "      <td>-0.128655</td>\n",
       "      <td>0.394454</td>\n",
       "      <td>0.389784</td>\n",
       "      <td>-0.317371</td>\n",
       "      <td>0.101369</td>\n",
       "      <td>0.690414</td>\n",
       "      <td>0.970948</td>\n",
       "      <td>1.000000</td>\n",
       "    </tr>\n",
       "  </tbody>\n",
       "</table>\n",
       "</div>"
      ],
      "text/plain": [
       "              season   holiday  workingday   weather      temp     atemp  \\\n",
       "season      1.000000  0.029368   -0.008126  0.008879  0.258689  0.264744   \n",
       "holiday     0.029368  1.000000   -0.250491 -0.007074  0.000295 -0.005215   \n",
       "workingday -0.008126 -0.250491    1.000000  0.033772  0.029966  0.024660   \n",
       "weather     0.008879 -0.007074    0.033772  1.000000 -0.055035 -0.055376   \n",
       "temp        0.258689  0.000295    0.029966 -0.055035  1.000000  0.984948   \n",
       "atemp       0.264744 -0.005215    0.024660 -0.055376  0.984948  1.000000   \n",
       "humidity    0.190610  0.001929   -0.010880  0.406244 -0.064949 -0.043536   \n",
       "windspeed  -0.147121  0.008409    0.013373  0.007261 -0.017852 -0.057473   \n",
       "casual      0.096758  0.043799   -0.319111 -0.135918  0.467097  0.462067   \n",
       "registered  0.164011 -0.020956    0.119460 -0.109340  0.318571  0.314635   \n",
       "total       0.163439 -0.005393    0.011594 -0.128655  0.394454  0.389784   \n",
       "\n",
       "            humidity  windspeed    casual  registered     total  \n",
       "season      0.190610  -0.147121  0.096758    0.164011  0.163439  \n",
       "holiday     0.001929   0.008409  0.043799   -0.020956 -0.005393  \n",
       "workingday -0.010880   0.013373 -0.319111    0.119460  0.011594  \n",
       "weather     0.406244   0.007261 -0.135918   -0.109340 -0.128655  \n",
       "temp       -0.064949  -0.017852  0.467097    0.318571  0.394454  \n",
       "atemp      -0.043536  -0.057473  0.462067    0.314635  0.389784  \n",
       "humidity    1.000000  -0.318607 -0.348187   -0.265458 -0.317371  \n",
       "windspeed  -0.318607   1.000000  0.092276    0.091052  0.101369  \n",
       "casual     -0.348187   0.092276  1.000000    0.497250  0.690414  \n",
       "registered -0.265458   0.091052  0.497250    1.000000  0.970948  \n",
       "total      -0.317371   0.101369  0.690414    0.970948  1.000000  "
      ]
     },
     "execution_count": 35,
     "metadata": {},
     "output_type": "execute_result"
    }
   ],
   "source": [
    "# correlation matrix (ranges from 1 to -1)\n",
    "bikes.corr()"
   ]
  },
  {
   "cell_type": "code",
   "execution_count": 36,
   "metadata": {},
   "outputs": [
    {
     "data": {
      "text/plain": [
       "<matplotlib.axes._subplots.AxesSubplot at 0xf463390>"
      ]
     },
     "execution_count": 36,
     "metadata": {},
     "output_type": "execute_result"
    },
    {
     "data": {
      "image/png": "[encoded data removed]",
      "text/plain": [
       "<matplotlib.figure.Figure at 0xf455550>"
      ]
     },
     "metadata": {},
     "output_type": "display_data"
    }
   ],
   "source": [
    "# visualize correlation matrix in Seaborn using a heatmap\n",
    "sns.heatmap(bikes.corr())"
   ]
  },
  {
   "cell_type": "markdown",
   "metadata": {},
   "source": [
    "What relationships do you notice?"
   ]
  },
  {
   "cell_type": "markdown",
   "metadata": {},
   "source": [
    "## Adding more features to the model"
   ]
  },
  {
   "cell_type": "code",
   "execution_count": 37,
   "metadata": {
    "collapsed": true
   },
   "outputs": [],
   "source": [
    "# create a list of features\n",
    "feature_cols = ['temp', 'season', 'weather', 'humidity']"
   ]
  },
  {
   "cell_type": "code",
   "execution_count": 38,
   "metadata": {},
   "outputs": [
    {
     "name": "stdout",
     "output_type": "stream",
     "text": [
      "159.520687861\n",
      "[  7.86482499  22.53875753   6.67030204  -3.11887338]\n"
     ]
    }
   ],
   "source": [
    "# create X and y\n",
    "X = bikes[feature_cols]\n",
    "y = bikes.total\n",
    "\n",
    "# instantiate and fit\n",
    "linreg = LinearRegression()\n",
    "linreg.fit(X, y)\n",
    "\n",
    "# print the coefficients\n",
    "print linreg.intercept_\n",
    "print linreg.coef_"
   ]
  },
  {
   "cell_type": "code",
   "execution_count": 39,
   "metadata": {},
   "outputs": [
    {
     "data": {
      "text/plain": [
       "[('temp', 7.8648249924774394),\n",
       " ('season', 22.538757532466761),\n",
       " ('weather', 6.6703020359237186),\n",
       " ('humidity', -3.1188733823965009)]"
      ]
     },
     "execution_count": 39,
     "metadata": {},
     "output_type": "execute_result"
    }
   ],
   "source": [
    "# pair the feature names with the coefficients\n",
    "zip(feature_cols, linreg.coef_)"
   ]
  },
  {
   "cell_type": "markdown",
   "metadata": {},
   "source": [
    "Interpreting the coefficients:\n",
    "\n",
    "- Holding all other features fixed, a 1 unit increase in **temperature** is associated with a **rental increase of 7.86 bikes**.\n",
    "- Holding all other features fixed, a 1 unit increase in **season** is associated with a **rental increase of 22.5 bikes**.\n",
    "- Holding all other features fixed, a 1 unit increase in **weather** is associated with a **rental increase of 6.67 bikes**.\n",
    "- Holding all other features fixed, a 1 unit increase in **humidity** is associated with a **rental decrease of 3.12 bikes**.\n",
    "\n",
    "Does anything look incorrect?"
   ]
  },
  {
   "cell_type": "markdown",
   "metadata": {},
   "source": [
    "## Feature selection\n",
    "\n",
    "How do we choose which features to include in the model? We're going to use **train/test split** (and eventually **cross-validation**).\n",
    "\n",
    "Why not use of **p-values** or **R-squared** for feature selection?\n",
    "\n",
    "- Linear models rely upon **a lot of assumptions** (such as the features being independent), and if those assumptions are violated, p-values and R-squared are less reliable. Train/test split relies on fewer assumptions.\n",
    "- Features that are unrelated to the response can still have **significant p-values**.\n",
    "- Adding features to your model that are unrelated to the response will always **increase the R-squared value**, and adjusted R-squared does not sufficiently account for this.\n",
    "- p-values and R-squared are **proxies** for our goal of generalization, whereas train/test split and cross-validation attempt to **directly estimate** how well the model will generalize to out-of-sample data.\n",
    "\n",
    "More generally:\n",
    "\n",
    "- There are different methodologies that can be used for solving any given data science problem, and this course follows a **machine learning methodology**.\n",
    "- This course focuses on **general purpose approaches** that can be applied to any model, rather than model-specific approaches."
   ]
  },
  {
   "cell_type": "markdown",
   "metadata": {},
   "source": [
    "## Evaluation metrics for regression problems\n",
    "\n",
    "Evaluation metrics for classification problems, such as **accuracy**, are not useful for regression problems. We need evaluation metrics designed for comparing **continuous values**.\n",
    "\n",
    "Here are three common evaluation metrics for regression problems:\n",
    "\n",
    "**Mean Absolute Error** (MAE) is the mean of the absolute value of the errors:\n",
    "\n",
    "$$\\frac 1n\\sum_{i=1}^n|y_i-\\hat{y}_i|$$\n",
    "\n",
    "**Mean Squared Error** (MSE) is the mean of the squared errors:\n",
    "\n",
    "$$\\frac 1n\\sum_{i=1}^n(y_i-\\hat{y}_i)^2$$\n",
    "\n",
    "**Root Mean Squared Error** (RMSE) is the square root of the mean of the squared errors:\n",
    "\n",
    "$$\\sqrt{\\frac 1n\\sum_{i=1}^n(y_i-\\hat{y}_i)^2}$$"
   ]
  },
  {
   "cell_type": "code",
   "execution_count": 40,
   "metadata": {
    "collapsed": true
   },
   "outputs": [],
   "source": [
    "# example true and predicted response values\n",
    "true = [10, 7, 5, 5]\n",
    "pred = [8, 6, 5, 10]"
   ]
  },
  {
   "cell_type": "code",
   "execution_count": 41,
   "metadata": {},
   "outputs": [
    {
     "name": "stdout",
     "output_type": "stream",
     "text": [
      "MAE: 2.0\n",
      "MSE: 7.5\n",
      "RMSE: 2.73861278753\n"
     ]
    }
   ],
   "source": [
    "# calculate these metrics by hand!\n",
    "from sklearn import metrics\n",
    "import numpy as np\n",
    "print 'MAE:', metrics.mean_absolute_error(true, pred)\n",
    "print 'MSE:', metrics.mean_squared_error(true, pred)\n",
    "print 'RMSE:', np.sqrt(metrics.mean_squared_error(true, pred))"
   ]
  },
  {
   "cell_type": "markdown",
   "metadata": {},
   "source": [
    "Comparing these metrics:\n",
    "\n",
    "- **MAE** is the easiest to understand, because it's the average error.\n",
    "- **MSE** is more popular than MAE, because MSE \"punishes\" larger errors, which tends to be useful in the real world.\n",
    "- **RMSE** is even more popular than MSE, because RMSE is interpretable in the \"y\" units.\n",
    "\n",
    "All of these are **loss functions**, because we want to minimize them.\n",
    "\n",
    "Here's an additional example, to demonstrate how MSE/RMSE punish larger errors:"
   ]
  },
  {
   "cell_type": "code",
   "execution_count": 42,
   "metadata": {},
   "outputs": [
    {
     "name": "stdout",
     "output_type": "stream",
     "text": [
      "MAE: 2.0\n",
      "MSE: 16.0\n",
      "RMSE: 4.0\n"
     ]
    }
   ],
   "source": [
    "# same true values as above\n",
    "true = [10, 7, 5, 5]\n",
    "\n",
    "# new set of predicted values\n",
    "pred = [10, 7, 5, 13]\n",
    "\n",
    "# MAE is the same as before\n",
    "print 'MAE:', metrics.mean_absolute_error(true, pred)\n",
    "\n",
    "# MSE and RMSE are larger than before\n",
    "print 'MSE:', metrics.mean_squared_error(true, pred)\n",
    "print 'RMSE:', np.sqrt(metrics.mean_squared_error(true, pred))"
   ]
  },
  {
   "cell_type": "markdown",
   "metadata": {},
   "source": [
    "## Comparing models with train/test split and RMSE"
   ]
  },
  {
   "cell_type": "code",
   "execution_count": 43,
   "metadata": {
    "collapsed": true
   },
   "outputs": [],
   "source": [
    "# from sklearn.cross_validation import train_test_split # deprecated syntax\n",
    "from sklearn.model_selection import train_test_split\n",
    "# define a function that accepts a list of features and returns testing RMSE\n",
    "def train_test_rmse(feature_cols):\n",
    "    X = bikes[feature_cols]\n",
    "    y = bikes.total\n",
    "    X_train, X_test, y_train, y_test = train_test_split(X, y, random_state=123)\n",
    "    linreg = LinearRegression()\n",
    "    linreg.fit(X_train, y_train)\n",
    "    y_pred = linreg.predict(X_test)\n",
    "    return np.sqrt(metrics.mean_squared_error(y_test, y_pred))"
   ]
  },
  {
   "cell_type": "code",
   "execution_count": 44,
   "metadata": {},
   "outputs": [
    {
     "data": {
      "text/plain": [
       "[                      temp  season  weather  humidity\n",
       " datetime                                             \n",
       " 2011-12-01 03:00:00  10.66       4        1        56\n",
       " 2012-09-08 11:00:00  31.16       3        1        62\n",
       " 2011-04-14 20:00:00  20.50       2        1        51\n",
       " 2012-06-06 19:00:00  22.96       2        1        73\n",
       " 2012-06-12 07:00:00  25.42       2        3        88\n",
       " 2012-06-17 02:00:00  22.96       2        1        56\n",
       " 2011-02-14 03:00:00  13.94       1        1        46\n",
       " 2012-05-04 01:00:00  24.60       2        1        78\n",
       " 2012-04-06 19:00:00  19.68       2        1        23\n",
       " 2012-08-03 06:00:00  27.06       3        1        83\n",
       " 2011-08-17 23:00:00  28.70       3        1        65\n",
       " 2012-09-18 11:00:00  27.88       3        2        79\n",
       " 2012-08-18 09:00:00  27.06       3        1        65\n",
       " 2011-02-11 15:00:00  13.12       1        1        21\n",
       " 2011-06-12 00:00:00  27.06       2        1        78\n",
       " 2012-01-13 00:00:00  16.40       1        2        71\n",
       " 2012-12-17 23:00:00  17.22       4        3        94\n",
       " 2011-06-12 18:00:00  28.70       2        1        74\n",
       " 2011-05-04 13:00:00  18.86       2        2        59\n",
       " 2011-07-11 13:00:00  35.26       3        1        50\n",
       " 2012-05-19 08:00:00  21.32       2        1        52\n",
       " 2011-09-13 14:00:00  30.34       3        1        51\n",
       " 2012-12-16 23:00:00  14.76       4        2        93\n",
       " 2012-01-07 20:00:00  20.50       1        1        39\n",
       " 2012-10-13 20:00:00  16.40       4        1        54\n",
       " 2011-08-19 16:00:00  32.80       3        1        49\n",
       " 2011-09-13 19:00:00  27.88       3        1        69\n",
       " 2011-08-09 07:00:00  29.52       3        1        74\n",
       " 2012-11-01 04:00:00  13.94       4        2        66\n",
       " 2011-03-07 21:00:00  11.48       1        1        38\n",
       " ...                    ...     ...      ...       ...\n",
       " 2012-02-09 11:00:00   9.84       1        1        52\n",
       " 2012-03-14 07:00:00  18.04       1        1        82\n",
       " 2012-03-18 03:00:00  18.04       1        2        88\n",
       " 2012-12-19 22:00:00  13.94       4        1        61\n",
       " 2011-01-02 16:00:00  13.94       1        3        71\n",
       " 2012-03-07 10:00:00  14.76       1        1        50\n",
       " 2012-11-12 04:00:00  16.40       4        1        76\n",
       " 2011-05-03 21:00:00  26.24       2        2        61\n",
       " 2012-06-13 02:00:00  25.42       2        1        83\n",
       " 2011-03-10 01:00:00  13.94       1        3         0\n",
       " 2011-08-08 11:00:00  33.62       3        1        48\n",
       " 2011-07-09 12:00:00  32.80       3        1        46\n",
       " 2011-04-02 16:00:00  15.58       2        1        62\n",
       " 2011-08-14 23:00:00  24.60       3        3        83\n",
       " 2011-01-05 20:00:00   9.02       1        1        47\n",
       " 2012-03-02 14:00:00  18.04       1        2        44\n",
       " 2011-03-03 17:00:00  10.66       1        1        22\n",
       " 2012-01-11 04:00:00   8.20       1        1        80\n",
       " 2011-10-05 18:00:00  24.60       4        1        53\n",
       " 2011-10-04 16:00:00  23.78       4        1        56\n",
       " 2012-03-19 21:00:00  24.60       1        1        64\n",
       " 2012-02-16 23:00:00  13.12       1        1        81\n",
       " 2011-01-05 05:00:00   9.02       1        1        47\n",
       " 2012-01-19 06:00:00   4.92       1        1        54\n",
       " 2012-05-06 23:00:00  21.32       2        1        77\n",
       " 2012-10-12 02:00:00  16.40       4        1        66\n",
       " 2012-06-03 20:00:00  27.06       2        1        39\n",
       " 2011-12-11 12:00:00  10.66       4        1        35\n",
       " 2011-04-01 23:00:00  12.30       2        1        61\n",
       " 2011-08-19 04:00:00  26.24       3        1        83\n",
       " \n",
       " [8164 rows x 4 columns],                       temp  season  weather  humidity\n",
       " datetime                                             \n",
       " 2012-03-07 21:00:00  18.04       1        1        62\n",
       " 2012-04-12 03:00:00  13.12       2        1        61\n",
       " 2011-02-06 10:00:00  12.30       1        1        52\n",
       " 2011-12-05 23:00:00  18.86       4        2        88\n",
       " 2011-08-08 14:00:00  33.62       3        1        43\n",
       " 2011-04-02 21:00:00  13.12       2        1        61\n",
       " 2011-08-13 19:00:00  27.88       3        2        79\n",
       " 2011-04-09 20:00:00  15.58       2        2        87\n",
       " 2011-02-01 19:00:00   9.84       1        2        81\n",
       " 2012-05-17 03:00:00  24.60       2        1        73\n",
       " 2011-01-05 06:00:00   8.20       1        1        47\n",
       " 2011-06-02 01:00:00  29.52       2        1        38\n",
       " 2012-06-10 12:00:00  33.62       2        1        30\n",
       " 2011-02-10 19:00:00   5.74       1        1        28\n",
       " 2012-01-15 21:00:00   6.56       1        1        40\n",
       " 2012-10-05 01:00:00  22.14       4        1        68\n",
       " 2012-05-16 19:00:00  28.70       2        1        54\n",
       " 2011-07-10 16:00:00  34.44       3        1        41\n",
       " 2011-07-01 23:00:00  27.88       3        1        47\n",
       " 2011-02-10 16:00:00   8.20       1        1        27\n",
       " 2011-06-13 02:00:00  25.42       2        1        73\n",
       " 2011-07-03 01:00:00  28.70       3        2        61\n",
       " 2012-07-15 22:00:00  29.52       3        1        74\n",
       " 2011-10-05 02:00:00  18.86       4        1        82\n",
       " 2011-10-04 20:00:00  21.32       4        1        68\n",
       " 2011-07-03 00:00:00  28.70       3        1        58\n",
       " 2011-07-13 02:00:00  31.16       3        1        55\n",
       " 2012-10-01 08:00:00  18.86       4        2        77\n",
       " 2012-12-15 06:00:00   9.84       4        2        75\n",
       " 2011-06-19 04:00:00  27.06       2        2        74\n",
       " ...                    ...     ...      ...       ...\n",
       " 2011-11-06 14:00:00  18.86       4        1        55\n",
       " 2011-01-04 20:00:00   9.84       1        1        48\n",
       " 2012-08-09 17:00:00  35.26       3        1        36\n",
       " 2012-11-02 20:00:00  14.76       4        2        46\n",
       " 2011-07-06 13:00:00  30.34       3        2        70\n",
       " 2011-06-07 21:00:00  29.52       2        1        70\n",
       " 2012-11-17 14:00:00  17.22       4        1        38\n",
       " 2011-12-12 04:00:00   7.38       4        1        74\n",
       " 2012-08-04 10:00:00  33.62       3        1        57\n",
       " 2012-03-01 14:00:00  23.78       1        1        35\n",
       " 2012-06-01 01:00:00  26.24       2        1        53\n",
       " 2011-06-01 12:00:00  35.26       2        1        53\n",
       " 2012-01-17 14:00:00  18.04       1        1        62\n",
       " 2012-04-07 02:00:00  14.76       2        1        29\n",
       " 2012-07-10 23:00:00  26.24       3        2        89\n",
       " 2012-08-16 17:00:00  33.62       3        1        34\n",
       " 2012-09-01 20:00:00  31.16       3        3        67\n",
       " 2012-03-04 13:00:00  14.76       1        1        37\n",
       " 2011-05-13 16:00:00  21.32       2        2        88\n",
       " 2011-04-03 14:00:00  18.86       2        1        31\n",
       " 2011-05-01 22:00:00  18.86       2        2        82\n",
       " 2012-06-17 11:00:00  25.42       2        1        57\n",
       " 2012-05-14 15:00:00  25.42       2        2        73\n",
       " 2011-07-14 05:00:00  24.60       3        1        56\n",
       " 2012-04-07 07:00:00  13.12       2        1        33\n",
       " 2012-10-11 00:00:00  18.04       4        1        51\n",
       " 2011-08-16 14:00:00  31.16       3        1        45\n",
       " 2012-12-07 02:00:00  10.66       4        2        70\n",
       " 2011-11-01 20:00:00  16.40       4        1        71\n",
       " 2012-06-06 07:00:00  20.50       2        1        72\n",
       " \n",
       " [2722 rows x 4 columns], datetime\n",
       " 2011-12-01 03:00:00      7\n",
       " 2012-09-08 11:00:00    578\n",
       " 2011-04-14 20:00:00    169\n",
       " 2012-06-06 19:00:00    538\n",
       " 2012-06-12 07:00:00    303\n",
       " 2012-06-17 02:00:00     74\n",
       " 2011-02-14 03:00:00      2\n",
       " 2012-05-04 01:00:00     48\n",
       " 2012-04-06 19:00:00    412\n",
       " 2012-08-03 06:00:00    163\n",
       " 2011-08-17 23:00:00    105\n",
       " 2012-09-18 11:00:00    151\n",
       " 2012-08-18 09:00:00    292\n",
       " 2011-02-11 15:00:00     74\n",
       " 2011-06-12 00:00:00    119\n",
       " 2012-01-13 00:00:00     42\n",
       " 2012-12-17 23:00:00     47\n",
       " 2011-06-12 18:00:00    256\n",
       " 2011-05-04 13:00:00    143\n",
       " 2011-07-11 13:00:00    141\n",
       " 2012-05-19 08:00:00    195\n",
       " 2011-09-13 14:00:00    190\n",
       " 2012-12-16 23:00:00     33\n",
       " 2012-01-07 20:00:00    170\n",
       " 2012-10-13 20:00:00    255\n",
       " 2011-08-19 16:00:00    327\n",
       " 2011-09-13 19:00:00    396\n",
       " 2011-08-09 07:00:00    343\n",
       " 2012-11-01 04:00:00     10\n",
       " 2011-03-07 21:00:00     54\n",
       "                       ... \n",
       " 2012-02-09 11:00:00     99\n",
       " 2012-03-14 07:00:00    368\n",
       " 2012-03-18 03:00:00     18\n",
       " 2012-12-19 22:00:00    129\n",
       " 2011-01-02 16:00:00     76\n",
       " 2012-03-07 10:00:00    147\n",
       " 2012-11-12 04:00:00      4\n",
       " 2011-05-03 21:00:00    225\n",
       " 2012-06-13 02:00:00      4\n",
       " 2011-03-10 01:00:00      2\n",
       " 2011-08-08 11:00:00    179\n",
       " 2011-07-09 12:00:00    366\n",
       " 2011-04-02 16:00:00    196\n",
       " 2011-08-14 23:00:00     27\n",
       " 2011-01-05 20:00:00     89\n",
       " 2012-03-02 14:00:00    205\n",
       " 2011-03-03 17:00:00    202\n",
       " 2012-01-11 04:00:00      2\n",
       " 2011-10-05 18:00:00    593\n",
       " 2011-10-04 16:00:00    309\n",
       " 2012-03-19 21:00:00    223\n",
       " 2012-02-16 23:00:00     73\n",
       " 2011-01-05 05:00:00      3\n",
       " 2012-01-19 06:00:00     86\n",
       " 2012-05-06 23:00:00    102\n",
       " 2012-10-12 02:00:00     16\n",
       " 2012-06-03 20:00:00    314\n",
       " 2011-12-11 12:00:00    288\n",
       " 2011-04-01 23:00:00     53\n",
       " 2011-08-19 04:00:00      8\n",
       " Name: total, Length: 8164, dtype: int64, datetime\n",
       " 2012-03-07 21:00:00    188\n",
       " 2012-04-12 03:00:00      5\n",
       " 2011-02-06 10:00:00     89\n",
       " 2011-12-05 23:00:00     62\n",
       " 2011-08-08 14:00:00    150\n",
       " 2011-04-02 21:00:00     77\n",
       " 2011-08-13 19:00:00    237\n",
       " 2011-04-09 20:00:00     93\n",
       " 2011-02-01 19:00:00    108\n",
       " 2012-05-17 03:00:00      3\n",
       " 2011-01-05 06:00:00     33\n",
       " 2011-06-02 01:00:00     15\n",
       " 2012-06-10 12:00:00    502\n",
       " 2011-02-10 19:00:00    112\n",
       " 2012-01-15 21:00:00     72\n",
       " 2012-10-05 01:00:00     46\n",
       " 2012-05-16 19:00:00    590\n",
       " 2011-07-10 16:00:00    372\n",
       " 2011-07-01 23:00:00    140\n",
       " 2011-02-10 16:00:00     80\n",
       " 2011-06-13 02:00:00     10\n",
       " 2011-07-03 01:00:00     78\n",
       " 2012-07-15 22:00:00    130\n",
       " 2011-10-05 02:00:00      3\n",
       " 2011-10-04 20:00:00    261\n",
       " 2011-07-03 00:00:00    144\n",
       " 2011-07-13 02:00:00      5\n",
       " 2012-10-01 08:00:00    784\n",
       " 2012-12-15 06:00:00     11\n",
       " 2011-06-19 04:00:00     17\n",
       "                       ... \n",
       " 2011-11-06 14:00:00    320\n",
       " 2011-01-04 20:00:00     54\n",
       " 2012-08-09 17:00:00    810\n",
       " 2012-11-02 20:00:00    221\n",
       " 2011-07-06 13:00:00    140\n",
       " 2011-06-07 21:00:00    218\n",
       " 2012-11-17 14:00:00    555\n",
       " 2011-12-12 04:00:00      3\n",
       " 2012-08-04 10:00:00    396\n",
       " 2012-03-01 14:00:00    211\n",
       " 2012-06-01 01:00:00     34\n",
       " 2011-06-01 12:00:00    169\n",
       " 2012-01-17 14:00:00    132\n",
       " 2012-04-07 02:00:00     36\n",
       " 2012-07-10 23:00:00    103\n",
       " 2012-08-16 17:00:00    897\n",
       " 2012-09-01 20:00:00    207\n",
       " 2012-03-04 13:00:00    364\n",
       " 2011-05-13 16:00:00    300\n",
       " 2011-04-03 14:00:00    349\n",
       " 2011-05-01 22:00:00    100\n",
       " 2012-06-17 11:00:00    546\n",
       " 2012-05-14 15:00:00    196\n",
       " 2011-07-14 05:00:00     28\n",
       " 2012-04-07 07:00:00     54\n",
       " 2012-10-11 00:00:00     42\n",
       " 2011-08-16 14:00:00    182\n",
       " 2012-12-07 02:00:00     11\n",
       " 2011-11-01 20:00:00    209\n",
       " 2012-06-06 07:00:00    547\n",
       " Name: total, Length: 2722, dtype: int64]"
      ]
     },
     "execution_count": 44,
     "metadata": {},
     "output_type": "execute_result"
    }
   ],
   "source": [
    "train_test_split(X, y, random_state=123)"
   ]
  },
  {
   "cell_type": "code",
   "execution_count": 47,
   "metadata": {},
   "outputs": [
    {
     "name": "stdout",
     "output_type": "stream",
     "text": [
      "155.649459131\n",
      "164.165399763\n",
      "155.598189367\n",
      "157.190191195\n",
      "165.915959067\n",
      "164.965619973\n"
     ]
    }
   ],
   "source": [
    "# compare different sets of features\n",
    "print train_test_rmse(['temp', 'season', 'weather', 'humidity'])\n",
    "print train_test_rmse(['temp', 'season', 'weather'])\n",
    "print train_test_rmse(['temp', 'season', 'humidity'])\n",
    "print train_test_rmse(['temp', 'humidity'])\n",
    "print train_test_rmse(['temp', 'season'])\n",
    "print train_test_rmse(['humidity', 'season'])"
   ]
  },
  {
   "cell_type": "code",
   "execution_count": 46,
   "metadata": {},
   "outputs": [
    {
     "name": "stdout",
     "output_type": "stream",
     "text": [
      "6.46507997608e-14\n"
     ]
    }
   ],
   "source": [
    "# using these as features is not allowed!\n",
    "print train_test_rmse(['casual', 'registered'])"
   ]
  },
  {
   "cell_type": "markdown",
   "metadata": {},
   "source": [
    "## Comparing testing RMSE with null RMSE\n",
    "\n",
    "Null RMSE is the RMSE that could be achieved by **always predicting the mean response value**. It is a benchmark against which you may want to measure your regression model."
   ]
  },
  {
   "cell_type": "code",
   "execution_count": 48,
   "metadata": {},
   "outputs": [
    {
     "data": {
      "text/plain": [
       "array([ 192.26451139,  192.26451139,  192.26451139, ...,  192.26451139,\n",
       "        192.26451139,  192.26451139])"
      ]
     },
     "execution_count": 48,
     "metadata": {},
     "output_type": "execute_result"
    }
   ],
   "source": [
    "# split X and y into training and testing sets\n",
    "X_train, X_test, y_train, y_test = train_test_split(X, y, random_state=123)\n",
    "\n",
    "# create a NumPy array with the same shape as y_test\n",
    "y_null = np.zeros_like(y_test, dtype=float)\n",
    "\n",
    "# fill the array with the mean value of y_test\n",
    "y_null.fill(y_test.mean())\n",
    "y_null"
   ]
  },
  {
   "cell_type": "code",
   "execution_count": 49,
   "metadata": {},
   "outputs": [
    {
     "data": {
      "text/plain": [
       "179.57906896465727"
      ]
     },
     "execution_count": 49,
     "metadata": {},
     "output_type": "execute_result"
    }
   ],
   "source": [
    "# compute null RMSE\n",
    "np.sqrt(metrics.mean_squared_error(y_test, y_null))"
   ]
  },
  {
   "cell_type": "markdown",
   "metadata": {},
   "source": [
    "## Handling categorical features\n",
    "\n",
    "scikit-learn expects all features to be numeric. So how do we include a categorical feature in our model?\n",
    "\n",
    "- **Ordered categories:** transform them to sensible numeric values (example: small=1, medium=2, large=3)\n",
    "- **Unordered categories:** use dummy encoding (0/1)\n",
    "\n",
    "What are the categorical features in our dataset?\n",
    "\n",
    "- **Ordered categories:** weather (already encoded with sensible numeric values)\n",
    "- **Unordered categories:** season (needs dummy encoding), holiday (already dummy encoded), workingday (already dummy encoded)\n",
    "\n",
    "For season, we can't simply leave the encoding as 1 = spring, 2 = summer, 3 = fall, and 4 = winter, because that would imply an **ordered relationship**. Instead, we create **multiple dummy variables:**"
   ]
  },
  {
   "cell_type": "code",
   "execution_count": 50,
   "metadata": {},
   "outputs": [
    {
     "data": {
      "text/html": [
       "<div>\n",
       "<style>\n",
       "    .dataframe thead tr:only-child th {\n",
       "        text-align: right;\n",
       "    }\n",
       "\n",
       "    .dataframe thead th {\n",
       "        text-align: left;\n",
       "    }\n",
       "\n",
       "    .dataframe tbody tr th {\n",
       "        vertical-align: top;\n",
       "    }\n",
       "</style>\n",
       "<table border=\"1\" class=\"dataframe\">\n",
       "  <thead>\n",
       "    <tr style=\"text-align: right;\">\n",
       "      <th></th>\n",
       "      <th>season_1</th>\n",
       "      <th>season_2</th>\n",
       "      <th>season_3</th>\n",
       "      <th>season_4</th>\n",
       "    </tr>\n",
       "    <tr>\n",
       "      <th>datetime</th>\n",
       "      <th></th>\n",
       "      <th></th>\n",
       "      <th></th>\n",
       "      <th></th>\n",
       "    </tr>\n",
       "  </thead>\n",
       "  <tbody>\n",
       "    <tr>\n",
       "      <th>2011-09-05 11:00:00</th>\n",
       "      <td>0</td>\n",
       "      <td>0</td>\n",
       "      <td>1</td>\n",
       "      <td>0</td>\n",
       "    </tr>\n",
       "    <tr>\n",
       "      <th>2012-03-18 04:00:00</th>\n",
       "      <td>1</td>\n",
       "      <td>0</td>\n",
       "      <td>0</td>\n",
       "      <td>0</td>\n",
       "    </tr>\n",
       "    <tr>\n",
       "      <th>2012-10-14 17:00:00</th>\n",
       "      <td>0</td>\n",
       "      <td>0</td>\n",
       "      <td>0</td>\n",
       "      <td>1</td>\n",
       "    </tr>\n",
       "    <tr>\n",
       "      <th>2011-04-04 15:00:00</th>\n",
       "      <td>0</td>\n",
       "      <td>1</td>\n",
       "      <td>0</td>\n",
       "      <td>0</td>\n",
       "    </tr>\n",
       "    <tr>\n",
       "      <th>2012-12-11 02:00:00</th>\n",
       "      <td>0</td>\n",
       "      <td>0</td>\n",
       "      <td>0</td>\n",
       "      <td>1</td>\n",
       "    </tr>\n",
       "  </tbody>\n",
       "</table>\n",
       "</div>"
      ],
      "text/plain": [
       "                     season_1  season_2  season_3  season_4\n",
       "datetime                                                   \n",
       "2011-09-05 11:00:00         0         0         1         0\n",
       "2012-03-18 04:00:00         1         0         0         0\n",
       "2012-10-14 17:00:00         0         0         0         1\n",
       "2011-04-04 15:00:00         0         1         0         0\n",
       "2012-12-11 02:00:00         0         0         0         1"
      ]
     },
     "execution_count": 50,
     "metadata": {},
     "output_type": "execute_result"
    }
   ],
   "source": [
    "# create dummy variables\n",
    "season_dummies = pd.get_dummies(bikes.season, prefix='season')\n",
    "\n",
    "# print 5 random rows\n",
    "season_dummies.sample(n=5, random_state=1)"
   ]
  },
  {
   "cell_type": "code",
   "execution_count": null,
   "metadata": {
    "collapsed": true
   },
   "outputs": [],
   "source": []
  },
  {
   "cell_type": "markdown",
   "metadata": {},
   "source": [
    "However, we actually only need **three dummy variables (not four)**, and thus we'll drop the first dummy variable.\n",
    "\n",
    "Why? Because three dummies captures all of the \"information\" about the season feature, and implicitly defines spring (season 1) as the **baseline level:**"
   ]
  },
  {
   "cell_type": "code",
   "execution_count": 51,
   "metadata": {},
   "outputs": [
    {
     "data": {
      "text/html": [
       "<div>\n",
       "<style>\n",
       "    .dataframe thead tr:only-child th {\n",
       "        text-align: right;\n",
       "    }\n",
       "\n",
       "    .dataframe thead th {\n",
       "        text-align: left;\n",
       "    }\n",
       "\n",
       "    .dataframe tbody tr th {\n",
       "        vertical-align: top;\n",
       "    }\n",
       "</style>\n",
       "<table border=\"1\" class=\"dataframe\">\n",
       "  <thead>\n",
       "    <tr style=\"text-align: right;\">\n",
       "      <th></th>\n",
       "      <th>season_2</th>\n",
       "      <th>season_3</th>\n",
       "      <th>season_4</th>\n",
       "    </tr>\n",
       "    <tr>\n",
       "      <th>datetime</th>\n",
       "      <th></th>\n",
       "      <th></th>\n",
       "      <th></th>\n",
       "    </tr>\n",
       "  </thead>\n",
       "  <tbody>\n",
       "    <tr>\n",
       "      <th>2011-09-05 11:00:00</th>\n",
       "      <td>0</td>\n",
       "      <td>1</td>\n",
       "      <td>0</td>\n",
       "    </tr>\n",
       "    <tr>\n",
       "      <th>2012-03-18 04:00:00</th>\n",
       "      <td>0</td>\n",
       "      <td>0</td>\n",
       "      <td>0</td>\n",
       "    </tr>\n",
       "    <tr>\n",
       "      <th>2012-10-14 17:00:00</th>\n",
       "      <td>0</td>\n",
       "      <td>0</td>\n",
       "      <td>1</td>\n",
       "    </tr>\n",
       "    <tr>\n",
       "      <th>2011-04-04 15:00:00</th>\n",
       "      <td>1</td>\n",
       "      <td>0</td>\n",
       "      <td>0</td>\n",
       "    </tr>\n",
       "    <tr>\n",
       "      <th>2012-12-11 02:00:00</th>\n",
       "      <td>0</td>\n",
       "      <td>0</td>\n",
       "      <td>1</td>\n",
       "    </tr>\n",
       "  </tbody>\n",
       "</table>\n",
       "</div>"
      ],
      "text/plain": [
       "                     season_2  season_3  season_4\n",
       "datetime                                         \n",
       "2011-09-05 11:00:00         0         1         0\n",
       "2012-03-18 04:00:00         0         0         0\n",
       "2012-10-14 17:00:00         0         0         1\n",
       "2011-04-04 15:00:00         1         0         0\n",
       "2012-12-11 02:00:00         0         0         1"
      ]
     },
     "execution_count": 51,
     "metadata": {},
     "output_type": "execute_result"
    }
   ],
   "source": [
    "# drop the first column\n",
    "season_dummies.drop(season_dummies.columns[0], axis=1, inplace=True)\n",
    "\n",
    "# print 5 random rows\n",
    "season_dummies.sample(n=5, random_state=1)"
   ]
  },
  {
   "cell_type": "markdown",
   "metadata": {},
   "source": [
    "In general, if you have a categorical feature with **k possible values**, you create **k-1 dummy variables**.\n",
    "\n",
    "If that's confusing, think about why we only need one dummy variable for holiday, not two dummy variables (holiday_yes and holiday_no)."
   ]
  },
  {
   "cell_type": "code",
   "execution_count": 52,
   "metadata": {},
   "outputs": [
    {
     "data": {
      "text/html": [
       "<div>\n",
       "<style>\n",
       "    .dataframe thead tr:only-child th {\n",
       "        text-align: right;\n",
       "    }\n",
       "\n",
       "    .dataframe thead th {\n",
       "        text-align: left;\n",
       "    }\n",
       "\n",
       "    .dataframe tbody tr th {\n",
       "        vertical-align: top;\n",
       "    }\n",
       "</style>\n",
       "<table border=\"1\" class=\"dataframe\">\n",
       "  <thead>\n",
       "    <tr style=\"text-align: right;\">\n",
       "      <th></th>\n",
       "      <th>season</th>\n",
       "      <th>holiday</th>\n",
       "      <th>workingday</th>\n",
       "      <th>weather</th>\n",
       "      <th>temp</th>\n",
       "      <th>atemp</th>\n",
       "      <th>humidity</th>\n",
       "      <th>windspeed</th>\n",
       "      <th>casual</th>\n",
       "      <th>registered</th>\n",
       "      <th>total</th>\n",
       "      <th>season_2</th>\n",
       "      <th>season_3</th>\n",
       "      <th>season_4</th>\n",
       "    </tr>\n",
       "    <tr>\n",
       "      <th>datetime</th>\n",
       "      <th></th>\n",
       "      <th></th>\n",
       "      <th></th>\n",
       "      <th></th>\n",
       "      <th></th>\n",
       "      <th></th>\n",
       "      <th></th>\n",
       "      <th></th>\n",
       "      <th></th>\n",
       "      <th></th>\n",
       "      <th></th>\n",
       "      <th></th>\n",
       "      <th></th>\n",
       "      <th></th>\n",
       "    </tr>\n",
       "  </thead>\n",
       "  <tbody>\n",
       "    <tr>\n",
       "      <th>2011-09-05 11:00:00</th>\n",
       "      <td>3</td>\n",
       "      <td>1</td>\n",
       "      <td>0</td>\n",
       "      <td>2</td>\n",
       "      <td>28.70</td>\n",
       "      <td>33.335</td>\n",
       "      <td>74</td>\n",
       "      <td>11.0014</td>\n",
       "      <td>101</td>\n",
       "      <td>207</td>\n",
       "      <td>308</td>\n",
       "      <td>0</td>\n",
       "      <td>1</td>\n",
       "      <td>0</td>\n",
       "    </tr>\n",
       "    <tr>\n",
       "      <th>2012-03-18 04:00:00</th>\n",
       "      <td>1</td>\n",
       "      <td>0</td>\n",
       "      <td>0</td>\n",
       "      <td>2</td>\n",
       "      <td>17.22</td>\n",
       "      <td>21.210</td>\n",
       "      <td>94</td>\n",
       "      <td>11.0014</td>\n",
       "      <td>6</td>\n",
       "      <td>8</td>\n",
       "      <td>14</td>\n",
       "      <td>0</td>\n",
       "      <td>0</td>\n",
       "      <td>0</td>\n",
       "    </tr>\n",
       "    <tr>\n",
       "      <th>2012-10-14 17:00:00</th>\n",
       "      <td>4</td>\n",
       "      <td>0</td>\n",
       "      <td>0</td>\n",
       "      <td>1</td>\n",
       "      <td>26.24</td>\n",
       "      <td>31.060</td>\n",
       "      <td>44</td>\n",
       "      <td>12.9980</td>\n",
       "      <td>193</td>\n",
       "      <td>346</td>\n",
       "      <td>539</td>\n",
       "      <td>0</td>\n",
       "      <td>0</td>\n",
       "      <td>1</td>\n",
       "    </tr>\n",
       "    <tr>\n",
       "      <th>2011-04-04 15:00:00</th>\n",
       "      <td>2</td>\n",
       "      <td>0</td>\n",
       "      <td>1</td>\n",
       "      <td>1</td>\n",
       "      <td>31.16</td>\n",
       "      <td>33.335</td>\n",
       "      <td>23</td>\n",
       "      <td>36.9974</td>\n",
       "      <td>47</td>\n",
       "      <td>96</td>\n",
       "      <td>143</td>\n",
       "      <td>1</td>\n",
       "      <td>0</td>\n",
       "      <td>0</td>\n",
       "    </tr>\n",
       "    <tr>\n",
       "      <th>2012-12-11 02:00:00</th>\n",
       "      <td>4</td>\n",
       "      <td>0</td>\n",
       "      <td>1</td>\n",
       "      <td>2</td>\n",
       "      <td>16.40</td>\n",
       "      <td>20.455</td>\n",
       "      <td>66</td>\n",
       "      <td>22.0028</td>\n",
       "      <td>0</td>\n",
       "      <td>1</td>\n",
       "      <td>1</td>\n",
       "      <td>0</td>\n",
       "      <td>0</td>\n",
       "      <td>1</td>\n",
       "    </tr>\n",
       "  </tbody>\n",
       "</table>\n",
       "</div>"
      ],
      "text/plain": [
       "                     season  holiday  workingday  weather   temp   atemp  \\\n",
       "datetime                                                                   \n",
       "2011-09-05 11:00:00       3        1           0        2  28.70  33.335   \n",
       "2012-03-18 04:00:00       1        0           0        2  17.22  21.210   \n",
       "2012-10-14 17:00:00       4        0           0        1  26.24  31.060   \n",
       "2011-04-04 15:00:00       2        0           1        1  31.16  33.335   \n",
       "2012-12-11 02:00:00       4        0           1        2  16.40  20.455   \n",
       "\n",
       "                     humidity  windspeed  casual  registered  total  season_2  \\\n",
       "datetime                                                                        \n",
       "2011-09-05 11:00:00        74    11.0014     101         207    308         0   \n",
       "2012-03-18 04:00:00        94    11.0014       6           8     14         0   \n",
       "2012-10-14 17:00:00        44    12.9980     193         346    539         0   \n",
       "2011-04-04 15:00:00        23    36.9974      47          96    143         1   \n",
       "2012-12-11 02:00:00        66    22.0028       0           1      1         0   \n",
       "\n",
       "                     season_3  season_4  \n",
       "datetime                                 \n",
       "2011-09-05 11:00:00         1         0  \n",
       "2012-03-18 04:00:00         0         0  \n",
       "2012-10-14 17:00:00         0         1  \n",
       "2011-04-04 15:00:00         0         0  \n",
       "2012-12-11 02:00:00         0         1  "
      ]
     },
     "execution_count": 52,
     "metadata": {},
     "output_type": "execute_result"
    }
   ],
   "source": [
    "# concatenate the original DataFrame and the dummy DataFrame (axis=0 means rows, axis=1 means columns)\n",
    "bikes = pd.concat([bikes, season_dummies], axis=1)\n",
    "\n",
    "# print 5 random rows\n",
    "bikes.sample(n=5, random_state=1)"
   ]
  },
  {
   "cell_type": "code",
   "execution_count": 53,
   "metadata": {},
   "outputs": [
    {
     "data": {
      "text/plain": [
       "[('temp', 11.186405863575784),\n",
       " ('season_2', -3.3905430997179598),\n",
       " ('season_3', -41.736860713170678),\n",
       " ('season_4', 64.415961468242145),\n",
       " ('humidity', -2.819481636259646)]"
      ]
     },
     "execution_count": 53,
     "metadata": {},
     "output_type": "execute_result"
    }
   ],
   "source": [
    "# include dummy variables for season in the model\n",
    "feature_cols = ['temp','season_2', 'season_3', 'season_4', 'humidity']\n",
    "X = bikes[feature_cols]\n",
    "y = bikes.total\n",
    "linreg = LinearRegression()\n",
    "linreg.fit(X, y)\n",
    "zip(feature_cols, linreg.coef_)"
   ]
  },
  {
   "cell_type": "code",
   "execution_count": 54,
   "metadata": {},
   "outputs": [
    {
     "data": {
      "text/plain": [
       "[('temp', 11.186405863575784),\n",
       " ('season_2', -3.3905430997179598),\n",
       " ('season_3', -41.736860713170678),\n",
       " ('season_4', 64.415961468242145),\n",
       " ('humidity', -2.819481636259646)]"
      ]
     },
     "execution_count": 54,
     "metadata": {},
     "output_type": "execute_result"
    }
   ],
   "source": [
    "# include dummy variables for season in the model\n",
    "feature_cols = ['temp','season_2', 'season_3', 'season_4', 'humidity']\n",
    "X = bikes[feature_cols]\n",
    "y = bikes.total\n",
    "linreg = LinearRegression()\n",
    "linreg.fit(X, y)\n",
    "zip(feature_cols, linreg.coef_)"
   ]
  },
  {
   "cell_type": "markdown",
   "metadata": {},
   "source": [
    "How do we interpret the season coefficients? They are **measured against the baseline (spring)**:\n",
    "\n",
    "- Holding all other features fixed, **summer** is associated with a **rental decrease of 3.39 bikes** compared to the spring.\n",
    "- Holding all other features fixed, **fall** is associated with a **rental decrease of 41.7 bikes** compared to the spring.\n",
    "- Holding all other features fixed, **winter** is associated with a **rental increase of 64.4 bikes** compared to the spring.\n",
    "\n",
    "Would it matter if we changed which season was defined as the baseline?\n",
    "\n",
    "- No, it would simply change our **interpretation** of the coefficients.\n",
    "\n",
    "**Important:** Dummy encoding is relevant for all machine learning models, not just linear regression models."
   ]
  },
  {
   "cell_type": "code",
   "execution_count": null,
   "metadata": {
    "collapsed": true
   },
   "outputs": [],
   "source": [
    "# compare original season variable with dummy variables\n",
    "print train_test_rmse(['temp', 'season', 'humidity'])\n",
    "print train_test_rmse(['temp', 'season_2', 'season_3', 'season_4', 'humidity'])"
   ]
  },
  {
   "cell_type": "markdown",
   "metadata": {},
   "source": [
    "## Feature engineering\n",
    "\n",
    "See if you can create the following features:\n",
    "\n",
    "- **hour:** as a single numeric feature (0 through 23)\n",
    "- **hour:** as a categorical feature (use 23 dummy variables)\n",
    "- **daytime:** as a single categorical feature (daytime=1 from 7am to 8pm, and daytime=0 otherwise)\n",
    "\n",
    "Then, try using each of the three features (on its own) with `train_test_rmse` to see which one performs the best!"
   ]
  },
  {
   "cell_type": "code",
   "execution_count": 74,
   "metadata": {},
   "outputs": [
    {
     "name": "stdout",
     "output_type": "stream",
     "text": [
      "<bound method DataFrame.head of                      season  holiday  workingday  weather   temp   atemp  \\\n",
      "datetime                                                                   \n",
      "2011-01-01 00:00:00       1        0           0        1   9.84  14.395   \n",
      "2011-01-01 01:00:00       1        0           0        1   9.02  13.635   \n",
      "2011-01-01 02:00:00       1        0           0        1   9.02  13.635   \n",
      "2011-01-01 03:00:00       1        0           0        1   9.84  14.395   \n",
      "2011-01-01 04:00:00       1        0           0        1   9.84  14.395   \n",
      "2011-01-01 05:00:00       1        0           0        2   9.84  12.880   \n",
      "2011-01-01 06:00:00       1        0           0        1   9.02  13.635   \n",
      "2011-01-01 07:00:00       1        0           0        1   8.20  12.880   \n",
      "2011-01-01 08:00:00       1        0           0        1   9.84  14.395   \n",
      "2011-01-01 09:00:00       1        0           0        1  13.12  17.425   \n",
      "2011-01-01 10:00:00       1        0           0        1  15.58  19.695   \n",
      "2011-01-01 11:00:00       1        0           0        1  14.76  16.665   \n",
      "2011-01-01 12:00:00       1        0           0        1  17.22  21.210   \n",
      "2011-01-01 13:00:00       1        0           0        2  18.86  22.725   \n",
      "2011-01-01 14:00:00       1        0           0        2  18.86  22.725   \n",
      "2011-01-01 15:00:00       1        0           0        2  18.04  21.970   \n",
      "2011-01-01 16:00:00       1        0           0        2  17.22  21.210   \n",
      "2011-01-01 17:00:00       1        0           0        2  18.04  21.970   \n",
      "2011-01-01 18:00:00       1        0           0        3  17.22  21.210   \n",
      "2011-01-01 19:00:00       1        0           0        3  17.22  21.210   \n",
      "2011-01-01 20:00:00       1        0           0        2  16.40  20.455   \n",
      "2011-01-01 21:00:00       1        0           0        2  16.40  20.455   \n",
      "2011-01-01 22:00:00       1        0           0        2  16.40  20.455   \n",
      "2011-01-01 23:00:00       1        0           0        2  18.86  22.725   \n",
      "2011-01-02 00:00:00       1        0           0        2  18.86  22.725   \n",
      "2011-01-02 01:00:00       1        0           0        2  18.04  21.970   \n",
      "2011-01-02 02:00:00       1        0           0        2  17.22  21.210   \n",
      "2011-01-02 03:00:00       1        0           0        2  18.86  22.725   \n",
      "2011-01-02 04:00:00       1        0           0        2  18.86  22.725   \n",
      "2011-01-02 06:00:00       1        0           0        3  17.22  21.210   \n",
      "...                     ...      ...         ...      ...    ...     ...   \n",
      "2012-12-18 18:00:00       4        0           1        1  15.58  19.695   \n",
      "2012-12-18 19:00:00       4        0           1        1  15.58  19.695   \n",
      "2012-12-18 20:00:00       4        0           1        1  14.76  16.665   \n",
      "2012-12-18 21:00:00       4        0           1        1  14.76  17.425   \n",
      "2012-12-18 22:00:00       4        0           1        1  13.94  16.665   \n",
      "2012-12-18 23:00:00       4        0           1        1  13.94  17.425   \n",
      "2012-12-19 00:00:00       4        0           1        1  12.30  15.910   \n",
      "2012-12-19 01:00:00       4        0           1        1  12.30  15.910   \n",
      "2012-12-19 02:00:00       4        0           1        1  11.48  15.150   \n",
      "2012-12-19 03:00:00       4        0           1        1  10.66  13.635   \n",
      "2012-12-19 04:00:00       4        0           1        1   9.84  12.120   \n",
      "2012-12-19 05:00:00       4        0           1        1  10.66  14.395   \n",
      "2012-12-19 06:00:00       4        0           1        1   9.84  12.880   \n",
      "2012-12-19 07:00:00       4        0           1        1  10.66  13.635   \n",
      "2012-12-19 08:00:00       4        0           1        1   9.84  12.880   \n",
      "2012-12-19 09:00:00       4        0           1        1  11.48  14.395   \n",
      "2012-12-19 10:00:00       4        0           1        1  13.12  16.665   \n",
      "2012-12-19 11:00:00       4        0           1        1  16.40  20.455   \n",
      "2012-12-19 12:00:00       4        0           1        1  16.40  20.455   \n",
      "2012-12-19 13:00:00       4        0           1        1  17.22  21.210   \n",
      "2012-12-19 14:00:00       4        0           1        1  17.22  21.210   \n",
      "2012-12-19 15:00:00       4        0           1        1  17.22  21.210   \n",
      "2012-12-19 16:00:00       4        0           1        1  17.22  21.210   \n",
      "2012-12-19 17:00:00       4        0           1        1  16.40  20.455   \n",
      "2012-12-19 18:00:00       4        0           1        1  15.58  19.695   \n",
      "2012-12-19 19:00:00       4        0           1        1  15.58  19.695   \n",
      "2012-12-19 20:00:00       4        0           1        1  14.76  17.425   \n",
      "2012-12-19 21:00:00       4        0           1        1  13.94  15.910   \n",
      "2012-12-19 22:00:00       4        0           1        1  13.94  17.425   \n",
      "2012-12-19 23:00:00       4        0           1        1  13.12  16.665   \n",
      "\n",
      "                     humidity  windspeed  casual  registered  total  season_2  \\\n",
      "datetime                                                                        \n",
      "2011-01-01 00:00:00        81     0.0000       3          13     16         0   \n",
      "2011-01-01 01:00:00        80     0.0000       8          32     40         0   \n",
      "2011-01-01 02:00:00        80     0.0000       5          27     32         0   \n",
      "2011-01-01 03:00:00        75     0.0000       3          10     13         0   \n",
      "2011-01-01 04:00:00        75     0.0000       0           1      1         0   \n",
      "2011-01-01 05:00:00        75     6.0032       0           1      1         0   \n",
      "2011-01-01 06:00:00        80     0.0000       2           0      2         0   \n",
      "2011-01-01 07:00:00        86     0.0000       1           2      3         0   \n",
      "2011-01-01 08:00:00        75     0.0000       1           7      8         0   \n",
      "2011-01-01 09:00:00        76     0.0000       8           6     14         0   \n",
      "2011-01-01 10:00:00        76    16.9979      12          24     36         0   \n",
      "2011-01-01 11:00:00        81    19.0012      26          30     56         0   \n",
      "2011-01-01 12:00:00        77    19.0012      29          55     84         0   \n",
      "2011-01-01 13:00:00        72    19.9995      47          47     94         0   \n",
      "2011-01-01 14:00:00        72    19.0012      35          71    106         0   \n",
      "2011-01-01 15:00:00        77    19.9995      40          70    110         0   \n",
      "2011-01-01 16:00:00        82    19.9995      41          52     93         0   \n",
      "2011-01-01 17:00:00        82    19.0012      15          52     67         0   \n",
      "2011-01-01 18:00:00        88    16.9979       9          26     35         0   \n",
      "2011-01-01 19:00:00        88    16.9979       6          31     37         0   \n",
      "2011-01-01 20:00:00        87    16.9979      11          25     36         0   \n",
      "2011-01-01 21:00:00        87    12.9980       3          31     34         0   \n",
      "2011-01-01 22:00:00        94    15.0013      11          17     28         0   \n",
      "2011-01-01 23:00:00        88    19.9995      15          24     39         0   \n",
      "2011-01-02 00:00:00        88    19.9995       4          13     17         0   \n",
      "2011-01-02 01:00:00        94    16.9979       1          16     17         0   \n",
      "2011-01-02 02:00:00       100    19.0012       1           8      9         0   \n",
      "2011-01-02 03:00:00        94    12.9980       2           4      6         0   \n",
      "2011-01-02 04:00:00        94    12.9980       2           1      3         0   \n",
      "2011-01-02 06:00:00        77    19.9995       0           2      2         0   \n",
      "...                       ...        ...     ...         ...    ...       ...   \n",
      "2012-12-18 18:00:00        46    22.0028      13         512    525         0   \n",
      "2012-12-18 19:00:00        46    26.0027      19         334    353         0   \n",
      "2012-12-18 20:00:00        50    16.9979       4         264    268         0   \n",
      "2012-12-18 21:00:00        50    15.0013       9         159    168         0   \n",
      "2012-12-18 22:00:00        49     0.0000       5         127    132         0   \n",
      "2012-12-18 23:00:00        49     6.0032       1          80     81         0   \n",
      "2012-12-19 00:00:00        61     0.0000       6          35     41         0   \n",
      "2012-12-19 01:00:00        65     6.0032       1          14     15         0   \n",
      "2012-12-19 02:00:00        65     6.0032       1           2      3         0   \n",
      "2012-12-19 03:00:00        75     8.9981       0           5      5         0   \n",
      "2012-12-19 04:00:00        75     8.9981       1           6      7         0   \n",
      "2012-12-19 05:00:00        75     6.0032       2          29     31         0   \n",
      "2012-12-19 06:00:00        75     6.0032       3         109    112         0   \n",
      "2012-12-19 07:00:00        75     8.9981       3         360    363         0   \n",
      "2012-12-19 08:00:00        87     7.0015      13         665    678         0   \n",
      "2012-12-19 09:00:00        75     7.0015       8         309    317         0   \n",
      "2012-12-19 10:00:00        70     7.0015      17         147    164         0   \n",
      "2012-12-19 11:00:00        54    15.0013      31         169    200         0   \n",
      "2012-12-19 12:00:00        54    19.0012      33         203    236         0   \n",
      "2012-12-19 13:00:00        50    12.9980      30         183    213         0   \n",
      "2012-12-19 14:00:00        50    12.9980      33         185    218         0   \n",
      "2012-12-19 15:00:00        50    19.0012      28         209    237         0   \n",
      "2012-12-19 16:00:00        50    23.9994      37         297    334         0   \n",
      "2012-12-19 17:00:00        50    26.0027      26         536    562         0   \n",
      "2012-12-19 18:00:00        50    23.9994      23         546    569         0   \n",
      "2012-12-19 19:00:00        50    26.0027       7         329    336         0   \n",
      "2012-12-19 20:00:00        57    15.0013      10         231    241         0   \n",
      "2012-12-19 21:00:00        61    15.0013       4         164    168         0   \n",
      "2012-12-19 22:00:00        61     6.0032      12         117    129         0   \n",
      "2012-12-19 23:00:00        66     8.9981       4          84     88         0   \n",
      "\n",
      "                     season_3  season_4  hour  \n",
      "datetime                                       \n",
      "2011-01-01 00:00:00         0         0     0  \n",
      "2011-01-01 01:00:00         0         0     1  \n",
      "2011-01-01 02:00:00         0         0     2  \n",
      "2011-01-01 03:00:00         0         0     3  \n",
      "2011-01-01 04:00:00         0         0     4  \n",
      "2011-01-01 05:00:00         0         0     5  \n",
      "2011-01-01 06:00:00         0         0     6  \n",
      "2011-01-01 07:00:00         0         0     7  \n",
      "2011-01-01 08:00:00         0         0     8  \n",
      "2011-01-01 09:00:00         0         0     9  \n",
      "2011-01-01 10:00:00         0         0    10  \n",
      "2011-01-01 11:00:00         0         0    11  \n",
      "2011-01-01 12:00:00         0         0    12  \n",
      "2011-01-01 13:00:00         0         0    13  \n",
      "2011-01-01 14:00:00         0         0    14  \n",
      "2011-01-01 15:00:00         0         0    15  \n",
      "2011-01-01 16:00:00         0         0    16  \n",
      "2011-01-01 17:00:00         0         0    17  \n",
      "2011-01-01 18:00:00         0         0    18  \n",
      "2011-01-01 19:00:00         0         0    19  \n",
      "2011-01-01 20:00:00         0         0    20  \n",
      "2011-01-01 21:00:00         0         0    21  \n",
      "2011-01-01 22:00:00         0         0    22  \n",
      "2011-01-01 23:00:00         0         0    23  \n",
      "2011-01-02 00:00:00         0         0     0  \n",
      "2011-01-02 01:00:00         0         0     1  \n",
      "2011-01-02 02:00:00         0         0     2  \n",
      "2011-01-02 03:00:00         0         0     3  \n",
      "2011-01-02 04:00:00         0         0     4  \n",
      "2011-01-02 06:00:00         0         0     6  \n",
      "...                       ...       ...   ...  \n",
      "2012-12-18 18:00:00         0         1    18  \n",
      "2012-12-18 19:00:00         0         1    19  \n",
      "2012-12-18 20:00:00         0         1    20  \n",
      "2012-12-18 21:00:00         0         1    21  \n",
      "2012-12-18 22:00:00         0         1    22  \n",
      "2012-12-18 23:00:00         0         1    23  \n",
      "2012-12-19 00:00:00         0         1     0  \n",
      "2012-12-19 01:00:00         0         1     1  \n",
      "2012-12-19 02:00:00         0         1     2  \n",
      "2012-12-19 03:00:00         0         1     3  \n",
      "2012-12-19 04:00:00         0         1     4  \n",
      "2012-12-19 05:00:00         0         1     5  \n",
      "2012-12-19 06:00:00         0         1     6  \n",
      "2012-12-19 07:00:00         0         1     7  \n",
      "2012-12-19 08:00:00         0         1     8  \n",
      "2012-12-19 09:00:00         0         1     9  \n",
      "2012-12-19 10:00:00         0         1    10  \n",
      "2012-12-19 11:00:00         0         1    11  \n",
      "2012-12-19 12:00:00         0         1    12  \n",
      "2012-12-19 13:00:00         0         1    13  \n",
      "2012-12-19 14:00:00         0         1    14  \n",
      "2012-12-19 15:00:00         0         1    15  \n",
      "2012-12-19 16:00:00         0         1    16  \n",
      "2012-12-19 17:00:00         0         1    17  \n",
      "2012-12-19 18:00:00         0         1    18  \n",
      "2012-12-19 19:00:00         0         1    19  \n",
      "2012-12-19 20:00:00         0         1    20  \n",
      "2012-12-19 21:00:00         0         1    21  \n",
      "2012-12-19 22:00:00         0         1    22  \n",
      "2012-12-19 23:00:00         0         1    23  \n",
      "\n",
      "[10886 rows x 15 columns]>\n"
     ]
    }
   ],
   "source": [
    "# hour as a numeric feature\n",
    "bikes['hour'] = pd.DataFrame(bikes.index.hour, index=bikes.index)\n",
    "print bikes.head"
   ]
  },
  {
   "cell_type": "code",
   "execution_count": 77,
   "metadata": {},
   "outputs": [
    {
     "name": "stdout",
     "output_type": "stream",
     "text": [
      "<bound method DataFrame.head of                      season  holiday  workingday  weather   temp   atemp  \\\n",
      "datetime                                                                   \n",
      "2011-01-01 00:00:00       1        0           0        1   9.84  14.395   \n",
      "2011-01-01 01:00:00       1        0           0        1   9.02  13.635   \n",
      "2011-01-01 02:00:00       1        0           0        1   9.02  13.635   \n",
      "2011-01-01 03:00:00       1        0           0        1   9.84  14.395   \n",
      "2011-01-01 04:00:00       1        0           0        1   9.84  14.395   \n",
      "2011-01-01 05:00:00       1        0           0        2   9.84  12.880   \n",
      "2011-01-01 06:00:00       1        0           0        1   9.02  13.635   \n",
      "2011-01-01 07:00:00       1        0           0        1   8.20  12.880   \n",
      "2011-01-01 08:00:00       1        0           0        1   9.84  14.395   \n",
      "2011-01-01 09:00:00       1        0           0        1  13.12  17.425   \n",
      "2011-01-01 10:00:00       1        0           0        1  15.58  19.695   \n",
      "2011-01-01 11:00:00       1        0           0        1  14.76  16.665   \n",
      "2011-01-01 12:00:00       1        0           0        1  17.22  21.210   \n",
      "2011-01-01 13:00:00       1        0           0        2  18.86  22.725   \n",
      "2011-01-01 14:00:00       1        0           0        2  18.86  22.725   \n",
      "2011-01-01 15:00:00       1        0           0        2  18.04  21.970   \n",
      "2011-01-01 16:00:00       1        0           0        2  17.22  21.210   \n",
      "2011-01-01 17:00:00       1        0           0        2  18.04  21.970   \n",
      "2011-01-01 18:00:00       1        0           0        3  17.22  21.210   \n",
      "2011-01-01 19:00:00       1        0           0        3  17.22  21.210   \n",
      "2011-01-01 20:00:00       1        0           0        2  16.40  20.455   \n",
      "2011-01-01 21:00:00       1        0           0        2  16.40  20.455   \n",
      "2011-01-01 22:00:00       1        0           0        2  16.40  20.455   \n",
      "2011-01-01 23:00:00       1        0           0        2  18.86  22.725   \n",
      "2011-01-02 00:00:00       1        0           0        2  18.86  22.725   \n",
      "2011-01-02 01:00:00       1        0           0        2  18.04  21.970   \n",
      "2011-01-02 02:00:00       1        0           0        2  17.22  21.210   \n",
      "2011-01-02 03:00:00       1        0           0        2  18.86  22.725   \n",
      "2011-01-02 04:00:00       1        0           0        2  18.86  22.725   \n",
      "2011-01-02 06:00:00       1        0           0        3  17.22  21.210   \n",
      "...                     ...      ...         ...      ...    ...     ...   \n",
      "2012-12-18 18:00:00       4        0           1        1  15.58  19.695   \n",
      "2012-12-18 19:00:00       4        0           1        1  15.58  19.695   \n",
      "2012-12-18 20:00:00       4        0           1        1  14.76  16.665   \n",
      "2012-12-18 21:00:00       4        0           1        1  14.76  17.425   \n",
      "2012-12-18 22:00:00       4        0           1        1  13.94  16.665   \n",
      "2012-12-18 23:00:00       4        0           1        1  13.94  17.425   \n",
      "2012-12-19 00:00:00       4        0           1        1  12.30  15.910   \n",
      "2012-12-19 01:00:00       4        0           1        1  12.30  15.910   \n",
      "2012-12-19 02:00:00       4        0           1        1  11.48  15.150   \n",
      "2012-12-19 03:00:00       4        0           1        1  10.66  13.635   \n",
      "2012-12-19 04:00:00       4        0           1        1   9.84  12.120   \n",
      "2012-12-19 05:00:00       4        0           1        1  10.66  14.395   \n",
      "2012-12-19 06:00:00       4        0           1        1   9.84  12.880   \n",
      "2012-12-19 07:00:00       4        0           1        1  10.66  13.635   \n",
      "2012-12-19 08:00:00       4        0           1        1   9.84  12.880   \n",
      "2012-12-19 09:00:00       4        0           1        1  11.48  14.395   \n",
      "2012-12-19 10:00:00       4        0           1        1  13.12  16.665   \n",
      "2012-12-19 11:00:00       4        0           1        1  16.40  20.455   \n",
      "2012-12-19 12:00:00       4        0           1        1  16.40  20.455   \n",
      "2012-12-19 13:00:00       4        0           1        1  17.22  21.210   \n",
      "2012-12-19 14:00:00       4        0           1        1  17.22  21.210   \n",
      "2012-12-19 15:00:00       4        0           1        1  17.22  21.210   \n",
      "2012-12-19 16:00:00       4        0           1        1  17.22  21.210   \n",
      "2012-12-19 17:00:00       4        0           1        1  16.40  20.455   \n",
      "2012-12-19 18:00:00       4        0           1        1  15.58  19.695   \n",
      "2012-12-19 19:00:00       4        0           1        1  15.58  19.695   \n",
      "2012-12-19 20:00:00       4        0           1        1  14.76  17.425   \n",
      "2012-12-19 21:00:00       4        0           1        1  13.94  15.910   \n",
      "2012-12-19 22:00:00       4        0           1        1  13.94  17.425   \n",
      "2012-12-19 23:00:00       4        0           1        1  13.12  16.665   \n",
      "\n",
      "                     humidity  windspeed  casual  registered   ...     \\\n",
      "datetime                                                       ...      \n",
      "2011-01-01 00:00:00        81     0.0000       3          13   ...      \n",
      "2011-01-01 01:00:00        80     0.0000       8          32   ...      \n",
      "2011-01-01 02:00:00        80     0.0000       5          27   ...      \n",
      "2011-01-01 03:00:00        75     0.0000       3          10   ...      \n",
      "2011-01-01 04:00:00        75     0.0000       0           1   ...      \n",
      "2011-01-01 05:00:00        75     6.0032       0           1   ...      \n",
      "2011-01-01 06:00:00        80     0.0000       2           0   ...      \n",
      "2011-01-01 07:00:00        86     0.0000       1           2   ...      \n",
      "2011-01-01 08:00:00        75     0.0000       1           7   ...      \n",
      "2011-01-01 09:00:00        76     0.0000       8           6   ...      \n",
      "2011-01-01 10:00:00        76    16.9979      12          24   ...      \n",
      "2011-01-01 11:00:00        81    19.0012      26          30   ...      \n",
      "2011-01-01 12:00:00        77    19.0012      29          55   ...      \n",
      "2011-01-01 13:00:00        72    19.9995      47          47   ...      \n",
      "2011-01-01 14:00:00        72    19.0012      35          71   ...      \n",
      "2011-01-01 15:00:00        77    19.9995      40          70   ...      \n",
      "2011-01-01 16:00:00        82    19.9995      41          52   ...      \n",
      "2011-01-01 17:00:00        82    19.0012      15          52   ...      \n",
      "2011-01-01 18:00:00        88    16.9979       9          26   ...      \n",
      "2011-01-01 19:00:00        88    16.9979       6          31   ...      \n",
      "2011-01-01 20:00:00        87    16.9979      11          25   ...      \n",
      "2011-01-01 21:00:00        87    12.9980       3          31   ...      \n",
      "2011-01-01 22:00:00        94    15.0013      11          17   ...      \n",
      "2011-01-01 23:00:00        88    19.9995      15          24   ...      \n",
      "2011-01-02 00:00:00        88    19.9995       4          13   ...      \n",
      "2011-01-02 01:00:00        94    16.9979       1          16   ...      \n",
      "2011-01-02 02:00:00       100    19.0012       1           8   ...      \n",
      "2011-01-02 03:00:00        94    12.9980       2           4   ...      \n",
      "2011-01-02 04:00:00        94    12.9980       2           1   ...      \n",
      "2011-01-02 06:00:00        77    19.9995       0           2   ...      \n",
      "...                       ...        ...     ...         ...   ...      \n",
      "2012-12-18 18:00:00        46    22.0028      13         512   ...      \n",
      "2012-12-18 19:00:00        46    26.0027      19         334   ...      \n",
      "2012-12-18 20:00:00        50    16.9979       4         264   ...      \n",
      "2012-12-18 21:00:00        50    15.0013       9         159   ...      \n",
      "2012-12-18 22:00:00        49     0.0000       5         127   ...      \n",
      "2012-12-18 23:00:00        49     6.0032       1          80   ...      \n",
      "2012-12-19 00:00:00        61     0.0000       6          35   ...      \n",
      "2012-12-19 01:00:00        65     6.0032       1          14   ...      \n",
      "2012-12-19 02:00:00        65     6.0032       1           2   ...      \n",
      "2012-12-19 03:00:00        75     8.9981       0           5   ...      \n",
      "2012-12-19 04:00:00        75     8.9981       1           6   ...      \n",
      "2012-12-19 05:00:00        75     6.0032       2          29   ...      \n",
      "2012-12-19 06:00:00        75     6.0032       3         109   ...      \n",
      "2012-12-19 07:00:00        75     8.9981       3         360   ...      \n",
      "2012-12-19 08:00:00        87     7.0015      13         665   ...      \n",
      "2012-12-19 09:00:00        75     7.0015       8         309   ...      \n",
      "2012-12-19 10:00:00        70     7.0015      17         147   ...      \n",
      "2012-12-19 11:00:00        54    15.0013      31         169   ...      \n",
      "2012-12-19 12:00:00        54    19.0012      33         203   ...      \n",
      "2012-12-19 13:00:00        50    12.9980      30         183   ...      \n",
      "2012-12-19 14:00:00        50    12.9980      33         185   ...      \n",
      "2012-12-19 15:00:00        50    19.0012      28         209   ...      \n",
      "2012-12-19 16:00:00        50    23.9994      37         297   ...      \n",
      "2012-12-19 17:00:00        50    26.0027      26         536   ...      \n",
      "2012-12-19 18:00:00        50    23.9994      23         546   ...      \n",
      "2012-12-19 19:00:00        50    26.0027       7         329   ...      \n",
      "2012-12-19 20:00:00        57    15.0013      10         231   ...      \n",
      "2012-12-19 21:00:00        61    15.0013       4         164   ...      \n",
      "2012-12-19 22:00:00        61     6.0032      12         117   ...      \n",
      "2012-12-19 23:00:00        66     8.9981       4          84   ...      \n",
      "\n",
      "                     hour_14  hour_15  hour_16  hour_17  hour_18  hour_19  \\\n",
      "datetime                                                                    \n",
      "2011-01-01 00:00:00        0        0        0        0        0        0   \n",
      "2011-01-01 01:00:00        0        0        0        0        0        0   \n",
      "2011-01-01 02:00:00        0        0        0        0        0        0   \n",
      "2011-01-01 03:00:00        0        0        0        0        0        0   \n",
      "2011-01-01 04:00:00        0        0        0        0        0        0   \n",
      "2011-01-01 05:00:00        0        0        0        0        0        0   \n",
      "2011-01-01 06:00:00        0        0        0        0        0        0   \n",
      "2011-01-01 07:00:00        0        0        0        0        0        0   \n",
      "2011-01-01 08:00:00        0        0        0        0        0        0   \n",
      "2011-01-01 09:00:00        0        0        0        0        0        0   \n",
      "2011-01-01 10:00:00        0        0        0        0        0        0   \n",
      "2011-01-01 11:00:00        0        0        0        0        0        0   \n",
      "2011-01-01 12:00:00        0        0        0        0        0        0   \n",
      "2011-01-01 13:00:00        0        0        0        0        0        0   \n",
      "2011-01-01 14:00:00        1        0        0        0        0        0   \n",
      "2011-01-01 15:00:00        0        1        0        0        0        0   \n",
      "2011-01-01 16:00:00        0        0        1        0        0        0   \n",
      "2011-01-01 17:00:00        0        0        0        1        0        0   \n",
      "2011-01-01 18:00:00        0        0        0        0        1        0   \n",
      "2011-01-01 19:00:00        0        0        0        0        0        1   \n",
      "2011-01-01 20:00:00        0        0        0        0        0        0   \n",
      "2011-01-01 21:00:00        0        0        0        0        0        0   \n",
      "2011-01-01 22:00:00        0        0        0        0        0        0   \n",
      "2011-01-01 23:00:00        0        0        0        0        0        0   \n",
      "2011-01-02 00:00:00        0        0        0        0        0        0   \n",
      "2011-01-02 01:00:00        0        0        0        0        0        0   \n",
      "2011-01-02 02:00:00        0        0        0        0        0        0   \n",
      "2011-01-02 03:00:00        0        0        0        0        0        0   \n",
      "2011-01-02 04:00:00        0        0        0        0        0        0   \n",
      "2011-01-02 06:00:00        0        0        0        0        0        0   \n",
      "...                      ...      ...      ...      ...      ...      ...   \n",
      "2012-12-18 18:00:00        0        0        0        0        1        0   \n",
      "2012-12-18 19:00:00        0        0        0        0        0        1   \n",
      "2012-12-18 20:00:00        0        0        0        0        0        0   \n",
      "2012-12-18 21:00:00        0        0        0        0        0        0   \n",
      "2012-12-18 22:00:00        0        0        0        0        0        0   \n",
      "2012-12-18 23:00:00        0        0        0        0        0        0   \n",
      "2012-12-19 00:00:00        0        0        0        0        0        0   \n",
      "2012-12-19 01:00:00        0        0        0        0        0        0   \n",
      "2012-12-19 02:00:00        0        0        0        0        0        0   \n",
      "2012-12-19 03:00:00        0        0        0        0        0        0   \n",
      "2012-12-19 04:00:00        0        0        0        0        0        0   \n",
      "2012-12-19 05:00:00        0        0        0        0        0        0   \n",
      "2012-12-19 06:00:00        0        0        0        0        0        0   \n",
      "2012-12-19 07:00:00        0        0        0        0        0        0   \n",
      "2012-12-19 08:00:00        0        0        0        0        0        0   \n",
      "2012-12-19 09:00:00        0        0        0        0        0        0   \n",
      "2012-12-19 10:00:00        0        0        0        0        0        0   \n",
      "2012-12-19 11:00:00        0        0        0        0        0        0   \n",
      "2012-12-19 12:00:00        0        0        0        0        0        0   \n",
      "2012-12-19 13:00:00        0        0        0        0        0        0   \n",
      "2012-12-19 14:00:00        1        0        0        0        0        0   \n",
      "2012-12-19 15:00:00        0        1        0        0        0        0   \n",
      "2012-12-19 16:00:00        0        0        1        0        0        0   \n",
      "2012-12-19 17:00:00        0        0        0        1        0        0   \n",
      "2012-12-19 18:00:00        0        0        0        0        1        0   \n",
      "2012-12-19 19:00:00        0        0        0        0        0        1   \n",
      "2012-12-19 20:00:00        0        0        0        0        0        0   \n",
      "2012-12-19 21:00:00        0        0        0        0        0        0   \n",
      "2012-12-19 22:00:00        0        0        0        0        0        0   \n",
      "2012-12-19 23:00:00        0        0        0        0        0        0   \n",
      "\n",
      "                     hour_20  hour_21  hour_22  hour_23  \n",
      "datetime                                                 \n",
      "2011-01-01 00:00:00        0        0        0        0  \n",
      "2011-01-01 01:00:00        0        0        0        0  \n",
      "2011-01-01 02:00:00        0        0        0        0  \n",
      "2011-01-01 03:00:00        0        0        0        0  \n",
      "2011-01-01 04:00:00        0        0        0        0  \n",
      "2011-01-01 05:00:00        0        0        0        0  \n",
      "2011-01-01 06:00:00        0        0        0        0  \n",
      "2011-01-01 07:00:00        0        0        0        0  \n",
      "2011-01-01 08:00:00        0        0        0        0  \n",
      "2011-01-01 09:00:00        0        0        0        0  \n",
      "2011-01-01 10:00:00        0        0        0        0  \n",
      "2011-01-01 11:00:00        0        0        0        0  \n",
      "2011-01-01 12:00:00        0        0        0        0  \n",
      "2011-01-01 13:00:00        0        0        0        0  \n",
      "2011-01-01 14:00:00        0        0        0        0  \n",
      "2011-01-01 15:00:00        0        0        0        0  \n",
      "2011-01-01 16:00:00        0        0        0        0  \n",
      "2011-01-01 17:00:00        0        0        0        0  \n",
      "2011-01-01 18:00:00        0        0        0        0  \n",
      "2011-01-01 19:00:00        0        0        0        0  \n",
      "2011-01-01 20:00:00        1        0        0        0  \n",
      "2011-01-01 21:00:00        0        1        0        0  \n",
      "2011-01-01 22:00:00        0        0        1        0  \n",
      "2011-01-01 23:00:00        0        0        0        1  \n",
      "2011-01-02 00:00:00        0        0        0        0  \n",
      "2011-01-02 01:00:00        0        0        0        0  \n",
      "2011-01-02 02:00:00        0        0        0        0  \n",
      "2011-01-02 03:00:00        0        0        0        0  \n",
      "2011-01-02 04:00:00        0        0        0        0  \n",
      "2011-01-02 06:00:00        0        0        0        0  \n",
      "...                      ...      ...      ...      ...  \n",
      "2012-12-18 18:00:00        0        0        0        0  \n",
      "2012-12-18 19:00:00        0        0        0        0  \n",
      "2012-12-18 20:00:00        1        0        0        0  \n",
      "2012-12-18 21:00:00        0        1        0        0  \n",
      "2012-12-18 22:00:00        0        0        1        0  \n",
      "2012-12-18 23:00:00        0        0        0        1  \n",
      "2012-12-19 00:00:00        0        0        0        0  \n",
      "2012-12-19 01:00:00        0        0        0        0  \n",
      "2012-12-19 02:00:00        0        0        0        0  \n",
      "2012-12-19 03:00:00        0        0        0        0  \n",
      "2012-12-19 04:00:00        0        0        0        0  \n",
      "2012-12-19 05:00:00        0        0        0        0  \n",
      "2012-12-19 06:00:00        0        0        0        0  \n",
      "2012-12-19 07:00:00        0        0        0        0  \n",
      "2012-12-19 08:00:00        0        0        0        0  \n",
      "2012-12-19 09:00:00        0        0        0        0  \n",
      "2012-12-19 10:00:00        0        0        0        0  \n",
      "2012-12-19 11:00:00        0        0        0        0  \n",
      "2012-12-19 12:00:00        0        0        0        0  \n",
      "2012-12-19 13:00:00        0        0        0        0  \n",
      "2012-12-19 14:00:00        0        0        0        0  \n",
      "2012-12-19 15:00:00        0        0        0        0  \n",
      "2012-12-19 16:00:00        0        0        0        0  \n",
      "2012-12-19 17:00:00        0        0        0        0  \n",
      "2012-12-19 18:00:00        0        0        0        0  \n",
      "2012-12-19 19:00:00        0        0        0        0  \n",
      "2012-12-19 20:00:00        1        0        0        0  \n",
      "2012-12-19 21:00:00        0        1        0        0  \n",
      "2012-12-19 22:00:00        0        0        1        0  \n",
      "2012-12-19 23:00:00        0        0        0        1  \n",
      "\n",
      "[10886 rows x 39 columns]>\n"
     ]
    }
   ],
   "source": [
    "# hour as a categorical feature\n",
    "hourdummies = pd.get_dummies(bikes.hour, prefix='hour')\n",
    "bikes = pd.concat([bikes, hourdummies], axis=1)\n",
    "print bikes.head"
   ]
  },
  {
   "cell_type": "code",
   "execution_count": 80,
   "metadata": {},
   "outputs": [
    {
     "ename": "ValueError",
     "evalue": "Length of values does not match length of index",
     "output_type": "error",
     "traceback": [
      "\u001b[1;31m---------------------------------------------------------------------------\u001b[0m",
      "\u001b[1;31mValueError\u001b[0m                                Traceback (most recent call last)",
      "\u001b[1;32m<ipython-input-80-c23ea0a95b1b>\u001b[0m in \u001b[0;36m<module>\u001b[1;34m()\u001b[0m\n\u001b[0;32m      1\u001b[0m \u001b[1;31m# daytime as a categorical feature\u001b[0m\u001b[1;33m\u001b[0m\u001b[1;33m\u001b[0m\u001b[0m\n\u001b[1;32m----> 2\u001b[1;33m \u001b[0mbikes\u001b[0m\u001b[1;33m[\u001b[0m\u001b[1;34m'daytime'\u001b[0m\u001b[1;33m]\u001b[0m \u001b[1;33m=\u001b[0m \u001b[1;33m[\u001b[0m\u001b[1;33m(\u001b[0m\u001b[0mbikes\u001b[0m\u001b[1;33m.\u001b[0m\u001b[0mhour\u001b[0m \u001b[1;33m<=\u001b[0m \u001b[1;36m12\u001b[0m\u001b[1;33m)\u001b[0m\u001b[1;33m]\u001b[0m\u001b[1;33m\u001b[0m\u001b[0m\n\u001b[0m",
      "\u001b[1;32mC:\\Users\\otag\\AppData\\Local\\Continuum\\anaconda3\\envs\\py27\\lib\\site-packages\\pandas\\core\\frame.pyc\u001b[0m in \u001b[0;36m__setitem__\u001b[1;34m(self, key, value)\u001b[0m\n\u001b[0;32m   2329\u001b[0m         \u001b[1;32melse\u001b[0m\u001b[1;33m:\u001b[0m\u001b[1;33m\u001b[0m\u001b[0m\n\u001b[0;32m   2330\u001b[0m             \u001b[1;31m# set column\u001b[0m\u001b[1;33m\u001b[0m\u001b[1;33m\u001b[0m\u001b[0m\n\u001b[1;32m-> 2331\u001b[1;33m             \u001b[0mself\u001b[0m\u001b[1;33m.\u001b[0m\u001b[0m_set_item\u001b[0m\u001b[1;33m(\u001b[0m\u001b[0mkey\u001b[0m\u001b[1;33m,\u001b[0m \u001b[0mvalue\u001b[0m\u001b[1;33m)\u001b[0m\u001b[1;33m\u001b[0m\u001b[0m\n\u001b[0m\u001b[0;32m   2332\u001b[0m \u001b[1;33m\u001b[0m\u001b[0m\n\u001b[0;32m   2333\u001b[0m     \u001b[1;32mdef\u001b[0m \u001b[0m_setitem_slice\u001b[0m\u001b[1;33m(\u001b[0m\u001b[0mself\u001b[0m\u001b[1;33m,\u001b[0m \u001b[0mkey\u001b[0m\u001b[1;33m,\u001b[0m \u001b[0mvalue\u001b[0m\u001b[1;33m)\u001b[0m\u001b[1;33m:\u001b[0m\u001b[1;33m\u001b[0m\u001b[0m\n",
      "\u001b[1;32mC:\\Users\\otag\\AppData\\Local\\Continuum\\anaconda3\\envs\\py27\\lib\\site-packages\\pandas\\core\\frame.pyc\u001b[0m in \u001b[0;36m_set_item\u001b[1;34m(self, key, value)\u001b[0m\n\u001b[0;32m   2395\u001b[0m \u001b[1;33m\u001b[0m\u001b[0m\n\u001b[0;32m   2396\u001b[0m         \u001b[0mself\u001b[0m\u001b[1;33m.\u001b[0m\u001b[0m_ensure_valid_index\u001b[0m\u001b[1;33m(\u001b[0m\u001b[0mvalue\u001b[0m\u001b[1;33m)\u001b[0m\u001b[1;33m\u001b[0m\u001b[0m\n\u001b[1;32m-> 2397\u001b[1;33m         \u001b[0mvalue\u001b[0m \u001b[1;33m=\u001b[0m \u001b[0mself\u001b[0m\u001b[1;33m.\u001b[0m\u001b[0m_sanitize_column\u001b[0m\u001b[1;33m(\u001b[0m\u001b[0mkey\u001b[0m\u001b[1;33m,\u001b[0m \u001b[0mvalue\u001b[0m\u001b[1;33m)\u001b[0m\u001b[1;33m\u001b[0m\u001b[0m\n\u001b[0m\u001b[0;32m   2398\u001b[0m         \u001b[0mNDFrame\u001b[0m\u001b[1;33m.\u001b[0m\u001b[0m_set_item\u001b[0m\u001b[1;33m(\u001b[0m\u001b[0mself\u001b[0m\u001b[1;33m,\u001b[0m \u001b[0mkey\u001b[0m\u001b[1;33m,\u001b[0m \u001b[0mvalue\u001b[0m\u001b[1;33m)\u001b[0m\u001b[1;33m\u001b[0m\u001b[0m\n\u001b[0;32m   2399\u001b[0m \u001b[1;33m\u001b[0m\u001b[0m\n",
      "\u001b[1;32mC:\\Users\\otag\\AppData\\Local\\Continuum\\anaconda3\\envs\\py27\\lib\\site-packages\\pandas\\core\\frame.pyc\u001b[0m in \u001b[0;36m_sanitize_column\u001b[1;34m(self, key, value, broadcast)\u001b[0m\n\u001b[0;32m   2566\u001b[0m \u001b[1;33m\u001b[0m\u001b[0m\n\u001b[0;32m   2567\u001b[0m             \u001b[1;31m# turn me into an ndarray\u001b[0m\u001b[1;33m\u001b[0m\u001b[1;33m\u001b[0m\u001b[0m\n\u001b[1;32m-> 2568\u001b[1;33m             \u001b[0mvalue\u001b[0m \u001b[1;33m=\u001b[0m \u001b[0m_sanitize_index\u001b[0m\u001b[1;33m(\u001b[0m\u001b[0mvalue\u001b[0m\u001b[1;33m,\u001b[0m \u001b[0mself\u001b[0m\u001b[1;33m.\u001b[0m\u001b[0mindex\u001b[0m\u001b[1;33m,\u001b[0m \u001b[0mcopy\u001b[0m\u001b[1;33m=\u001b[0m\u001b[0mFalse\u001b[0m\u001b[1;33m)\u001b[0m\u001b[1;33m\u001b[0m\u001b[0m\n\u001b[0m\u001b[0;32m   2569\u001b[0m             \u001b[1;32mif\u001b[0m \u001b[1;32mnot\u001b[0m \u001b[0misinstance\u001b[0m\u001b[1;33m(\u001b[0m\u001b[0mvalue\u001b[0m\u001b[1;33m,\u001b[0m \u001b[1;33m(\u001b[0m\u001b[0mnp\u001b[0m\u001b[1;33m.\u001b[0m\u001b[0mndarray\u001b[0m\u001b[1;33m,\u001b[0m \u001b[0mIndex\u001b[0m\u001b[1;33m)\u001b[0m\u001b[1;33m)\u001b[0m\u001b[1;33m:\u001b[0m\u001b[1;33m\u001b[0m\u001b[0m\n\u001b[0;32m   2570\u001b[0m                 \u001b[1;32mif\u001b[0m \u001b[0misinstance\u001b[0m\u001b[1;33m(\u001b[0m\u001b[0mvalue\u001b[0m\u001b[1;33m,\u001b[0m \u001b[0mlist\u001b[0m\u001b[1;33m)\u001b[0m \u001b[1;32mand\u001b[0m \u001b[0mlen\u001b[0m\u001b[1;33m(\u001b[0m\u001b[0mvalue\u001b[0m\u001b[1;33m)\u001b[0m \u001b[1;33m>\u001b[0m \u001b[1;36m0\u001b[0m\u001b[1;33m:\u001b[0m\u001b[1;33m\u001b[0m\u001b[0m\n",
      "\u001b[1;32mC:\\Users\\otag\\AppData\\Local\\Continuum\\anaconda3\\envs\\py27\\lib\\site-packages\\pandas\\core\\series.pyc\u001b[0m in \u001b[0;36m_sanitize_index\u001b[1;34m(data, index, copy)\u001b[0m\n\u001b[0;32m   2877\u001b[0m \u001b[1;33m\u001b[0m\u001b[0m\n\u001b[0;32m   2878\u001b[0m     \u001b[1;32mif\u001b[0m \u001b[0mlen\u001b[0m\u001b[1;33m(\u001b[0m\u001b[0mdata\u001b[0m\u001b[1;33m)\u001b[0m \u001b[1;33m!=\u001b[0m \u001b[0mlen\u001b[0m\u001b[1;33m(\u001b[0m\u001b[0mindex\u001b[0m\u001b[1;33m)\u001b[0m\u001b[1;33m:\u001b[0m\u001b[1;33m\u001b[0m\u001b[0m\n\u001b[1;32m-> 2879\u001b[1;33m         \u001b[1;32mraise\u001b[0m \u001b[0mValueError\u001b[0m\u001b[1;33m(\u001b[0m\u001b[1;34m'Length of values does not match length of '\u001b[0m \u001b[1;34m'index'\u001b[0m\u001b[1;33m)\u001b[0m\u001b[1;33m\u001b[0m\u001b[0m\n\u001b[0m\u001b[0;32m   2880\u001b[0m \u001b[1;33m\u001b[0m\u001b[0m\n\u001b[0;32m   2881\u001b[0m     \u001b[1;32mif\u001b[0m \u001b[0misinstance\u001b[0m\u001b[1;33m(\u001b[0m\u001b[0mdata\u001b[0m\u001b[1;33m,\u001b[0m \u001b[0mPeriodIndex\u001b[0m\u001b[1;33m)\u001b[0m\u001b[1;33m:\u001b[0m\u001b[1;33m\u001b[0m\u001b[0m\n",
      "\u001b[1;31mValueError\u001b[0m: Length of values does not match length of index"
     ]
    }
   ],
   "source": [
    "# daytime as a categorical feature\n",
    "bikes['daytime'] = [(bikes.hour <= 12)]"
   ]
  },
  {
   "cell_type": "markdown",
   "metadata": {},
   "source": [
    "## Comparing linear regression with other models\n",
    "\n",
    "Advantages of linear regression:\n",
    "\n",
    "- Simple to explain\n",
    "- Highly interpretable\n",
    "- Model training and prediction are fast\n",
    "- No tuning is required (excluding regularization)\n",
    "- Features don't need scaling\n",
    "- Can perform well with a small number of observations\n",
    "- Well-understood\n",
    "\n",
    "Disadvantages of linear regression:\n",
    "\n",
    "- Presumes a linear relationship between the features and the response\n",
    "- Performance is (generally) not competitive with the best supervised learning methods due to high bias\n",
    "- Can't automatically learn feature interactions"
   ]
  },
  {
   "cell_type": "code",
   "execution_count": null,
   "metadata": {
    "collapsed": true
   },
   "outputs": [],
   "source": []
  },
  {
   "cell_type": "code",
   "execution_count": null,
   "metadata": {
    "collapsed": true
   },
   "outputs": [],
   "source": []
  }
 ],
 "metadata": {
  "kernelspec": {
   "display_name": "Python 2",
   "language": "python",
   "name": "python2"
  },
  "language_info": {
   "codemirror_mode": {
    "name": "ipython",
    "version": 2
   },
   "file_extension": ".py",
   "mimetype": "text/x-python",
   "name": "python",
   "nbconvert_exporter": "python",
   "pygments_lexer": "ipython2",
   "version": "2.7.14"
  }
 },
 "nbformat": 4,
 "nbformat_minor": 1
}
